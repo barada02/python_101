{
 "cells": [
  {
   "cell_type": "markdown",
   "metadata": {},
   "source": [
    "## **Daemon Threads**\n",
    "Daemon threads are background threads that run continuously but do not prevent the program from exiting if the main thread finishes execution.\n",
    "\n",
    "### **Example: Daemon Thread**"
   ]
  },
  {
   "cell_type": "code",
   "execution_count": null,
   "metadata": {},
   "outputs": [],
   "source": [
    "import threading\n",
    "import time\n",
    "\n",
    "stop_event = threading.Event()  # Create a stop signal\n",
    "\n",
    "def background_task():\n",
    "    while not stop_event.is_set():  # Check if the thread should stop\n",
    "        print(\"Running in the background...\")\n",
    "        time.sleep(2)\n",
    "\n",
    "# Start the thread (not daemon)\n",
    "thread = threading.Thread(target=background_task)\n",
    "thread.start()\n",
    "\n",
    "time.sleep(5)  # Main thread sleeps\n",
    "print(\"Stopping the background thread...\")\n",
    "stop_event.set()  # Signal the thread to stop\n",
    "thread.join()  # Ensure it exits cleanly\n",
    "print(\"Thread stopped.\")\n"
   ]
  },
  {
   "cell_type": "markdown",
   "metadata": {},
   "source": [
    "💡 Since the daemon thread is running in the background, it stops as soon as the main thread ends.\n",
    "\n",
    "---"
   ]
  },
  {
   "cell_type": "markdown",
   "metadata": {},
   "source": [
    "## **Multithreading vs. Multiprocessing**\n",
    "| Feature            | Multithreading (`threading`) | Multiprocessing (`multiprocessing`) |\n",
    "|--------------------|------------------|------------------|\n",
    "| Execution Model   | Multiple threads within a single process | Multiple processes, each with its own memory space |\n",
    "| Use Case         | I/O-bound tasks (e.g., web scraping, file I/O) | CPU-bound tasks (e.g., data processing, machine learning) |\n",
    "| Memory Usage     | Shares memory | Separate memory |\n",
    "| Performance Gain | Limited by GIL* | Better for CPU-intensive tasks |\n",
    "| Communication    | Threads communicate via shared memory | Processes use `multiprocessing.Queue` or `Pipe` |\n",
    "\n",
    "> *GIL (Global Interpreter Lock) restricts Python threads from executing simultaneously, making multithreading inefficient for CPU-bound tasks."
   ]
  },
  {
   "cell_type": "markdown",
   "metadata": {},
   "source": [
    "### **Example: When to Use Multiprocessing**\n",
    "If we compute factorials, multiprocessing is faster because it's CPU-intensive:"
   ]
  },
  {
   "cell_type": "code",
   "execution_count": null,
   "metadata": {},
   "outputs": [],
   "source": [
    "from multiprocessing import Pool\n",
    "import time\n",
    "\n",
    "def factorial(n):\n",
    "    result = 1\n",
    "    for i in range(1, n+1):\n",
    "        result *= i\n",
    "    return result\n",
    "\n",
    "numbers = [100000, 100000, 100000]\n",
    "\n",
    "start = time.time()\n",
    "with Pool(processes=3) as pool:\n",
    "    results = pool.map(factorial, numbers)\n",
    "end = time.time()\n",
    "\n",
    "print(\"Multiprocessing Time:\", end - start)"
   ]
  },
  {
   "cell_type": "markdown",
   "metadata": {},
   "source": [
    "Using threads for this task wouldn’t be beneficial due to the GIL.\n",
    "\n",
    "---"
   ]
  },
  {
   "cell_type": "markdown",
   "metadata": {},
   "source": [
    "## **Practical Use Cases**\n",
    "1. **Web Scraping** (I/O-bound)"
   ]
  },
  {
   "cell_type": "code",
   "execution_count": null,
   "metadata": {},
   "outputs": [],
   "source": [
    "import threading\n",
    "import requests\n",
    "\n",
    "def fetch_url(url):\n",
    "    response = requests.get(url)\n",
    "    print(f\"Fetched {url} with {len(response.content)} bytes\")\n",
    "\n",
    "urls = [\"https://www.python.org\", \"https://www.google.com\", \"https://www.github.com\"]\n",
    "\n",
    "threads = [threading.Thread(target=fetch_url, args=(url,)) for url in urls]\n",
    "\n",
    "for thread in threads:\n",
    "     thread.start()\n",
    "for thread in threads:\n",
    "    thread.join()"
   ]
  },
  {
   "cell_type": "markdown",
   "metadata": {},
   "source": [
    "This allows multiple pages to be fetched simultaneously."
   ]
  },
  {
   "cell_type": "markdown",
   "metadata": {},
   "source": [
    "2. **Logging in the Background** (Daemon thread)\n",
    " "
   ]
  },
  {
   "cell_type": "code",
   "execution_count": null,
   "metadata": {},
   "outputs": [],
   "source": [
    "import threading\n",
    "import time\n",
    "\n",
    "stop_event = threading.Event()  # Event to signal stopping\n",
    "\n",
    "def log_messages():\n",
    "    while not stop_event.is_set():  # Run until stop_event is triggered\n",
    "        with open(\"log.txt\", \"a\") as f:\n",
    "            f.write(\"Logging message...\\n\")\n",
    "        time.sleep(1)\n",
    "\n",
    "# Start the logging thread\n",
    "logging_thread = threading.Thread(target=log_messages, daemon=True)\n",
    "logging_thread.start()\n",
    "\n",
    "# Simulate main program running for 5 seconds\n",
    "time.sleep(5)\n",
    "print(\"Stopping logging...\")\n",
    "\n",
    "stop_event.set()  # Signal the thread to stop\n",
    "logging_thread.join()  # Ensure thread exits cleanly\n",
    "print(\"Logging stopped.\")\n"
   ]
  },
  {
   "cell_type": "markdown",
   "metadata": {},
   "source": [
    "The daemon thread stops logging when the main thread exits.\n"
   ]
  },
  {
   "cell_type": "code",
   "execution_count": null,
   "metadata": {},
   "outputs": [],
   "source": []
  }
 ],
 "metadata": {
  "kernelspec": {
   "display_name": "py101",
   "language": "python",
   "name": "python3"
  },
  "language_info": {
   "codemirror_mode": {
    "name": "ipython",
    "version": 3
   },
   "file_extension": ".py",
   "mimetype": "text/x-python",
   "name": "python",
   "nbconvert_exporter": "python",
   "pygments_lexer": "ipython3",
   "version": "3.12.4"
  }
 },
 "nbformat": 4,
 "nbformat_minor": 2
}
