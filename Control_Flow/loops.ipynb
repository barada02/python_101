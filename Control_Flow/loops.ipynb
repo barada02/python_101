{
 "cells": [
  {
   "cell_type": "markdown",
   "metadata": {},
   "source": [
    "# Loops in python\n",
    "\n",
    "Loops are control structures that allow us to execute a block of code multiple times. Python provides two main types of loops: for and while. Additionally, there are loop control statements like break, continue, and pass to alter the flow of loops."
   ]
  },
  {
   "cell_type": "markdown",
   "metadata": {},
   "source": [
    "## 1️⃣ for Loop\n",
    "A for loop is used when you want to iterate over a sequence (list, tuple, string, range, etc.)."
   ]
  },
  {
   "cell_type": "code",
   "execution_count": 1,
   "metadata": {},
   "outputs": [
    {
     "name": "stdout",
     "output_type": "stream",
     "text": [
      "Dinesh\n",
      "Sanjay\n",
      "Sairam\n",
      "Charan\n",
      "Shree\n",
      "Kavya\n",
      "Sneha\n",
      "Hira\n"
     ]
    }
   ],
   "source": [
    "friends = [\"Dinesh\",\"Sanjay\",\"Sairam\",\"Charan\",\"Shree\",\"Kavya\",\"Sneha\",\"Hira\"]\n",
    "for friend in friends:\n",
    "    print(friend)"
   ]
  },
  {
   "cell_type": "markdown",
   "metadata": {},
   "source": [
    "### Using range() with for loop\n",
    "\n",
    "range(start,stop, step)"
   ]
  },
  {
   "cell_type": "code",
   "execution_count": 5,
   "metadata": {},
   "outputs": [
    {
     "name": "stdout",
     "output_type": "stream",
     "text": [
      "hi 1!\n",
      "hi 2!\n",
      "hi 3!\n",
      "hi 4!\n",
      "hi 5!\n",
      "hi 6!\n",
      "hi 7!\n"
     ]
    }
   ],
   "source": [
    "for i in range(1,8):\n",
    "    print(f\"hi {i}!\")"
   ]
  }
 ],
 "metadata": {
  "kernelspec": {
   "display_name": "py101",
   "language": "python",
   "name": "python3"
  },
  "language_info": {
   "codemirror_mode": {
    "name": "ipython",
    "version": 3
   },
   "file_extension": ".py",
   "mimetype": "text/x-python",
   "name": "python",
   "nbconvert_exporter": "python",
   "pygments_lexer": "ipython3",
   "version": "3.12.4"
  }
 },
 "nbformat": 4,
 "nbformat_minor": 2
}
