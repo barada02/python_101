{
 "cells": [
  {
   "cell_type": "markdown",
   "metadata": {},
   "source": [
    "# Loops in python\n",
    "\n",
    "Loops are control structures that allow us to execute a block of code multiple times. Python provides two main types of loops: for and while. Additionally, there are loop control statements like break, continue, and pass to alter the flow of loops."
   ]
  },
  {
   "cell_type": "markdown",
   "metadata": {},
   "source": [
    "## 1️⃣ for Loop\n",
    "A for loop is used when you want to iterate over a sequence (list, tuple, string, range, etc.)."
   ]
  },
  {
   "cell_type": "code",
   "execution_count": 1,
   "metadata": {},
   "outputs": [
    {
     "name": "stdout",
     "output_type": "stream",
     "text": [
      "Dinesh\n",
      "Sanjay\n",
      "Sairam\n",
      "Charan\n",
      "Shree\n",
      "Kavya\n",
      "Sneha\n",
      "Hira\n"
     ]
    }
   ],
   "source": [
    "friends = [\"Dinesh\",\"Sanjay\",\"Sairam\",\"Charan\",\"Shree\",\"Kavya\",\"Sneha\",\"Hira\"]\n",
    "for friend in friends:\n",
    "    print(friend)"
   ]
  },
  {
   "cell_type": "markdown",
   "metadata": {},
   "source": [
    "### Using range() with for loop\n",
    "\n",
    "range(start,stop, step)"
   ]
  },
  {
   "cell_type": "code",
   "execution_count": 5,
   "metadata": {},
   "outputs": [
    {
     "name": "stdout",
     "output_type": "stream",
     "text": [
      "hi 1!\n",
      "hi 2!\n",
      "hi 3!\n",
      "hi 4!\n",
      "hi 5!\n",
      "hi 6!\n",
      "hi 7!\n"
     ]
    }
   ],
   "source": [
    "for i in range(1,8):\n",
    "    print(f\"hi {i}!\")"
   ]
  },
  {
   "cell_type": "markdown",
   "metadata": {},
   "source": [
    "## 2️⃣ while Loop\n",
    "A while loop runs as long as a condition is Ture."
   ]
  },
  {
   "cell_type": "code",
   "execution_count": 13,
   "metadata": {},
   "outputs": [
    {
     "name": "stdout",
     "output_type": "stream",
     "text": [
      "1\n",
      "2\n",
      "3\n",
      "4\n",
      "5\n"
     ]
    }
   ],
   "source": [
    "count = 1\n",
    "while count <= 5:\n",
    "    print(count)\n",
    "    count += 1\n"
   ]
  },
  {
   "cell_type": "code",
   "execution_count": 12,
   "metadata": {},
   "outputs": [
    {
     "name": "stdout",
     "output_type": "stream",
     "text": [
      "Are you ready?\n",
      "Are you ready?\n",
      "Are you ready?\n",
      "Oh thank god\n"
     ]
    }
   ],
   "source": [
    "ready = \"no\"\n",
    "\n",
    "while ready == \"no\":\n",
    "  print(\"Are you ready?\")\n",
    "  answer = input(\"Answer: \")\n",
    "  if answer.lower() == \"yes\":\n",
    "    print(\"Oh thank god\")\n",
    "    ready = \"yes\"\n",
    "  "
   ]
  },
  {
   "cell_type": "markdown",
   "metadata": {},
   "source": [
    "## Nested loops"
   ]
  },
  {
   "cell_type": "markdown",
   "metadata": {},
   "source": [
    "#### Multiplicaiton table"
   ]
  },
  {
   "cell_type": "code",
   "execution_count": 16,
   "metadata": {},
   "outputs": [
    {
     "name": "stdout",
     "output_type": "stream",
     "text": [
      "(1 X 1 = 1 ) (1 X 2 = 2 ) (1 X 3 = 3 ) (1 X 4 = 4 ) (1 X 5 = 5 ) (1 X 6 = 6 ) (1 X 7 = 7 ) (1 X 8 = 8 ) (1 X 9 = 9 ) (1 X 10 = 10 ) \n",
      "(2 X 1 = 2 ) (2 X 2 = 4 ) (2 X 3 = 6 ) (2 X 4 = 8 ) (2 X 5 = 10 ) (2 X 6 = 12 ) (2 X 7 = 14 ) (2 X 8 = 16 ) (2 X 9 = 18 ) (2 X 10 = 20 ) \n",
      "(3 X 1 = 3 ) (3 X 2 = 6 ) (3 X 3 = 9 ) (3 X 4 = 12 ) (3 X 5 = 15 ) (3 X 6 = 18 ) (3 X 7 = 21 ) (3 X 8 = 24 ) (3 X 9 = 27 ) (3 X 10 = 30 ) \n",
      "(4 X 1 = 4 ) (4 X 2 = 8 ) (4 X 3 = 12 ) (4 X 4 = 16 ) (4 X 5 = 20 ) (4 X 6 = 24 ) (4 X 7 = 28 ) (4 X 8 = 32 ) (4 X 9 = 36 ) (4 X 10 = 40 ) \n",
      "(5 X 1 = 5 ) (5 X 2 = 10 ) (5 X 3 = 15 ) (5 X 4 = 20 ) (5 X 5 = 25 ) (5 X 6 = 30 ) (5 X 7 = 35 ) (5 X 8 = 40 ) (5 X 9 = 45 ) (5 X 10 = 50 ) \n",
      "(6 X 1 = 6 ) (6 X 2 = 12 ) (6 X 3 = 18 ) (6 X 4 = 24 ) (6 X 5 = 30 ) (6 X 6 = 36 ) (6 X 7 = 42 ) (6 X 8 = 48 ) (6 X 9 = 54 ) (6 X 10 = 60 ) \n",
      "(7 X 1 = 7 ) (7 X 2 = 14 ) (7 X 3 = 21 ) (7 X 4 = 28 ) (7 X 5 = 35 ) (7 X 6 = 42 ) (7 X 7 = 49 ) (7 X 8 = 56 ) (7 X 9 = 63 ) (7 X 10 = 70 ) \n",
      "(8 X 1 = 8 ) (8 X 2 = 16 ) (8 X 3 = 24 ) (8 X 4 = 32 ) (8 X 5 = 40 ) (8 X 6 = 48 ) (8 X 7 = 56 ) (8 X 8 = 64 ) (8 X 9 = 72 ) (8 X 10 = 80 ) \n",
      "(9 X 1 = 9 ) (9 X 2 = 18 ) (9 X 3 = 27 ) (9 X 4 = 36 ) (9 X 5 = 45 ) (9 X 6 = 54 ) (9 X 7 = 63 ) (9 X 8 = 72 ) (9 X 9 = 81 ) (9 X 10 = 90 ) \n",
      "(10 X 1 = 10 ) (10 X 2 = 20 ) (10 X 3 = 30 ) (10 X 4 = 40 ) (10 X 5 = 50 ) (10 X 6 = 60 ) (10 X 7 = 70 ) (10 X 8 = 80 ) (10 X 9 = 90 ) (10 X 10 = 100 ) \n"
     ]
    }
   ],
   "source": [
    "for i in range(1, 11):  \n",
    "    for j in range(1, 11):\n",
    "        print(f\"({i} X {j} = {i*j} )\", end=\" \")\n",
    "    print()\n"
   ]
  },
  {
   "cell_type": "markdown",
   "metadata": {},
   "source": [
    "## Loop Control Statements\n",
    " * break statement"
   ]
  },
  {
   "cell_type": "code",
   "execution_count": null,
   "metadata": {},
   "outputs": [
    {
     "name": "stdout",
     "output_type": "stream",
     "text": [
      "1\n",
      "2\n",
      "3\n",
      "4\n"
     ]
    }
   ],
   "source": [
    "for num in range(1, 10):\n",
    "    if num == 5:\n",
    "        break  \n",
    "    print(num)\n"
   ]
  },
  {
   "cell_type": "markdown",
   "metadata": {},
   "source": [
    "* Continue Statement"
   ]
  },
  {
   "cell_type": "code",
   "execution_count": null,
   "metadata": {},
   "outputs": [
    {
     "name": "stdout",
     "output_type": "stream",
     "text": [
      "1\n",
      "2\n",
      "4\n",
      "5\n"
     ]
    }
   ],
   "source": [
    "for num in range(1, 6):\n",
    "    if num == 3:\n",
    "        continue # skips the number 3\n",
    "    print(num)\n"
   ]
  },
  {
   "cell_type": "markdown",
   "metadata": {},
   "source": [
    "* pass statement"
   ]
  },
  {
   "cell_type": "code",
   "execution_count": 19,
   "metadata": {},
   "outputs": [
    {
     "name": "stdout",
     "output_type": "stream",
     "text": [
      "1\n",
      "2\n",
      "3\n",
      "4\n",
      "5\n"
     ]
    }
   ],
   "source": [
    "for num in range(1, 6):\n",
    "    if num == 3:\n",
    "        pass  # Does nothing, avoids syntax error\n",
    "    print(num)\n"
   ]
  },
  {
   "cell_type": "markdown",
   "metadata": {},
   "source": [
    "## ``` else ``` with Loops\n",
    "\n",
    "Loops can have an else block, which runs when the loop completes normally (not interrupted by break)."
   ]
  },
  {
   "cell_type": "code",
   "execution_count": 24,
   "metadata": {},
   "outputs": [
    {
     "name": "stdout",
     "output_type": "stream",
     "text": [
      "1\n",
      "2\n",
      "3\n",
      "Loop completed!\n"
     ]
    }
   ],
   "source": [
    "for i in range(1, 4):\n",
    "    print(i)\n",
    "else:\n",
    "    print(\"Loop completed!\")\n"
   ]
  },
  {
   "cell_type": "markdown",
   "metadata": {},
   "source": [
    "💡 if the loop is stoped using break  the else block won't execute"
   ]
  },
  {
   "cell_type": "code",
   "execution_count": 25,
   "metadata": {},
   "outputs": [
    {
     "name": "stdout",
     "output_type": "stream",
     "text": [
      "1\n"
     ]
    }
   ],
   "source": [
    "for i in range(1, 4):\n",
    "    if i == 2:\n",
    "        break\n",
    "    print(i)\n",
    "else:\n",
    "    print(\"Loop completed!\")\n"
   ]
  },
  {
   "cell_type": "markdown",
   "metadata": {},
   "source": [
    "------"
   ]
  },
  {
   "cell_type": "markdown",
   "metadata": {},
   "source": [
    "## Revise: Looping through Different Data Types\n",
    "\n",
    "Python for loops can iterate over different data types."
   ]
  },
  {
   "cell_type": "code",
   "execution_count": 26,
   "metadata": {},
   "outputs": [
    {
     "name": "stdout",
     "output_type": "stream",
     "text": [
      "P y t h o n "
     ]
    }
   ],
   "source": [
    "for char in \"Python\":\n",
    "    print(char, end=\" \")\n"
   ]
  },
  {
   "cell_type": "code",
   "execution_count": 29,
   "metadata": {},
   "outputs": [
    {
     "name": "stdout",
     "output_type": "stream",
     "text": [
      "name: Kavya\n",
      "age: 22\n"
     ]
    }
   ],
   "source": [
    "info = {\"name\": \"Kavya\", \"age\": 22}\n",
    "for key, value in info.items():\n",
    "    print(f\"{key}: {value}\")\n"
   ]
  },
  {
   "cell_type": "code",
   "execution_count": 28,
   "metadata": {},
   "outputs": [
    {
     "name": "stdout",
     "output_type": "stream",
     "text": [
      "0 Alice\n",
      "1 Bob\n",
      "2 Charlie\n"
     ]
    }
   ],
   "source": [
    "names = [\"Alice\", \"Bob\", \"Charlie\"]\n",
    "for index, name in enumerate(names):\n",
    "    print(index, name)\n"
   ]
  },
  {
   "cell_type": "code",
   "execution_count": null,
   "metadata": {},
   "outputs": [
    {
     "name": "stdout",
     "output_type": "stream",
     "text": [
      "0 name\n",
      "1 age\n"
     ]
    },
    {
     "ename": "",
     "evalue": "",
     "output_type": "error",
     "traceback": [
      "\u001b[1;31mThe Kernel crashed while executing code in the current cell or a previous cell. \n",
      "\u001b[1;31mPlease review the code in the cell(s) to identify a possible cause of the failure. \n",
      "\u001b[1;31mClick <a href='https://aka.ms/vscodeJupyterKernelCrash'>here</a> for more info. \n",
      "\u001b[1;31mView Jupyter <a href='command:jupyter.viewOutput'>log</a> for further details."
     ]
    }
   ],
   "source": [
    "info2 = {\"name\": \"Dinesh\", \"age\": 23}\n",
    "for index, key in enumerate(info2):\n",
    "    print(index, key)\n"
   ]
  },
  {
   "cell_type": "markdown",
   "metadata": {},
   "source": [
    "------"
   ]
  },
  {
   "cell_type": "markdown",
   "metadata": {},
   "source": [
    "# Just for Fun"
   ]
  },
  {
   "cell_type": "code",
   "execution_count": 6,
   "metadata": {},
   "outputs": [
    {
     "name": "stdout",
     "output_type": "stream",
     "text": [
      "Attempting to flirt with crush...\n",
      "You say: Are you a Wi-Fi signal? Because I'm feeling a strong connection!\n",
      "Crush: *polite laugh*\n",
      "Crush interest level: 10%\n",
      "\n",
      "You say: Do you have a map? I keep getting lost in your eyes.\n",
      "Crush: *awkward silence*\n",
      "You: Um... anyway...\n",
      "Crush interest level: 10%\n",
      "\n",
      "You say: Are you made of copper and tellurium? Because you're Cu-Te!\n",
      "Crush: *smiles and blushes*\n",
      "Crush interest level: 35%\n",
      "\n",
      "You say: Is your name Google? Because you have everything I've been searching for.\n",
      "Crush: *polite laugh*\n",
      "Crush interest level: 45%\n",
      "\n",
      "You say: Are you made of copper and tellurium? Because you're Cu-Te!\n",
      "Crush: *awkward silence*\n",
      "You: Um... anyway...\n",
      "Crush interest level: 45%\n",
      "\n",
      "You say: Are you made of copper and tellurium? Because you're Cu-Te!\n",
      "Crush: *awkward silence*\n",
      "You: Um... anyway...\n",
      "Crush interest level: 45%\n",
      "\n",
      "You say: Is your name Google? Because you have everything I've been searching for.\n",
      "Crush: *smiles and blushes*\n",
      "Crush interest level: 70%\n",
      "\n",
      "You say: Are you made of copper and tellurium? Because you're Cu-Te!\n",
      "Crush: *awkward silence*\n",
      "You: Um... anyway...\n",
      "Crush interest level: 70%\n",
      "\n",
      "You say: Do you have a map? I keep getting lost in your eyes.\n",
      "Crush: *polite laugh*\n",
      "Crush interest level: 80%\n",
      "\n",
      "You say: Is your name Google? Because you have everything I've been searching for.\n",
      "Crush: *smiles and blushes*\n",
      "Crush interest level: 105%\n",
      "\n",
      "Success! You got their number!\n"
     ]
    }
   ],
   "source": [
    "import random\n",
    "import time\n",
    "\n",
    "crush_interest = 0\n",
    "attempts = 0\n",
    "lines = [\n",
    "    \"Are you a Wi-Fi signal? Because I'm feeling a strong connection!\",\n",
    "    \"Is your name Google? Because you have everything I've been searching for.\",\n",
    "    \"Are you made of copper and tellurium? Because you're Cu-Te!\",\n",
    "    \"If you were a vegetable, you'd be a cute-cumber!\",\n",
    "    \"Do you have a map? I keep getting lost in your eyes.\"\n",
    "]\n",
    "\n",
    "print(\"Attempting to flirt with crush...\")\n",
    "while crush_interest < 100 and attempts < 10:\n",
    "    pickup_line = random.choice(lines)\n",
    "    print(f\"You say: {pickup_line}\")\n",
    "    time.sleep(1)\n",
    "    \n",
    "    # Crush's reaction is unpredictable\n",
    "    reaction = random.randint(1, 20)\n",
    "    attempts += 1\n",
    "    \n",
    "    if reaction > 15:\n",
    "        print(\"Crush: *smiles and blushes*\")\n",
    "        crush_interest += 25\n",
    "    elif reaction > 8:\n",
    "        print(\"Crush: *polite laugh*\")\n",
    "        crush_interest += 10\n",
    "    else:\n",
    "        print(\"Crush: *awkward silence*\")\n",
    "        print(\"You: Um... anyway...\")\n",
    "        \n",
    "    print(f\"Crush interest level: {crush_interest}%\\n\")\n",
    "\n",
    "if crush_interest >= 100:\n",
    "    print(\"Success! You got their number!\")\n",
    "else:\n",
    "    print(\"Maybe try again another day... or with better lines!\")"
   ]
  }
 ],
 "metadata": {
  "kernelspec": {
   "display_name": "py101",
   "language": "python",
   "name": "python3"
  },
  "language_info": {
   "codemirror_mode": {
    "name": "ipython",
    "version": 3
   },
   "file_extension": ".py",
   "mimetype": "text/x-python",
   "name": "python",
   "nbconvert_exporter": "python",
   "pygments_lexer": "ipython3",
   "version": "3.12.4"
  }
 },
 "nbformat": 4,
 "nbformat_minor": 2
}
