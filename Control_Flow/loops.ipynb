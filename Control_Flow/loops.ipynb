{
 "cells": [
  {
   "cell_type": "markdown",
   "metadata": {},
   "source": [
    "# Loops in python\n",
    "\n",
    "Loops are control structures that allow us to execute a block of code multiple times. Python provides two main types of loops: for and while. Additionally, there are loop control statements like break, continue, and pass to alter the flow of loops."
   ]
  },
  {
   "cell_type": "markdown",
   "metadata": {},
   "source": [
    "## 1️⃣ for Loop\n",
    "A for loop is used when you want to iterate over a sequence (list, tuple, string, range, etc.)."
   ]
  },
  {
   "cell_type": "code",
   "execution_count": 1,
   "metadata": {},
   "outputs": [
    {
     "name": "stdout",
     "output_type": "stream",
     "text": [
      "Dinesh\n",
      "Sanjay\n",
      "Sairam\n",
      "Charan\n",
      "Shree\n",
      "Kavya\n",
      "Sneha\n",
      "Hira\n"
     ]
    }
   ],
   "source": [
    "friends = [\"Dinesh\",\"Sanjay\",\"Sairam\",\"Charan\",\"Shree\",\"Kavya\",\"Sneha\",\"Hira\"]\n",
    "for friend in friends:\n",
    "    print(friend)"
   ]
  },
  {
   "cell_type": "markdown",
   "metadata": {},
   "source": [
    "### Using range() with for loop\n",
    "\n",
    "range(start,stop, step)"
   ]
  },
  {
   "cell_type": "code",
   "execution_count": 5,
   "metadata": {},
   "outputs": [
    {
     "name": "stdout",
     "output_type": "stream",
     "text": [
      "hi 1!\n",
      "hi 2!\n",
      "hi 3!\n",
      "hi 4!\n",
      "hi 5!\n",
      "hi 6!\n",
      "hi 7!\n"
     ]
    }
   ],
   "source": [
    "for i in range(1,8):\n",
    "    print(f\"hi {i}!\")"
   ]
  },
  {
   "cell_type": "markdown",
   "metadata": {},
   "source": [
    "## 2️⃣ while Loop\n",
    "A while loop runs as long as a condition is Ture."
   ]
  },
  {
   "cell_type": "code",
   "execution_count": 13,
   "metadata": {},
   "outputs": [
    {
     "name": "stdout",
     "output_type": "stream",
     "text": [
      "1\n",
      "2\n",
      "3\n",
      "4\n",
      "5\n"
     ]
    }
   ],
   "source": [
    "count = 1\n",
    "while count <= 5:\n",
    "    print(count)\n",
    "    count += 1\n"
   ]
  },
  {
   "cell_type": "code",
   "execution_count": 12,
   "metadata": {},
   "outputs": [
    {
     "name": "stdout",
     "output_type": "stream",
     "text": [
      "Are you ready?\n",
      "Are you ready?\n",
      "Are you ready?\n",
      "Oh thank god\n"
     ]
    }
   ],
   "source": [
    "ready = \"no\"\n",
    "\n",
    "while ready == \"no\":\n",
    "  print(\"Are you ready?\")\n",
    "  answer = input(\"Answer: \")\n",
    "  if answer.lower() == \"yes\":\n",
    "    print(\"Oh thank god\")\n",
    "    ready = \"yes\"\n",
    "  "
   ]
  },
  {
   "cell_type": "markdown",
   "metadata": {},
   "source": [
    "## Nested loops"
   ]
  },
  {
   "cell_type": "code",
   "execution_count": 7,
   "metadata": {},
   "outputs": [
    {
     "name": "stdout",
     "output_type": "stream",
     "text": [
      "What do you want for dinner? (Suggestion #1)\n",
      "What do you want for dinner? (Suggestion #2)\n",
      "What do you want for dinner? (Suggestion #3)\n",
      "What do you want for dinner? (Suggestion #4)\n",
      "What do you want for dinner? (Suggestion #5)\n",
      "What do you want for dinner? (Suggestion #6)\n",
      "What do you want for dinner? (Suggestion #7)\n",
      "What do you want for dinner? (Suggestion #8)\n",
      "What do you want for dinner? (Suggestion #9)\n",
      "What do you want for dinner? (Suggestion #10)\n",
      "Fine! We're getting pizza for the 5th time this week.\n"
     ]
    }
   ],
   "source": [
    "# The indecisive dinner loop\n",
    "food_choice = \"I don't know\"\n",
    "suggestions = 0\n",
    "\n",
    "while food_choice == \"I don't know\":\n",
    "    suggestions += 1\n",
    "    print(f\"What do you want for dinner? (Suggestion #{suggestions})\")\n",
    "    if suggestions == 10:\n",
    "        food_choice = \"pizza... again\"\n",
    "        print(\"Fine! We're getting pizza for the 5th time this week.\")"
   ]
  },
  {
   "cell_type": "markdown",
   "metadata": {},
   "source": [
    "# Just for Fun"
   ]
  },
  {
   "cell_type": "code",
   "execution_count": 6,
   "metadata": {},
   "outputs": [
    {
     "name": "stdout",
     "output_type": "stream",
     "text": [
      "Attempting to flirt with crush...\n",
      "You say: Are you a Wi-Fi signal? Because I'm feeling a strong connection!\n",
      "Crush: *polite laugh*\n",
      "Crush interest level: 10%\n",
      "\n",
      "You say: Do you have a map? I keep getting lost in your eyes.\n",
      "Crush: *awkward silence*\n",
      "You: Um... anyway...\n",
      "Crush interest level: 10%\n",
      "\n",
      "You say: Are you made of copper and tellurium? Because you're Cu-Te!\n",
      "Crush: *smiles and blushes*\n",
      "Crush interest level: 35%\n",
      "\n",
      "You say: Is your name Google? Because you have everything I've been searching for.\n",
      "Crush: *polite laugh*\n",
      "Crush interest level: 45%\n",
      "\n",
      "You say: Are you made of copper and tellurium? Because you're Cu-Te!\n",
      "Crush: *awkward silence*\n",
      "You: Um... anyway...\n",
      "Crush interest level: 45%\n",
      "\n",
      "You say: Are you made of copper and tellurium? Because you're Cu-Te!\n",
      "Crush: *awkward silence*\n",
      "You: Um... anyway...\n",
      "Crush interest level: 45%\n",
      "\n",
      "You say: Is your name Google? Because you have everything I've been searching for.\n",
      "Crush: *smiles and blushes*\n",
      "Crush interest level: 70%\n",
      "\n",
      "You say: Are you made of copper and tellurium? Because you're Cu-Te!\n",
      "Crush: *awkward silence*\n",
      "You: Um... anyway...\n",
      "Crush interest level: 70%\n",
      "\n",
      "You say: Do you have a map? I keep getting lost in your eyes.\n",
      "Crush: *polite laugh*\n",
      "Crush interest level: 80%\n",
      "\n",
      "You say: Is your name Google? Because you have everything I've been searching for.\n",
      "Crush: *smiles and blushes*\n",
      "Crush interest level: 105%\n",
      "\n",
      "Success! You got their number!\n"
     ]
    }
   ],
   "source": [
    "import random\n",
    "import time\n",
    "\n",
    "crush_interest = 0\n",
    "attempts = 0\n",
    "lines = [\n",
    "    \"Are you a Wi-Fi signal? Because I'm feeling a strong connection!\",\n",
    "    \"Is your name Google? Because you have everything I've been searching for.\",\n",
    "    \"Are you made of copper and tellurium? Because you're Cu-Te!\",\n",
    "    \"If you were a vegetable, you'd be a cute-cumber!\",\n",
    "    \"Do you have a map? I keep getting lost in your eyes.\"\n",
    "]\n",
    "\n",
    "print(\"Attempting to flirt with crush...\")\n",
    "while crush_interest < 100 and attempts < 10:\n",
    "    pickup_line = random.choice(lines)\n",
    "    print(f\"You say: {pickup_line}\")\n",
    "    time.sleep(1)\n",
    "    \n",
    "    # Crush's reaction is unpredictable\n",
    "    reaction = random.randint(1, 20)\n",
    "    attempts += 1\n",
    "    \n",
    "    if reaction > 15:\n",
    "        print(\"Crush: *smiles and blushes*\")\n",
    "        crush_interest += 25\n",
    "    elif reaction > 8:\n",
    "        print(\"Crush: *polite laugh*\")\n",
    "        crush_interest += 10\n",
    "    else:\n",
    "        print(\"Crush: *awkward silence*\")\n",
    "        print(\"You: Um... anyway...\")\n",
    "        \n",
    "    print(f\"Crush interest level: {crush_interest}%\\n\")\n",
    "\n",
    "if crush_interest >= 100:\n",
    "    print(\"Success! You got their number!\")\n",
    "else:\n",
    "    print(\"Maybe try again another day... or with better lines!\")"
   ]
  }
 ],
 "metadata": {
  "kernelspec": {
   "display_name": "py101",
   "language": "python",
   "name": "python3"
  },
  "language_info": {
   "codemirror_mode": {
    "name": "ipython",
    "version": 3
   },
   "file_extension": ".py",
   "mimetype": "text/x-python",
   "name": "python",
   "nbconvert_exporter": "python",
   "pygments_lexer": "ipython3",
   "version": "3.12.4"
  }
 },
 "nbformat": 4,
 "nbformat_minor": 2
}
