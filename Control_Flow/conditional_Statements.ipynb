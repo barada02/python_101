{
 "cells": [
  {
   "cell_type": "markdown",
   "metadata": {},
   "source": [
    "# Conditional Statements in Python – A Detailed Guide\n",
    "Conditional statements allow a program to execute certain pieces of code only when specific conditions are met. They help control the flow of execution based on conditions that evaluate to True or False."
   ]
  },
  {
   "cell_type": "markdown",
   "metadata": {},
   "source": [
    "## 1️⃣  if Statement\n",
    "if statement is used to execute a block of code only if a condition is True.\n",
    "\n",
    "```\n",
    "if condition:\n",
    "    # Code block executed if condition is True\n",
    "\n",
    "\n",
    "```"
   ]
  },
  {
   "cell_type": "code",
   "execution_count": 1,
   "metadata": {},
   "outputs": [
    {
     "name": "stdout",
     "output_type": "stream",
     "text": [
      "Get ready to choose leadr but not carrier\n"
     ]
    }
   ],
   "source": [
    "age = 18\n",
    "if age>= 18:\n",
    "    print(\"Get ready to choose leadr but not carrier\")"
   ]
  },
  {
   "cell_type": "markdown",
   "metadata": {},
   "source": [
    "## 2️⃣ if-else Statement\n",
    "\n",
    "The if-else statement provides an alternative block of code that executes when the condition is False.\n",
    "\n",
    "```\n",
    "if condition:\n",
    "    # Executes if condition is True\n",
    "else:\n",
    "    # Executes if condition is False\n",
    "\n",
    "```"
   ]
  },
  {
   "cell_type": "code",
   "execution_count": 2,
   "metadata": {},
   "outputs": [
    {
     "name": "stdout",
     "output_type": "stream",
     "text": [
      "You are not eligible to vote.\n"
     ]
    }
   ],
   "source": [
    "age = 16\n",
    "if age >= 18:\n",
    "    print(\"You are eligible to vote.\")\n",
    "else:\n",
    "    print(\"You are not eligible to vote.\")\n"
   ]
  },
  {
   "cell_type": "markdown",
   "metadata": {},
   "source": [
    "## 3️⃣ if-elif-else Statement\n",
    "The if-elif-else statement is used when multiple conditions need to be checked in sequence.\n",
    "\n",
    "```\n",
    "if condition1:\n",
    "    # Executes if condition1 is True\n",
    "elif condition2:\n",
    "    # Executes if condition2 is True\n",
    "else:\n",
    "    # Executes if none of the conditions are True\n",
    "\n",
    "```"
   ]
  },
  {
   "cell_type": "code",
   "execution_count": 3,
   "metadata": {},
   "outputs": [
    {
     "name": "stdout",
     "output_type": "stream",
     "text": [
      "Grade: B\n"
     ]
    }
   ],
   "source": [
    "score = 85\n",
    "\n",
    "if score >= 90:\n",
    "    print(\"Grade: A\")\n",
    "elif score >= 80:\n",
    "    print(\"Grade: B\")\n",
    "elif score >= 70:\n",
    "    print(\"Grade: C\")\n",
    "else:\n",
    "    print(\"Grade: F\")\n"
   ]
  },
  {
   "cell_type": "markdown",
   "metadata": {},
   "source": [
    "##   4️⃣ Nested if Statements\n",
    "\n",
    "An if statement inside another if statement is called a nested if.\n",
    "\n",
    "```python\n",
    "if condition1:\n",
    "    if condition2:\n",
    "        # Executes if both condition1 and condition2 are True\n",
    "\n",
    "```"
   ]
  },
  {
   "cell_type": "code",
   "execution_count": 4,
   "metadata": {},
   "outputs": [
    {
     "name": "stdout",
     "output_type": "stream",
     "text": [
      "Positive number\n",
      "Even number\n"
     ]
    }
   ],
   "source": [
    "num = 10\n",
    "\n",
    "if num > 0:\n",
    "    print(\"Positive number\")\n",
    "    if num % 2 == 0:\n",
    "        print(\"Even number\")\n"
   ]
  },
  {
   "cell_type": "markdown",
   "metadata": {},
   "source": [
    "## 5️⃣ Ternary Operator (if in One Line)\n",
    "\n",
    "Python allows writing an if-else statement in a single line using a ternary operator.\n",
    "\n",
    "```python\n",
    "variable = value_if_true if condition else value_if_false\n",
    "\n",
    "```"
   ]
  },
  {
   "cell_type": "code",
   "execution_count": 5,
   "metadata": {},
   "outputs": [
    {
     "name": "stdout",
     "output_type": "stream",
     "text": [
      "Adult\n"
     ]
    }
   ],
   "source": [
    "age = 20\n",
    "status = \"Adult\" if age >= 18 else \"Minor\"\n",
    "print(status)\n"
   ]
  },
  {
   "cell_type": "markdown",
   "metadata": {},
   "source": [
    "-----"
   ]
  },
  {
   "cell_type": "markdown",
   "metadata": {},
   "source": [
    "## 6️⃣ match-case (Python 3.10+)"
   ]
  },
  {
   "cell_type": "markdown",
   "metadata": {},
   "source": [
    "````python\n",
    "\n",
    "match variable:\n",
    "    case value1:\n",
    "        # Code block for value1\n",
    "    case value2:\n",
    "        # Code block for value2\n",
    "    case _:\n",
    "        # Default case (like else)\n",
    "\n",
    "````"
   ]
  },
  {
   "cell_type": "code",
   "execution_count": 6,
   "metadata": {},
   "outputs": [
    {
     "name": "stdout",
     "output_type": "stream",
     "text": [
      "Start of the workweek\n"
     ]
    }
   ],
   "source": [
    "day = \"Monday\"\n",
    "\n",
    "match day:\n",
    "    case \"Monday\":\n",
    "        print(\"Start of the workweek\")\n",
    "    case \"Friday\":\n",
    "        print(\"Weekend is near!\")\n",
    "    case _:\n",
    "        print(\"A regular day\")\n"
   ]
  },
  {
   "cell_type": "markdown",
   "metadata": {},
   "source": [
    "## 7️⃣ Boolean Logic in Conditions\n",
    "Logical operators can be used in conditional statements:\n",
    "\n",
    "| Operator |\tDescription\t|Example |\n",
    "|-----------|--------------|----------|\n",
    "|and\t|Both conditions must be True\t|if x > 0 and y > 0:|\n",
    "or\t|At least one condition is True\t|if x > 0 or y > 0:|\n",
    "not\t|Negates the condition\t|if not x == y:|"
   ]
  },
  {
   "cell_type": "code",
   "execution_count": 7,
   "metadata": {},
   "outputs": [
    {
     "name": "stdout",
     "output_type": "stream",
     "text": [
      "Both are positive numbers.\n"
     ]
    }
   ],
   "source": [
    "x, y = 5, 10\n",
    "\n",
    "if x > 0 and y > 0:\n",
    "    print(\"Both are positive numbers.\")\n"
   ]
  }
 ],
 "metadata": {
  "kernelspec": {
   "display_name": "py101",
   "language": "python",
   "name": "python3"
  },
  "language_info": {
   "codemirror_mode": {
    "name": "ipython",
    "version": 3
   },
   "file_extension": ".py",
   "mimetype": "text/x-python",
   "name": "python",
   "nbconvert_exporter": "python",
   "pygments_lexer": "ipython3",
   "version": "3.12.4"
  }
 },
 "nbformat": 4,
 "nbformat_minor": 2
}
