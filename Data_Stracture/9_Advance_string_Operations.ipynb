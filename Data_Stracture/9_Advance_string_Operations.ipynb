{
 "cells": [
  {
   "cell_type": "markdown",
   "metadata": {},
   "source": [
    "# Advanced String Operations \n",
    "\n"
   ]
  },
  {
   "cell_type": "markdown",
   "metadata": {},
   "source": [
    "## String Compression & Decompression\n",
    "🔹 Why Compress Strings?\n",
    " Saves memory and storage (important for large datasets). <br>\n",
    "Reduces data transmission time in networks. <br>\n",
    "Used in log file compression, text-based storage formats, and optimizing APIs."
   ]
  },
  {
   "cell_type": "markdown",
   "metadata": {},
   "source": [
    "🔹 1. Run-Length Encoding (RLE) - Simple Compression\n",
    "\n",
    "💡 Concept: Replace consecutive duplicate characters with character + count"
   ]
  },
  {
   "cell_type": "code",
   "execution_count": 2,
   "metadata": {},
   "outputs": [
    {
     "name": "stdout",
     "output_type": "stream",
     "text": [
      "M1i1s2i1s2i1p2i1\n",
      "Mississippi\n"
     ]
    }
   ],
   "source": [
    "def rle_compress(s):\n",
    "    compressed = []\n",
    "    i = 0\n",
    "    while i < len(s):\n",
    "        count = 1\n",
    "        while i + 1 < len(s) and s[i] == s[i + 1]:\n",
    "            count += 1\n",
    "            i += 1\n",
    "        compressed.append(s[i] + str(count))\n",
    "        i += 1\n",
    "    return ''.join(compressed)\n",
    "\n",
    "def rle_decompress(s):\n",
    "    decompressed = []\n",
    "    i = 0\n",
    "    while i < len(s):\n",
    "        char = s[i]\n",
    "        i += 1\n",
    "        count = ''\n",
    "        while i < len(s) and s[i].isdigit():\n",
    "            count += s[i]\n",
    "            i += 1\n",
    "        decompressed.append(char * int(count))\n",
    "    return ''.join(decompressed)\n",
    "\n",
    "# Example\n",
    "text = \"Mississippi\"\n",
    "compressed = rle_compress(text)\n",
    "print(compressed) \n",
    "print(rle_decompress(compressed))  \n"
   ]
  },
  {
   "cell_type": "code",
   "execution_count": 3,
   "metadata": {},
   "outputs": [
    {
     "name": "stdout",
     "output_type": "stream",
     "text": [
      "S1u1c2e1s2f1u1l2y1\n",
      "Successfully\n"
     ]
    }
   ],
   "source": [
    "comp = rle_compress(\"Successfully\")\n",
    "print(comp)\n",
    "print(rle_decompress(comp))"
   ]
  }
 ],
 "metadata": {
  "kernelspec": {
   "display_name": "py101",
   "language": "python",
   "name": "python3"
  },
  "language_info": {
   "codemirror_mode": {
    "name": "ipython",
    "version": 3
   },
   "file_extension": ".py",
   "mimetype": "text/x-python",
   "name": "python",
   "nbconvert_exporter": "python",
   "pygments_lexer": "ipython3",
   "version": "3.12.4"
  }
 },
 "nbformat": 4,
 "nbformat_minor": 2
}
