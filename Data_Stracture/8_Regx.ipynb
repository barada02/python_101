{
 "cells": [
  {
   "cell_type": "markdown",
   "metadata": {},
   "source": [
    "# Regular Expressions (Regex) in Python\n",
    "Regular Expressions (regex) allow pattern-based searching, extraction, and manipulation of text. Python provides the re module to work with regex. Mastering regex is crucial for text processing ."
   ]
  },
  {
   "cell_type": "markdown",
   "metadata": {},
   "source": [
    " ## i Basics of Regex\n",
    "📌 A regular expression is a sequence of characters that defines a search pattern. It helps in:\n",
    "✔ Finding patterns in text (emails, phone numbers, URLs)\n",
    "✔ Data validation (checking if input is in the correct format)\n",
    "✔ Extracting information (getting hashtags from tweets, parsing logs)\n",
    "\n",
    "Common Regex Functions in Python (re module)\n",
    "|Function\t|Description|\n",
    "|-----------|-----------|\n",
    "|re.match(pattern, string)|\tChecks if the pattern matches at the beginning of the string\n",
    "re.search(pattern, string)|\tSearches anywhere in the string for a match\n",
    "re.findall(pattern, string)|\tReturns all matches as a list\n",
    "re.finditer(pattern, string) |\tReturns an iterator with match objects\n",
    "re.sub(pattern, replace, string) |\tReplaces occurrences of pattern\n",
    "re.split(pattern, string) |\tSplits string by the pattern\n",
    "\n",
    "## ii Special Characters in Regex\n",
    "\n",
    "|Character|\tMeaning|\n",
    "|----------|--------|\n",
    ". |\tMatches any character (except newline)\n",
    "^ |\tMatches the start of a string\n",
    "$ | Matches the end of a string|\n",
    "|* | Matches 0 or more occurrences\n",
    "|+ | Matches 1 or more occurrences\n",
    "? | Matches 0 or 1 occurrence (optional)\n",
    "{n} | Matches exactly n occurrences\n",
    "{n,}\t| Matches at least n occurrences\n",
    "{n,m} |\tMatches between n and m occurrences\n",
    "[] |\tMatches any character inside the brackets\n",
    "\\d |\tMatches digits (0-9)\n",
    "\\D |\tMatches non-digits\n",
    "\\w\t| Matches alphanumeric (a-z, A-Z, 0-9, _)\n",
    "\\W\t| Matches non-alphanumeric\n",
    "\\s\t| Matches whitespace (space, tab, newline)\n",
    "\\S\t| Matches non-whitespace"
   ]
  }
 ],
 "metadata": {
  "kernelspec": {
   "display_name": "py101",
   "language": "python",
   "name": "python3"
  },
  "language_info": {
   "name": "python",
   "version": "3.12.4"
  }
 },
 "nbformat": 4,
 "nbformat_minor": 2
}
