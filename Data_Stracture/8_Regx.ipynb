{
 "cells": [
  {
   "cell_type": "markdown",
   "metadata": {},
   "source": [
    "# Regular Expressions (Regex) in Python\n",
    "Regular Expressions (regex) allow pattern-based searching, extraction, and manipulation of text. Python provides the re module to work with regex. Mastering regex is crucial for text processing ."
   ]
  },
  {
   "cell_type": "markdown",
   "metadata": {},
   "source": [
    " ## i Basics of Regex\n",
    "📌 A regular expression is a sequence of characters that defines a search pattern. It helps in: <br>\n",
    "✔ Finding patterns in text (emails, phone numbers, URLs) <br>\n",
    "✔ Data validation (checking if input is in the correct format) <br>\n",
    "✔ Extracting information (getting hashtags from tweets, parsing logs)\n",
    "\n",
    "Common Regex Functions in Python (re module)\n",
    "|Function\t|Description|\n",
    "|-----------|-----------|\n",
    "|re.match(pattern, string)|\tChecks if the pattern matches at the beginning of the string\n",
    "re.search(pattern, string)|\tSearches anywhere in the string for a match\n",
    "re.findall(pattern, string)|\tReturns all matches as a list\n",
    "re.finditer(pattern, string) |\tReturns an iterator with match objects\n",
    "re.sub(pattern, replace, string) |\tReplaces occurrences of pattern\n",
    "re.split(pattern, string) |\tSplits string by the pattern\n",
    "\n",
    "## ii Special Characters in Regex\n",
    "\n",
    "|Character|\tMeaning|\n",
    "|----------|--------|\n",
    ". |\tMatches any character (except newline)\n",
    "^ |\tMatches the start of a string\n",
    "$ | Matches the end of a string|\n",
    "|* | Matches 0 or more occurrences\n",
    "|+ | Matches 1 or more occurrences\n",
    "? | Matches 0 or 1 occurrence (optional)\n",
    "{n} | Matches exactly n occurrences\n",
    "{n,}\t| Matches at least n occurrences\n",
    "{n,m} |\tMatches between n and m occurrences\n",
    "[] |\tMatches any character inside the brackets\n",
    "\\d |\tMatches digits (0-9)\n",
    "\\D |\tMatches non-digits\n",
    "\\w\t| Matches alphanumeric (a-z, A-Z, 0-9, _)\n",
    "\\W\t| Matches non-alphanumeric\n",
    "\\s\t| Matches whitespace (space, tab, newline)\n",
    "\\S\t| Matches non-whitespace"
   ]
  },
  {
   "cell_type": "code",
   "execution_count": 6,
   "metadata": {},
   "outputs": [
    {
     "name": "stdout",
     "output_type": "stream",
     "text": [
      "<re.Match object; span=(18, 24), match='python'>\n"
     ]
    }
   ],
   "source": [
    "import re\n",
    "\n",
    "text = \"Hi there, This is python 101\"\n",
    "\n",
    "pattern = \"python\"\n",
    "match = re.search(pattern,text)\n",
    "print(match)"
   ]
  },
  {
   "cell_type": "markdown",
   "metadata": {},
   "source": [
    "### Finding All Matches (re.findall())\n"
   ]
  },
  {
   "cell_type": "code",
   "execution_count": 11,
   "metadata": {},
   "outputs": [
    {
     "name": "stdout",
     "output_type": "stream",
     "text": [
      "['shyam@gmail.com', 'shyam@ctechmail.com']\n"
     ]
    }
   ],
   "source": [
    "shyam_said = \"Mail me the report at shyam@gmail.com and shyam@ctechmail.com\"\n",
    "\n",
    "emails = re.findall(r'\\S+@\\S+',shyam_said)\n",
    "\n",
    "print(emails)"
   ]
  },
  {
   "cell_type": "markdown",
   "metadata": {},
   "source": [
    "### Extracting Phone Numbers"
   ]
  },
  {
   "cell_type": "code",
   "execution_count": null,
   "metadata": {},
   "outputs": [],
   "source": [
    "text = \"My number is 9876543210, but you can also reach me at (123) 456-7890.\"\n",
    "pattern = r'\\(?\\d{3}\\)?[-.\\s]?\\d{3}[-.\\s]?\\d{4}'\n",
    "\n",
    "phones = re.findall(pattern, text)\n",
    "print(phones)  \n"
   ]
  },
  {
   "cell_type": "markdown",
   "metadata": {},
   "source": [
    "### Replacing Text (re.sub())\n",
    "\n"
   ]
  },
  {
   "cell_type": "code",
   "execution_count": null,
   "metadata": {},
   "outputs": [],
   "source": [
    "text = \"I love Java. Java is great!\"\n",
    "new_text = re.sub(r'Java', 'Python', text)\n",
    "print(new_text)  \n"
   ]
  },
  {
   "cell_type": "markdown",
   "metadata": {},
   "source": [
    "#### Validating Email Format"
   ]
  },
  {
   "cell_type": "code",
   "execution_count": null,
   "metadata": {},
   "outputs": [
    {
     "name": "stdout",
     "output_type": "stream",
     "text": [
      "True\n",
      "False\n"
     ]
    }
   ],
   "source": [
    "def is_valid_email(email):\n",
    "    pattern = r'^[a-zA-Z0-9_.+-]+@[a-zA-Z0-9-]+\\.[a-zA-Z0-9-.]+$'\n",
    "    return bool(re.match(pattern, email))\n",
    "\n",
    "print(is_valid_email(\"user@example.com\")) \n",
    "print(is_valid_email(\"invalid-email\"))  \n"
   ]
  },
  {
   "cell_type": "markdown",
   "metadata": {},
   "source": [
    "## Regex Interview Questions"
   ]
  },
  {
   "cell_type": "markdown",
   "metadata": {},
   "source": [
    "1. Find all words that start with \"s\" in a sentence"
   ]
  },
  {
   "cell_type": "code",
   "execution_count": 13,
   "metadata": {},
   "outputs": [
    {
     "name": "stdout",
     "output_type": "stream",
     "text": [
      "['Sam', 'sells', 'sea', 'shells', 'seashore']\n"
     ]
    }
   ],
   "source": [
    "text = \"Sam sells sea shells on the seashore.\"\n",
    "words = re.findall(r'\\bs\\w*', text, re.IGNORECASE)\n",
    "print(words)"
   ]
  },
  {
   "cell_type": "markdown",
   "metadata": {},
   "source": [
    "2. Extract Hashtags from a Tweet"
   ]
  },
  {
   "cell_type": "code",
   "execution_count": 14,
   "metadata": {},
   "outputs": [
    {
     "name": "stdout",
     "output_type": "stream",
     "text": [
      "['#Python', '#Coding', '#AI']\n"
     ]
    }
   ],
   "source": [
    "tweet = \"Learning #Python is fun! #Coding #AI\"\n",
    "hashtags = re.findall(r'#\\w+', tweet)\n",
    "print(hashtags) \n"
   ]
  },
  {
   "cell_type": "markdown",
   "metadata": {},
   "source": [
    "3. Check if a String is a Valid IP Address"
   ]
  },
  {
   "cell_type": "code",
   "execution_count": 15,
   "metadata": {},
   "outputs": [
    {
     "name": "stdout",
     "output_type": "stream",
     "text": [
      "True\n",
      "False\n"
     ]
    }
   ],
   "source": [
    "def is_valid_ip(ip):\n",
    "    pattern = r'^(25[0-5]|2[0-4][0-9]|1?[0-9][0-9]?)\\.(25[0-5]|2[0-4][0-9]|1?[0-9][0-9]?)\\.(25[0-5]|2[0-4][0-9]|1?[0-9][0-9]?)\\.(25[0-5]|2[0-4][0-9]|1?[0-9][0-9]?)$'\n",
    "    return bool(re.match(pattern, ip))\n",
    "\n",
    "print(is_valid_ip(\"192.168.1.1\"))  # True\n",
    "print(is_valid_ip(\"999.999.999.999\"))  # False\n"
   ]
  },
  {
   "cell_type": "markdown",
   "metadata": {},
   "source": [
    "4. Extract Dates from a Text"
   ]
  },
  {
   "cell_type": "code",
   "execution_count": null,
   "metadata": {},
   "outputs": [],
   "source": [
    "text = \"Today's date is 12-08-2024 and tomorrow is 13/08/2024.\"\n",
    "dates = re.findall(r'\\b\\d{1,2}[-/]\\d{1,2}[-/]\\d{4}\\b', text)\n",
    "print(dates)  \n"
   ]
  },
  {
   "cell_type": "markdown",
   "metadata": {},
   "source": [
    "5. Validate Strong Password\n",
    "A strong password must: <br>\n",
    "✔ Be 8+ characters long <br>\n",
    "✔ Contain at least 1 uppercase, 1 lowercase, 1 digit, and 1 special character \n"
   ]
  },
  {
   "cell_type": "code",
   "execution_count": null,
   "metadata": {},
   "outputs": [
    {
     "name": "stdout",
     "output_type": "stream",
     "text": [
      "True\n",
      "False\n"
     ]
    },
    {
     "ename": "",
     "evalue": "",
     "output_type": "error",
     "traceback": [
      "\u001b[1;31mThe Kernel crashed while executing code in the current cell or a previous cell. \n",
      "\u001b[1;31mPlease review the code in the cell(s) to identify a possible cause of the failure. \n",
      "\u001b[1;31mClick <a href='https://aka.ms/vscodeJupyterKernelCrash'>here</a> for more info. \n",
      "\u001b[1;31mView Jupyter <a href='command:jupyter.viewOutput'>log</a> for further details."
     ]
    }
   ],
   "source": [
    "def is_strong_password(password):\n",
    "    pattern = r'^(?=.*[a-z])(?=.*[A-Z])(?=.*\\d)(?=.*[@$!%*?&])[A-Za-z\\d@$!%*?&]{8,}$'\n",
    "    return bool(re.match(pattern, password))\n",
    "\n",
    "print(is_strong_password(\"Pass@123\"))  \n",
    "print(is_strong_password(\"weakpass\"))  \n"
   ]
  }
 ],
 "metadata": {
  "kernelspec": {
   "display_name": "py101",
   "language": "python",
   "name": "python3"
  },
  "language_info": {
   "codemirror_mode": {
    "name": "ipython",
    "version": 3
   },
   "file_extension": ".py",
   "mimetype": "text/x-python",
   "name": "python",
   "nbconvert_exporter": "python",
   "pygments_lexer": "ipython3",
   "version": "3.12.4"
  }
 },
 "nbformat": 4,
 "nbformat_minor": 2
}
