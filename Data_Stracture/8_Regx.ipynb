{
 "cells": [
  {
   "cell_type": "markdown",
   "metadata": {},
   "source": [
    "# Regular Expressions (Regex) in Python\n",
    "Regular Expressions (regex) allow pattern-based searching, extraction, and manipulation of text. Python provides the re module to work with regex. Mastering regex is crucial for text processing ."
   ]
  },
  {
   "cell_type": "markdown",
   "metadata": {},
   "source": [
    " ## i Basics of Regex\n",
    "📌 A regular expression is a sequence of characters that defines a search pattern. It helps in: <br>\n",
    "✔ Finding patterns in text (emails, phone numbers, URLs) <br>\n",
    "✔ Data validation (checking if input is in the correct format) <br>\n",
    "✔ Extracting information (getting hashtags from tweets, parsing logs)\n",
    "\n",
    "Common Regex Functions in Python (re module)\n",
    "|Function\t|Description|\n",
    "|-----------|-----------|\n",
    "|re.match(pattern, string)|\tChecks if the pattern matches at the beginning of the string\n",
    "re.search(pattern, string)|\tSearches anywhere in the string for a match\n",
    "re.findall(pattern, string)|\tReturns all matches as a list\n",
    "re.finditer(pattern, string) |\tReturns an iterator with match objects\n",
    "re.sub(pattern, replace, string) |\tReplaces occurrences of pattern\n",
    "re.split(pattern, string) |\tSplits string by the pattern\n",
    "\n",
    "## ii Special Characters in Regex\n",
    "\n",
    "|Character|\tMeaning|\n",
    "|----------|--------|\n",
    ". |\tMatches any character (except newline)\n",
    "^ |\tMatches the start of a string\n",
    "$ | Matches the end of a string|\n",
    "|* | Matches 0 or more occurrences\n",
    "|+ | Matches 1 or more occurrences\n",
    "? | Matches 0 or 1 occurrence (optional)\n",
    "{n} | Matches exactly n occurrences\n",
    "{n,}\t| Matches at least n occurrences\n",
    "{n,m} |\tMatches between n and m occurrences\n",
    "[] |\tMatches any character inside the brackets\n",
    "\\d |\tMatches digits (0-9)\n",
    "\\D |\tMatches non-digits\n",
    "\\w\t| Matches alphanumeric (a-z, A-Z, 0-9, _)\n",
    "\\W\t| Matches non-alphanumeric\n",
    "\\s\t| Matches whitespace (space, tab, newline)\n",
    "\\S\t| Matches non-whitespace"
   ]
  },
  {
   "cell_type": "code",
   "execution_count": 6,
   "metadata": {},
   "outputs": [
    {
     "name": "stdout",
     "output_type": "stream",
     "text": [
      "<re.Match object; span=(18, 24), match='python'>\n"
     ]
    }
   ],
   "source": [
    "import re\n",
    "\n",
    "text = \"Hi there, This is python 101\"\n",
    "\n",
    "pattern = \"python\"\n",
    "match = re.search(pattern,text)\n",
    "print(match)"
   ]
  },
  {
   "cell_type": "markdown",
   "metadata": {},
   "source": [
    "### Finding All Matches (re.findall())\n"
   ]
  },
  {
   "cell_type": "code",
   "execution_count": 11,
   "metadata": {},
   "outputs": [
    {
     "name": "stdout",
     "output_type": "stream",
     "text": [
      "['shyam@gmail.com', 'shyam@ctechmail.com']\n"
     ]
    }
   ],
   "source": [
    "shyam_said = \"Mail me the report at shyam@gmail.com and shyam@ctechmail.com\"\n",
    "\n",
    "emails = re.findall(r'\\S+@\\S+',shyam_said)\n",
    "\n",
    "print(emails)"
   ]
  },
  {
   "cell_type": "markdown",
   "metadata": {},
   "source": [
    "### Extracting Phone Numbers"
   ]
  },
  {
   "cell_type": "code",
   "execution_count": null,
   "metadata": {},
   "outputs": [],
   "source": [
    "text = \"My number is 9876543210, but you can also reach me at (123) 456-7890.\"\n",
    "pattern = r'\\(?\\d{3}\\)?[-.\\s]?\\d{3}[-.\\s]?\\d{4}'\n",
    "\n",
    "phones = re.findall(pattern, text)\n",
    "print(phones)  \n"
   ]
  },
  {
   "cell_type": "markdown",
   "metadata": {},
   "source": [
    "### Replacing Text (re.sub())\n",
    "\n"
   ]
  },
  {
   "cell_type": "code",
   "execution_count": null,
   "metadata": {},
   "outputs": [],
   "source": [
    "text = \"I love Java. Java is great!\"\n",
    "new_text = re.sub(r'Java', 'Python', text)\n",
    "print(new_text)  \n"
   ]
  },
  {
   "cell_type": "markdown",
   "metadata": {},
   "source": [
    "#### Validating Email Format"
   ]
  },
  {
   "cell_type": "code",
   "execution_count": null,
   "metadata": {},
   "outputs": [
    {
     "name": "stdout",
     "output_type": "stream",
     "text": [
      "True\n",
      "False\n"
     ]
    }
   ],
   "source": [
    "def is_valid_email(email):\n",
    "    pattern = r'^[a-zA-Z0-9_.+-]+@[a-zA-Z0-9-]+\\.[a-zA-Z0-9-.]+$'\n",
    "    return bool(re.match(pattern, email))\n",
    "\n",
    "print(is_valid_email(\"user@example.com\")) \n",
    "print(is_valid_email(\"invalid-email\"))  \n"
   ]
  }
 ],
 "metadata": {
  "kernelspec": {
   "display_name": "py101",
   "language": "python",
   "name": "python3"
  },
  "language_info": {
   "codemirror_mode": {
    "name": "ipython",
    "version": 3
   },
   "file_extension": ".py",
   "mimetype": "text/x-python",
   "name": "python",
   "nbconvert_exporter": "python",
   "pygments_lexer": "ipython3",
   "version": "3.12.4"
  }
 },
 "nbformat": 4,
 "nbformat_minor": 2
}
