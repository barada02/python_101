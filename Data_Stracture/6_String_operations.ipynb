{
 "cells": [
  {
   "cell_type": "markdown",
   "metadata": {},
   "source": [
    "# String Operations in Python"
   ]
  },
  {
   "cell_type": "markdown",
   "metadata": {},
   "source": [
    "1. String Concatenation (+ Operator)\n",
    "2. String repitaion \n",
    "3. Membership operator\n",
    "4. String Comparison\n",
    "5. String Case Sensitivity in Comparisons\n",
    "6. String Methods in Python\n",
    "\n",
    "\n",
    "\n"
   ]
  },
  {
   "cell_type": "markdown",
   "metadata": {},
   "source": [
    "### String Concatenation (+ Operator)\n",
    "Concatenation means joining two or more strings using the + operator."
   ]
  },
  {
   "cell_type": "code",
   "execution_count": 3,
   "metadata": {},
   "outputs": [
    {
     "name": "stdout",
     "output_type": "stream",
     "text": [
      "Hello Divya\n"
     ]
    }
   ],
   "source": [
    "str1 = \"Hello\"\n",
    "str2 = \"Divya\"\n",
    "result = str1 + \" \" + str2  # Adding a space between words\n",
    "print(result)  # Output: Hello World\n"
   ]
  },
  {
   "cell_type": "code",
   "execution_count": 5,
   "metadata": {},
   "outputs": [
    {
     "name": "stdout",
     "output_type": "stream",
     "text": [
      "I am 22 years old.\n"
     ]
    },
    {
     "ename": "TypeError",
     "evalue": "can only concatenate str (not \"int\") to str",
     "output_type": "error",
     "traceback": [
      "\u001b[1;31m---------------------------------------------------------------------------\u001b[0m",
      "\u001b[1;31mTypeError\u001b[0m                                 Traceback (most recent call last)",
      "Cell \u001b[1;32mIn[5], line 3\u001b[0m\n\u001b[0;32m      1\u001b[0m age \u001b[38;5;241m=\u001b[39m \u001b[38;5;241m22\u001b[39m\n\u001b[0;32m      2\u001b[0m \u001b[38;5;28mprint\u001b[39m(\u001b[38;5;124m\"\u001b[39m\u001b[38;5;124mI am \u001b[39m\u001b[38;5;124m\"\u001b[39m \u001b[38;5;241m+\u001b[39m \u001b[38;5;28mstr\u001b[39m(age) \u001b[38;5;241m+\u001b[39m \u001b[38;5;124m\"\u001b[39m\u001b[38;5;124m years old.\u001b[39m\u001b[38;5;124m\"\u001b[39m)  \u001b[38;5;66;03m# Correct ✅\u001b[39;00m\n\u001b[1;32m----> 3\u001b[0m \u001b[38;5;28mprint\u001b[39m(\u001b[38;5;124;43m\"\u001b[39;49m\u001b[38;5;124;43mI am \u001b[39;49m\u001b[38;5;124;43m\"\u001b[39;49m\u001b[43m \u001b[49m\u001b[38;5;241;43m+\u001b[39;49m\u001b[43m \u001b[49m\u001b[43mage\u001b[49m \u001b[38;5;241m+\u001b[39m \u001b[38;5;124m\"\u001b[39m\u001b[38;5;124m years old.\u001b[39m\u001b[38;5;124m\"\u001b[39m)  \u001b[38;5;66;03m# ❌ TypeError: can only concatenate str (not \"int\") to str\u001b[39;00m\n",
      "\u001b[1;31mTypeError\u001b[0m: can only concatenate str (not \"int\") to str"
     ]
    }
   ],
   "source": [
    "age = 22\n",
    "print(\"I am \" + str(age) + \" years old.\")  # Correct ✅\n",
    "print(\"I am \" + age + \" years old.\")  # ❌ TypeError: can only concatenate str (not \"int\") to str\n"
   ]
  },
  {
   "cell_type": "markdown",
   "metadata": {},
   "source": [
    "### String Repetition (* Operator)"
   ]
  },
  {
   "cell_type": "code",
   "execution_count": 6,
   "metadata": {},
   "outputs": [
    {
     "name": "stdout",
     "output_type": "stream",
     "text": [
      "Python Python Python \n"
     ]
    }
   ],
   "source": [
    "str1 = \"Python \"\n",
    "print(str1 * 3)   \n"
   ]
  },
  {
   "cell_type": "markdown",
   "metadata": {},
   "source": [
    "### Checking Substrings using\n",
    "### Membership Operators (**in** and **not** **in**)\n",
    "These operators check whether a substring exists in a string."
   ]
  },
  {
   "cell_type": "code",
   "execution_count": null,
   "metadata": {},
   "outputs": [
    {
     "name": "stdout",
     "output_type": "stream",
     "text": [
      "True\n",
      "False\n",
      "True\n"
     ]
    }
   ],
   "source": [
    "text = \"Hello, welcome to Python!\"\n",
    "\n",
    "print(\"Python\" in text)\n",
    "print(\"Java\" in text)\n",
    "print(\"Java\" not in text)\n"
   ]
  },
  {
   "cell_type": "markdown",
   "metadata": {},
   "source": [
    "### String Comparison (==, !=, <, >, <=, >=)\n",
    "Python allows you to compare strings alphabetically (lexicographically)."
   ]
  },
  {
   "cell_type": "code",
   "execution_count": null,
   "metadata": {},
   "outputs": [
    {
     "name": "stdout",
     "output_type": "stream",
     "text": [
      "True\n",
      "True\n",
      "True\n",
      "True\n",
      "False\n"
     ]
    }
   ],
   "source": [
    "print(\"apple\" == \"apple\")   \n",
    "print(\"apple\" != \"banana\")  \n",
    "print(\"apple\" < \"banana\")   # 'a' comes before 'b'\n",
    "print(\"Python\" > \"Java\")    # 'P' comes after 'J'\n"
   ]
  },
  {
   "cell_type": "markdown",
   "metadata": {},
   "source": [
    "##### Comparison is case-sensitive! \"Apple\" and \"apple\" are different."
   ]
  },
  {
   "cell_type": "code",
   "execution_count": 13,
   "metadata": {},
   "outputs": [
    {
     "name": "stdout",
     "output_type": "stream",
     "text": [
      "False\n"
     ]
    }
   ],
   "source": [
    "print(\"Apple\" >\"apple\") # ('A' comes before 'a' in ASCII)"
   ]
  },
  {
   "cell_type": "markdown",
   "metadata": {},
   "source": [
    "### String Case Sensitivity in Comparisons\n",
    "\n",
    "If you want case-insensitive comparisons, convert both strings to lowercase or uppercase."
   ]
  },
  {
   "cell_type": "code",
   "execution_count": 14,
   "metadata": {},
   "outputs": [
    {
     "name": "stdout",
     "output_type": "stream",
     "text": [
      "True\n"
     ]
    }
   ],
   "source": [
    "str1 = \"Hello\"\n",
    "str2 = \"hello\"\n",
    "\n",
    "print(str1.lower() == str2.lower()) "
   ]
  },
  {
   "cell_type": "markdown",
   "metadata": {},
   "source": [
    "## String Methods in python\n",
    "\n",
    "### Changing Case"
   ]
  },
  {
   "cell_type": "code",
   "execution_count": 7,
   "metadata": {},
   "outputs": [
    {
     "name": "stdout",
     "output_type": "stream",
     "text": [
      "HELLO IAM PYTHON\n",
      "hello iam python\n",
      "\n",
      "\n",
      "Hello iam python\n",
      "Hello Iam Python\n",
      "\n",
      "\n",
      "HELLO IAM pYTHON\n"
     ]
    }
   ],
   "source": [
    "text = \"hello iam Python\"\n",
    "\n",
    "print(text.upper())\n",
    "print(text.lower())\n",
    "print('\\n')\n",
    "print(text.capitalize()) # Capitalizes the First letter\n",
    "print(text.title()) # Capitalizes the first each word\n",
    "print(\"\\n\")\n",
    "print(text.swapcase())\n",
    "\n",
    "\n"
   ]
  },
  {
   "cell_type": "markdown",
   "metadata": {},
   "source": [
    "### Checking Properites"
   ]
  },
  {
   "cell_type": "code",
   "execution_count": 9,
   "metadata": {},
   "outputs": [
    {
     "name": "stdout",
     "output_type": "stream",
     "text": [
      "False\n",
      "True\n",
      "True\n",
      "True\n",
      "True\n"
     ]
    }
   ],
   "source": [
    "str1 =\"This  is Python 101\"\n",
    "str2 = \"56897\"\n",
    "str3 = \"  \"\n",
    "\n",
    "print(str1.isalpha()) #true if contain only letters\n",
    "print(\"python\".isalpha())\n",
    "\n",
    "print(str2.isdigit()) # true if it contain only numbers\n",
    "print(str3.isspace()) # to check only spaes\n",
    "\n",
    "print(\"Hello69\".isalnum()) # true id it contain letters.numbers, no special characters"
   ]
  },
  {
   "cell_type": "markdown",
   "metadata": {},
   "source": [
    "### Finding and Replacing "
   ]
  },
  {
   "cell_type": "code",
   "execution_count": null,
   "metadata": {},
   "outputs": [
    {
     "name": "stdout",
     "output_type": "stream",
     "text": [
      "11\n",
      "-1\n",
      "Python 101 is great!\n",
      "Python 101 is awesome!\n"
     ]
    }
   ],
   "source": [
    "text = \"Python 101 is awesome!\"\n",
    "print(text.find(\"is\")) #return the index\n",
    "print(text.find(\"Java\")) #wil be -1 for not found \n",
    "\n",
    "print(text.replace(\"awesome\", \"great\")) #Doesn't Change the original value of the variable\n",
    "\n",
    "\n",
    "print(text)"
   ]
  },
  {
   "cell_type": "markdown",
   "metadata": {},
   "source": [
    "### Splitting And Joining String\n",
    "\n",
    "Python allows splitting a string into list and joining elements to form a string."
   ]
  },
  {
   "cell_type": "code",
   "execution_count": 13,
   "metadata": {},
   "outputs": [
    {
     "name": "stdout",
     "output_type": "stream",
     "text": [
      "['apple', ' banana', ' grape']\n",
      "apple- banana- grape\n"
     ]
    }
   ],
   "source": [
    "sentence = \"apple, banana, grape\"\n",
    "\n",
    "words = sentence.split(\",\") #Splitting based on \",\"\n",
    "print(words)\n",
    "\n",
    "new_sentence = \"-\".join(words)\n",
    "print(new_sentence)"
   ]
  },
  {
   "cell_type": "code",
   "execution_count": 17,
   "metadata": {},
   "outputs": [
    {
     "name": "stdout",
     "output_type": "stream",
     "text": [
      "['My name', 'is Ck']\n"
     ]
    }
   ],
   "source": [
    "sentence2 = \"My name_is Ck\"\n",
    "newwords = sentence2.split(\"_\")\n",
    "print(newwords)"
   ]
  },
  {
   "cell_type": "markdown",
   "metadata": {},
   "source": [
    "## Stripping WhiteSpace\n",
    "remove Extra spaces"
   ]
  },
  {
   "cell_type": "code",
   "execution_count": 19,
   "metadata": {},
   "outputs": [
    {
     "name": "stdout",
     "output_type": "stream",
     "text": [
      "Hello python learners !\n",
      "Hello python learners !  \n",
      "  Hello python learners !\n"
     ]
    }
   ],
   "source": [
    "text = \"  Hello python learners !  \"\n",
    "\n",
    "print(text.strip()) #remove spaces from bothside\n",
    "\n",
    "print(text.lstrip()) #removes spaces from the left \n",
    "print(text.rstrip()) #removes spaces form the right"
   ]
  }
 ],
 "metadata": {
  "kernelspec": {
   "display_name": "py101",
   "language": "python",
   "name": "python3"
  },
  "language_info": {
   "codemirror_mode": {
    "name": "ipython",
    "version": 3
   },
   "file_extension": ".py",
   "mimetype": "text/x-python",
   "name": "python",
   "nbconvert_exporter": "python",
   "pygments_lexer": "ipython3",
   "version": "3.12.4"
  }
 },
 "nbformat": 4,
 "nbformat_minor": 2
}
