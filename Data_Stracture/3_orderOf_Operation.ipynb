{
 "cells": [
  {
   "cell_type": "markdown",
   "metadata": {},
   "source": [
    "# Order of Operations in Python\n",
    "\n",
    "## PEMDAS Rule\n",
    "Python follows the **PEMDAS** rule for order of operations:\n",
    "\n",
    "1. **Parentheses** `()`\n",
    "2. **Exponents** `**`\n",
    "3. **Multiplication**, **Division**, **Floor Division**, **Modulus** `* / // %`\n",
    "4. **Addition**, **Subtraction** `+ -`\n",
    "5. **Bitwise Shift** `<< >>`\n",
    "6. **Bitwise AND** `&`\n",
    "7. **Bitwise XOR**, **OR** `^ |`\n",
    "8. **Comparisons** `== != > < >= <=`\n",
    "9. **Logical NOT** `not`\n",
    "10. **Logical AND** `and`\n",
    "11. **Logical OR** `or`\n",
    "\n",
    "\n",
    "\n",
    "\n",
    "## Associativity\n",
    "\n",
    "- **Left to Right**: `+`, `-`, `*`, `/`, `//`, `%`\n",
    "- **Right to Left**: `**`, `=`, `+=`, `-=`\n",
    "\n"
   ]
  },
  {
   "cell_type": "code",
   "execution_count": 3,
   "metadata": {},
   "outputs": [
    {
     "data": {
      "text/plain": [
       "16"
      ]
     },
     "execution_count": 3,
     "metadata": {},
     "output_type": "execute_result"
    }
   ],
   "source": [
    "### 1. Parentheses First\n",
    "\n",
    "(5 + 3) * 2  # (8) * 2 = 16\n"
   ]
  },
  {
   "cell_type": "code",
   "execution_count": 4,
   "metadata": {},
   "outputs": [
    {
     "data": {
      "text/plain": [
       "11"
      ]
     },
     "execution_count": 4,
     "metadata": {},
     "output_type": "execute_result"
    }
   ],
   "source": [
    "#Without parentheses:\n",
    "\n",
    "5 + 3 * 2  # 5 + (3*2) = 11"
   ]
  },
  {
   "cell_type": "code",
   "execution_count": 5,
   "metadata": {},
   "outputs": [
    {
     "data": {
      "text/plain": [
       "32"
      ]
     },
     "execution_count": 5,
     "metadata": {},
     "output_type": "execute_result"
    }
   ],
   "source": [
    "### 2. Exponentiation Before Multiplication\n",
    "\n",
    "2 ** 3 * 4  # (2^3) * 4 = 32\n"
   ]
  },
  {
   "cell_type": "code",
   "execution_count": 6,
   "metadata": {},
   "outputs": [
    {
     "data": {
      "text/plain": [
       "4096"
      ]
     },
     "execution_count": 6,
     "metadata": {},
     "output_type": "execute_result"
    }
   ],
   "source": [
    "#With parentheses:\n",
    "\n",
    "2 ** (3 * 4)  # 2^(12) = 4096"
   ]
  },
  {
   "cell_type": "code",
   "execution_count": 11,
   "metadata": {},
   "outputs": [
    {
     "data": {
      "text/plain": [
       "13.0"
      ]
     },
     "execution_count": 11,
     "metadata": {},
     "output_type": "execute_result"
    }
   ],
   "source": [
    "### 3. Division Before Addition\n",
    "\n",
    "10 + 6 / 2  # 10 + (6/2) = 13\n"
   ]
  },
  {
   "cell_type": "code",
   "execution_count": 10,
   "metadata": {},
   "outputs": [
    {
     "data": {
      "text/plain": [
       "6"
      ]
     },
     "execution_count": 10,
     "metadata": {},
     "output_type": "execute_result"
    }
   ],
   "source": [
    "### 4. Modulus and Floor Division\n",
    "\n",
    "15 // 4 + 15 % 4  # (3) + (3) = 6"
   ]
  },
  {
   "cell_type": "code",
   "execution_count": 9,
   "metadata": {},
   "outputs": [
    {
     "name": "stdout",
     "output_type": "stream",
     "text": [
      "True\n"
     ]
    }
   ],
   "source": [
    "\n",
    "### 5. Logical Operators\n",
    "\n",
    "print(not False and True)  # (not False) and True → True\n"
   ]
  },
  {
   "cell_type": "markdown",
   "metadata": {},
   "source": [
    "## Summary Table\n",
    "| Operator        | Description                      | Associativity | Example     |\n",
    "|----------------|--------------------------------|---------------|----------------|\n",
    "| `()`           | Parentheses (grouping)         | Highest       |(5 + 2) * 3 = 21 |\n",
    "| `**`           | Exponentiation                 | Right to Left |2 ** 3 ** 2 = 512|\n",
    "| `* / // %`     | Multiplication, Division, etc. | Left to Right |10 / 5 * 2 = 4.0|\n",
    "| `+ -`          | Addition, Subtraction          | Left to Right |10 - 3 + 2 = 9|\n",
    "| `not`          | Logical NOT                    | Right to Left |not False and True = True|\n",
    "| `and`          | Logical AND                    | Left to Right |True and False or True = True|\n",
    "| `or`           | Logical OR                     | Left to Right |False or True = True|\n",
    "\n",
    "Use this guide to remember Python's operator precedence and associativity!\n"
   ]
  },
  {
   "cell_type": "code",
   "execution_count": 12,
   "metadata": {},
   "outputs": [
    {
     "name": "stdout",
     "output_type": "stream",
     "text": [
      "5\n"
     ]
    }
   ],
   "source": [
    "# 1. Mixing Bitwise, Arithmetic, and Boolean Operators\n",
    "result1 = 5 & 3 + 2 ** 2 or 0  # (5 & (3 + 4)) or 0 → (5 & 7) or 0 → 5 or 0 → 5\n",
    "print(result1)  # Output: 5"
   ]
  },
  {
   "cell_type": "code",
   "execution_count": 13,
   "metadata": {},
   "outputs": [
    {
     "name": "stdout",
     "output_type": "stream",
     "text": [
      "2\n"
     ]
    }
   ],
   "source": [
    "# 2. Combination of Floor Division, Modulus, and Exponentiation\n",
    "result2 = 20 // 3 ** 2 % 5  # 20 // 9 % 5 → 2 % 5 → 2\n",
    "print(result2)  # Output: 2"
   ]
  },
  {
   "cell_type": "code",
   "execution_count": 14,
   "metadata": {},
   "outputs": [
    {
     "name": "stdout",
     "output_type": "stream",
     "text": [
      "1\n"
     ]
    }
   ],
   "source": [
    "# 3. Precedence Between Boolean and Bitwise Operators\n",
    "result3 = True + False & False | True  # (1 + (0 & 0)) | 1 → (1 + 0) | 1 → 1 | 1 → 1\n",
    "print(result3)  # Output: 1"
   ]
  },
  {
   "cell_type": "code",
   "execution_count": 15,
   "metadata": {},
   "outputs": [
    {
     "name": "stdout",
     "output_type": "stream",
     "text": [
      "10\n"
     ]
    }
   ],
   "source": [
    "# 4. Using Logical Operators with Numbers\n",
    "result4 = 10 or 5 and 0  # 10 or (5 and 0) → 10 or 0 → 10\n",
    "print(result4)  # Output: 10"
   ]
  },
  {
   "cell_type": "code",
   "execution_count": 16,
   "metadata": {},
   "outputs": [
    {
     "name": "stdout",
     "output_type": "stream",
     "text": [
      "False\n"
     ]
    }
   ],
   "source": [
    "# 5. Order of Evaluating Comparison and Arithmetic Operators\n",
    "result5 = 3 < 2 == False  # (3 < 2) == False → False == False → True\n",
    "print(result5)  # Output: True"
   ]
  },
  {
   "cell_type": "code",
   "execution_count": 17,
   "metadata": {},
   "outputs": [
    {
     "name": "stdout",
     "output_type": "stream",
     "text": [
      "1\n"
     ]
    }
   ],
   "source": [
    "# 6. Tricky Expression with Multiple Operators\n",
    "result6 = 8 >> 2 + 1 & 3  # (8 >> (2 + 1)) & 3 → (8 >> 3) & 3 → 1 & 3 → 1\n",
    "print(result6)  # Output: 1"
   ]
  },
  {
   "cell_type": "code",
   "execution_count": 18,
   "metadata": {},
   "outputs": [
    {
     "name": "stdout",
     "output_type": "stream",
     "text": [
      "3\n"
     ]
    }
   ],
   "source": [
    "# 7. Operator Precedence in Assignments\n",
    "x = 2\n",
    "x += 3 ** 2 // 5  # x = 2 + (9 // 5) → x = 2 + 1 → x = 3\n",
    "print(x)  # Output: 3"
   ]
  },
  {
   "cell_type": "code",
   "execution_count": 19,
   "metadata": {},
   "outputs": [
    {
     "name": "stdout",
     "output_type": "stream",
     "text": [
      "True\n"
     ]
    }
   ],
   "source": [
    "# 8. Logical NOT with Comparisons\n",
    "result8 = not 3 > 2 == False  # not (3 > 2) == False → not True == False → False == False → True\n",
    "print(result8)  # Output: True"
   ]
  },
  {
   "cell_type": "code",
   "execution_count": 20,
   "metadata": {},
   "outputs": [
    {
     "name": "stdout",
     "output_type": "stream",
     "text": [
      "False\n"
     ]
    }
   ],
   "source": [
    "# 9. Combination of Bitwise and Logical Operators\n",
    "result9 = (4 & 2) == (5 | 1) and not (0 ^ 0)  # (4 & 2) == (5 | 1) and not 0 → 0 == 5 and not 0 → False and True → False\n",
    "print(result9)  # Output: False"
   ]
  },
  {
   "cell_type": "code",
   "execution_count": 21,
   "metadata": {},
   "outputs": [
    {
     "name": "stdout",
     "output_type": "stream",
     "text": [
      "37\n"
     ]
    }
   ],
   "source": [
    "# 10. A Very Tricky One with XOR and Shift Operators\n",
    "result10 = 5 ^ 2 << 1 + 3  # 5 ^ (2 << 4) → 5 ^ 32 → 37\n",
    "print(result10)  # Output: 37\n"
   ]
  }
 ],
 "metadata": {
  "kernelspec": {
   "display_name": "py101",
   "language": "python",
   "name": "python3"
  },
  "language_info": {
   "codemirror_mode": {
    "name": "ipython",
    "version": 3
   },
   "file_extension": ".py",
   "mimetype": "text/x-python",
   "name": "python",
   "nbconvert_exporter": "python",
   "pygments_lexer": "ipython3",
   "version": "3.12.4"
  }
 },
 "nbformat": 4,
 "nbformat_minor": 2
}
