{
 "cells": [
  {
   "cell_type": "markdown",
   "metadata": {},
   "source": [
    "# Strings part-3"
   ]
  },
  {
   "cell_type": "markdown",
   "metadata": {},
   "source": [
    "## Topics\n",
    "### String Formatting \n",
    "### Escape Characters and Raw Strings\n",
    "### String Encoding and Decoding"
   ]
  },
  {
   "cell_type": "markdown",
   "metadata": {},
   "source": [
    "### String Formatting in Python\n",
    "String formatting allows you to insert variables into string dynamically. Python provides multiple ways to format string."
   ]
  },
  {
   "cell_type": "markdown",
   "metadata": {},
   "source": [
    "#### Using f-string (Python 3.6+)\n",
    "most modern adn readable way to format string in Python is using f-string"
   ]
  },
  {
   "cell_type": "code",
   "execution_count": 1,
   "metadata": {},
   "outputs": [
    {
     "name": "stdout",
     "output_type": "stream",
     "text": [
      "Hello ! My name is Chandan Kumar . You can call me Ck\n",
      " My avg cgpa  is 3.65\n"
     ]
    }
   ],
   "source": [
    "name = \"Chandan Kumar\"\n",
    "nick_name = \"Ck\"\n",
    "\n",
    "n1 = 3.5\n",
    "n2 = 3.8\n",
    "\n",
    "print(f\"Hello ! My name is {name} . You can call me {nick_name}\")\n",
    "print(f\" My avg cgpa  is {(n1+n2)/2.}\")"
   ]
  },
  {
   "cell_type": "markdown",
   "metadata": {},
   "source": [
    "### Using .format()"
   ]
  },
  {
   "cell_type": "code",
   "execution_count": 3,
   "metadata": {},
   "outputs": [
    {
     "name": "stdout",
     "output_type": "stream",
     "text": [
      "Hello ! My name is Chandan Kumar . You can call me Ck\n"
     ]
    }
   ],
   "source": [
    "print(\"Hello ! My name is {} . You can call me {}\".format(name,nick_name))"
   ]
  },
  {
   "cell_type": "markdown",
   "metadata": {},
   "source": [
    "##### 📌 Using index numbers:"
   ]
  },
  {
   "cell_type": "code",
   "execution_count": 6,
   "metadata": {},
   "outputs": [
    {
     "name": "stdout",
     "output_type": "stream",
     "text": [
      "Hello ! My name is Chandan Kumar . You can call me Ck\n"
     ]
    }
   ],
   "source": [
    "print(\"Hello ! My name is {1} . You can call me {0}\".format(nick_name,name))"
   ]
  },
  {
   "cell_type": "markdown",
   "metadata": {},
   "source": [
    "##### 📌 Using named placeholders:"
   ]
  },
  {
   "cell_type": "code",
   "execution_count": 10,
   "metadata": {},
   "outputs": [
    {
     "name": "stdout",
     "output_type": "stream",
     "text": [
      "Hello ! My name is Chandan Kumar . You can call me Ck\n"
     ]
    }
   ],
   "source": [
    "print(\"Hello ! My name is {a} . You can call me {b}\".format(b = nick_name, a =name))"
   ]
  },
  {
   "cell_type": "markdown",
   "metadata": {},
   "source": [
    "### OLD Method \n",
    "### using %"
   ]
  },
  {
   "cell_type": "code",
   "execution_count": 11,
   "metadata": {},
   "outputs": [
    {
     "name": "stdout",
     "output_type": "stream",
     "text": [
      "Hello ! My name is Chandan Kumar . You can call me Ck\n"
     ]
    }
   ],
   "source": [
    "print(\"Hello ! My name is %s . You can call me %s\"%(name, nick_name))"
   ]
  },
  {
   "cell_type": "markdown",
   "metadata": {},
   "source": [
    "\n",
    "### 📌 Format Specifiers:\n",
    "\n",
    "%s → String <br>\n",
    "%d → Integer <br>\n",
    "%f → Float <br>\n"
   ]
  },
  {
   "cell_type": "markdown",
   "metadata": {},
   "source": [
    "##### Formatting Numbers (Decimal Places & Alignment)"
   ]
  },
  {
   "cell_type": "code",
   "execution_count": 12,
   "metadata": {},
   "outputs": [
    {
     "name": "stdout",
     "output_type": "stream",
     "text": [
      "3.141592653589793\n",
      "pi value upto 2 decimal: 3.14\n",
      "pi value upto 6 decimal: 3.141593\n"
     ]
    }
   ],
   "source": [
    "import math\n",
    "\n",
    "pi = math.pi\n",
    "print(pi)\n",
    "\n",
    "print(f\"pi value upto 2 decimal: {pi:.2f}\")\n",
    "\n",
    "print(f\"pi value upto 6 decimal: {pi:.6f}\")\n",
    "\n"
   ]
  },
  {
   "cell_type": "markdown",
   "metadata": {},
   "source": [
    "📌 String Alignment:"
   ]
  },
  {
   "cell_type": "code",
   "execution_count": null,
   "metadata": {},
   "outputs": [
    {
     "name": "stdout",
     "output_type": "stream",
     "text": [
      "    Python\n",
      "This is               Python\n",
      "This is Python     @\n",
      "This is     Python      Language\n"
     ]
    }
   ],
   "source": [
    "text = \"Python\"\n",
    "print(f\"{text:>10}\")\n",
    "\n",
    "print(f\"This is {text:>20}\") # Added 20 spces on the left of the text\n",
    "print(f\"This is {text:<10} @\") # Added 10 spaces on the right of the text\n",
    "print(f\"This is {text:^15} Language\") # Added 15 spaces on both side of the text"
   ]
  },
  {
   "cell_type": "markdown",
   "metadata": {},
   "source": [
    "## String Encoding And Decoding in Python\n",
    "Python strings are Unicode by default, but sometimes you need to encode them into bytes (for storage, transmission, or compatibility) and decode them back to strings. "
   ]
  },
  {
   "cell_type": "markdown",
   "metadata": {},
   "source": [
    "### Encoding String (encode())\n",
    "\n",
    "Encoding concerts a string into a byte representation\n",
    "\n",
    ".encode() By default it's convert to utf-8"
   ]
  },
  {
   "cell_type": "markdown",
   "metadata": {},
   "source": [
    "### 📌 Common Encodings:\n",
    "\n",
    "\"utf-8\" → Default & widely used <br>\n",
    "\"ascii\" → English-only (errors on non-ASCII characters) <br>\n",
    "\"latin-1\" → Western European <br>\n",
    "\"utf-16\" / \"utf-32\" → Unicode encodings"
   ]
  },
  {
   "cell_type": "code",
   "execution_count": null,
   "metadata": {},
   "outputs": [
    {
     "name": "stdout",
     "output_type": "stream",
     "text": [
      "b'Hackathon is a good way to test yourself'\n"
     ]
    }
   ],
   "source": [
    "text = \"Hackathon is a good way to test yourself\"\n",
    "encoded_text = text.encode() \n",
    "print(encoded_text)"
   ]
  },
  {
   "cell_type": "markdown",
   "metadata": {},
   "source": [
    "##### ✅  b'' indicates bytes"
   ]
  },
  {
   "cell_type": "code",
   "execution_count": 27,
   "metadata": {},
   "outputs": [
    {
     "name": "stdout",
     "output_type": "stream",
     "text": [
      "Héllö £ 🌍\n",
      "b'Hll  '\n",
      "b'H?ll? ? ?'\n"
     ]
    }
   ],
   "source": [
    "text = \"Héllö £ 🌍\"\n",
    "print(text)\n",
    "\n",
    "#print(text.encode(\"ascii\")) # result error as text having non ascii character\n",
    "print(text.encode(\"ascii\",errors=\"ignore\")) # ignores non-Ascii\n",
    "print(text.encode(\"ascii\", errors=\"replace\")) #replaces unknown chars"
   ]
  },
  {
   "cell_type": "markdown",
   "metadata": {},
   "source": [
    "### Decoding Bytes (decode())\n",
    "Decoding converts bytes back into a string."
   ]
  },
  {
   "cell_type": "code",
   "execution_count": 28,
   "metadata": {},
   "outputs": [
    {
     "name": "stdout",
     "output_type": "stream",
     "text": [
      "Hackathon is a good way to test yourself\n"
     ]
    }
   ],
   "source": [
    "decoded_text = encoded_text.decode( ) # by default utf-8\n",
    "print(decoded_text)"
   ]
  },
  {
   "cell_type": "markdown",
   "metadata": {},
   "source": [
    "### 📌 Error Handling in Decoding:\n",
    "\n",
    "\"strict\" (default) → Raises an error <br>\n",
    "\"ignore\" → Ignores invalid bytes <br>\n",
    "\"replace\" → Replaces invalid bytes with ? or �"
   ]
  },
  {
   "cell_type": "code",
   "execution_count": 31,
   "metadata": {},
   "outputs": [
    {
     "name": "stdout",
     "output_type": "stream",
     "text": [
      "��H\u0000i\u0000\n"
     ]
    }
   ],
   "source": [
    "wrong_bytes = b'\\xff\\xfeH\\x00i\\x00'\n",
    "print(wrong_bytes.decode(\"utf-8\", errors=\"replace\"))  \n",
    "# (Unrecognized bytes become �)\n"
   ]
  },
  {
   "cell_type": "markdown",
   "metadata": {},
   "source": [
    "### Checking Encoding Compatibility \n",
    "\n",
    "You cna check if a string contains only ASCII characters"
   ]
  },
  {
   "cell_type": "code",
   "execution_count": 32,
   "metadata": {},
   "outputs": [
    {
     "name": "stdout",
     "output_type": "stream",
     "text": [
      "True\n",
      "False\n"
     ]
    }
   ],
   "source": [
    "text = \"Hello\"\n",
    "print(text.isascii())  # Output: True\n",
    "print(\"Héllo\".isascii())  # Output: False (é is not ASCII)\n"
   ]
  },
  {
   "cell_type": "markdown",
   "metadata": {},
   "source": [
    "## Writing & Reading Encoded Files\n",
    "Python allows saving encoded text into files and reading it back.\n"
   ]
  },
  {
   "cell_type": "code",
   "execution_count": 33,
   "metadata": {},
   "outputs": [
    {
     "name": "stdout",
     "output_type": "stream",
     "text": [
      "Hello, नमस्ते, 你好!\n"
     ]
    }
   ],
   "source": [
    "# Writing UTF-8 text to a file\n",
    "with open(\"example.txt\", \"w\", encoding=\"utf-8\") as file:\n",
    "    file.write(\"Hello, नमस्ते, 你好!\")\n",
    "\n",
    "# Reading the file\n",
    "with open(\"example.txt\", \"r\", encoding=\"utf-8\") as file:\n",
    "    content = file.read()\n",
    "    print(content)\n"
   ]
  },
  {
   "cell_type": "markdown",
   "metadata": {},
   "source": [
    "# Understanding Unicode, Encoding, and Decoding in Python\n",
    "\n",
    "## What is Unicode?\n",
    "\n",
    "Unicode is a universal character encoding standard designed to represent text from almost all of the world's writing systems. Key characteristics include:\n",
    "\n",
    "- Assigns a unique numeric code (code point) to every character\n",
    "- Supports multiple languages, scripts, and symbol systems\n",
    "- Enables consistent text representation across different platforms and programs\n",
    "\n",
    "### Unicode Code Point Example\n",
    "- Latin 'A': U+0041\n",
    "- Chinese '中': U+4E2D\n",
    "- Emoji '🐍': U+1F40D\n",
    "\n",
    "## Encoding: Converting Unicode to Bytes\n",
    "\n",
    "### What is Encoding?\n",
    "Encoding transforms Unicode characters into binary representations that computers can store and transmit.\n",
    "\n",
    "### Common Encoding Types\n",
    "1. **UTF-8**: \n",
    "   - Most popular encoding\n",
    "   - Variable-width (1-4 bytes per character)\n",
    "   - Backward compatible with ASCII\n",
    "   - Recommended for most use cases\n",
    "\n",
    "2. **UTF-16**: \n",
    "   - Uses 2 or 4 bytes per character\n",
    "   - Common in some Windows and Java systems\n",
    "\n",
    "3. **UTF-32**: \n",
    "   - Uses 4 bytes for every character\n",
    "   - Fixed-width encoding\n",
    "\n",
    "## Python Encoding and Decoding Methods\n",
    "\n",
    "### Encoding: String to Bytes\n",
    "```python\n",
    "text = \"Hello, 世界\"  # String with mixed characters\n",
    "utf8_bytes = text.encode('utf-8')  # Convert to UTF-8 bytes"
   ]
  }
 ],
 "metadata": {
  "kernelspec": {
   "display_name": "py101",
   "language": "python",
   "name": "python3"
  },
  "language_info": {
   "codemirror_mode": {
    "name": "ipython",
    "version": 3
   },
   "file_extension": ".py",
   "mimetype": "text/x-python",
   "name": "python",
   "nbconvert_exporter": "python",
   "pygments_lexer": "ipython3",
   "version": "3.12.4"
  }
 },
 "nbformat": 4,
 "nbformat_minor": 2
}
