{
 "cells": [
  {
   "cell_type": "markdown",
   "metadata": {},
   "source": [
    "# Strings part-3"
   ]
  },
  {
   "cell_type": "markdown",
   "metadata": {},
   "source": [
    "## Topics\n",
    "### String Formatting \n",
    "### Escape Characters and Raw Strings\n",
    "### String Encoding and Decoding"
   ]
  },
  {
   "cell_type": "markdown",
   "metadata": {},
   "source": [
    "### String Formatting in Python\n",
    "String formatting allows you to insert variables into string dynamically. Python provides multiple ways to format string."
   ]
  },
  {
   "cell_type": "markdown",
   "metadata": {},
   "source": [
    "#### Using f-string (Python 3.6+)\n",
    "most modern adn readable way to format string in Python is using f-string"
   ]
  },
  {
   "cell_type": "code",
   "execution_count": 4,
   "metadata": {},
   "outputs": [
    {
     "name": "stdout",
     "output_type": "stream",
     "text": [
      "Hello ! My name is Chandan Kumar . You can call me Ck\n",
      " My avg cgpa  is 3.65\n"
     ]
    }
   ],
   "source": [
    "name = \"Chandan Kumar\"\n",
    "nick_name = \"Ck\"\n",
    "\n",
    "n1 = 3.5\n",
    "n2 = 3.8\n",
    "\n",
    "print(f\"Hello ! My name is {name} . You can call me {nick_name}\")\n",
    "print(f\" My avg cgpa  is {(n1+n2)/2.}\")"
   ]
  },
  {
   "cell_type": "code",
   "execution_count": null,
   "metadata": {},
   "outputs": [],
   "source": []
  }
 ],
 "metadata": {
  "kernelspec": {
   "display_name": "py101",
   "language": "python",
   "name": "python3"
  },
  "language_info": {
   "codemirror_mode": {
    "name": "ipython",
    "version": 3
   },
   "file_extension": ".py",
   "mimetype": "text/x-python",
   "name": "python",
   "nbconvert_exporter": "python",
   "pygments_lexer": "ipython3",
   "version": "3.12.4"
  }
 },
 "nbformat": 4,
 "nbformat_minor": 2
}
