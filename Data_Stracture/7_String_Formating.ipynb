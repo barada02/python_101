{
 "cells": [
  {
   "cell_type": "markdown",
   "metadata": {},
   "source": [
    "# Strings part-3"
   ]
  },
  {
   "cell_type": "markdown",
   "metadata": {},
   "source": [
    "## Topics\n",
    "### String Formatting \n",
    "### Escape Characters and Raw Strings\n",
    "### String Encoding and Decoding"
   ]
  },
  {
   "cell_type": "markdown",
   "metadata": {},
   "source": [
    "### String Formatting in Python\n",
    "String formatting allows you to insert variables into string dynamically. Python provides multiple ways to format string."
   ]
  },
  {
   "cell_type": "markdown",
   "metadata": {},
   "source": [
    "#### Using f-string (Python 3.6+)\n",
    "most modern adn readable way to format string in Python is using f-string"
   ]
  },
  {
   "cell_type": "code",
   "execution_count": 1,
   "metadata": {},
   "outputs": [
    {
     "name": "stdout",
     "output_type": "stream",
     "text": [
      "Hello ! My name is Chandan Kumar . You can call me Ck\n",
      " My avg cgpa  is 3.65\n"
     ]
    }
   ],
   "source": [
    "name = \"Chandan Kumar\"\n",
    "nick_name = \"Ck\"\n",
    "\n",
    "n1 = 3.5\n",
    "n2 = 3.8\n",
    "\n",
    "print(f\"Hello ! My name is {name} . You can call me {nick_name}\")\n",
    "print(f\" My avg cgpa  is {(n1+n2)/2.}\")"
   ]
  },
  {
   "cell_type": "markdown",
   "metadata": {},
   "source": [
    "### Using .format()"
   ]
  },
  {
   "cell_type": "code",
   "execution_count": 3,
   "metadata": {},
   "outputs": [
    {
     "name": "stdout",
     "output_type": "stream",
     "text": [
      "Hello ! My name is Chandan Kumar . You can call me Ck\n"
     ]
    }
   ],
   "source": [
    "print(\"Hello ! My name is {} . You can call me {}\".format(name,nick_name))"
   ]
  },
  {
   "cell_type": "markdown",
   "metadata": {},
   "source": [
    "##### 📌 Using index numbers:"
   ]
  },
  {
   "cell_type": "code",
   "execution_count": 6,
   "metadata": {},
   "outputs": [
    {
     "name": "stdout",
     "output_type": "stream",
     "text": [
      "Hello ! My name is Chandan Kumar . You can call me Ck\n"
     ]
    }
   ],
   "source": [
    "print(\"Hello ! My name is {1} . You can call me {0}\".format(nick_name,name))"
   ]
  },
  {
   "cell_type": "markdown",
   "metadata": {},
   "source": [
    "##### 📌 Using named placeholders:"
   ]
  },
  {
   "cell_type": "code",
   "execution_count": 10,
   "metadata": {},
   "outputs": [
    {
     "name": "stdout",
     "output_type": "stream",
     "text": [
      "Hello ! My name is Chandan Kumar . You can call me Ck\n"
     ]
    }
   ],
   "source": [
    "print(\"Hello ! My name is {a} . You can call me {b}\".format(b = nick_name, a =name))"
   ]
  },
  {
   "cell_type": "markdown",
   "metadata": {},
   "source": [
    "### OLD Method \n",
    "### using %"
   ]
  },
  {
   "cell_type": "code",
   "execution_count": 11,
   "metadata": {},
   "outputs": [
    {
     "name": "stdout",
     "output_type": "stream",
     "text": [
      "Hello ! My name is Chandan Kumar . You can call me Ck\n"
     ]
    }
   ],
   "source": [
    "print(\"Hello ! My name is %s . You can call me %s\"%(name, nick_name))"
   ]
  },
  {
   "cell_type": "markdown",
   "metadata": {},
   "source": [
    "\n",
    "### 📌 Format Specifiers:\n",
    "\n",
    "%s → String <br>\n",
    "%d → Integer <br>\n",
    "%f → Float <br>\n"
   ]
  },
  {
   "cell_type": "markdown",
   "metadata": {},
   "source": [
    "##### Formatting Numbers (Decimal Places & Alignment)"
   ]
  },
  {
   "cell_type": "code",
   "execution_count": 12,
   "metadata": {},
   "outputs": [
    {
     "name": "stdout",
     "output_type": "stream",
     "text": [
      "3.141592653589793\n",
      "pi value upto 2 decimal: 3.14\n",
      "pi value upto 6 decimal: 3.141593\n"
     ]
    }
   ],
   "source": [
    "import math\n",
    "\n",
    "pi = math.pi\n",
    "print(pi)\n",
    "\n",
    "print(f\"pi value upto 2 decimal: {pi:.2f}\")\n",
    "\n",
    "print(f\"pi value upto 6 decimal: {pi:.6f}\")\n",
    "\n"
   ]
  },
  {
   "cell_type": "markdown",
   "metadata": {},
   "source": [
    "📌 String Alignment:"
   ]
  },
  {
   "cell_type": "code",
   "execution_count": 22,
   "metadata": {},
   "outputs": [
    {
     "name": "stdout",
     "output_type": "stream",
     "text": [
      "    Python\n",
      "This is               Python\n",
      "This is Python     @\n",
      "This is     Python      Language\n"
     ]
    }
   ],
   "source": [
    "text = \"Python\"\n",
    "print(f\"{text:>10}\")\n",
    "\n",
    "print(f\"This is {text:>20}\")\n",
    "print(f\"This is {text:<10} @\")\n",
    "print(f\"This is {text:^15} Language\")"
   ]
  }
 ],
 "metadata": {
  "kernelspec": {
   "display_name": "py101",
   "language": "python",
   "name": "python3"
  },
  "language_info": {
   "codemirror_mode": {
    "name": "ipython",
    "version": 3
   },
   "file_extension": ".py",
   "mimetype": "text/x-python",
   "name": "python",
   "nbconvert_exporter": "python",
   "pygments_lexer": "ipython3",
   "version": "3.12.4"
  }
 },
 "nbformat": 4,
 "nbformat_minor": 2
}
