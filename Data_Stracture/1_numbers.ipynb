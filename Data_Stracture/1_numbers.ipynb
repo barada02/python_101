{
 "cells": [
  {
   "cell_type": "markdown",
   "metadata": {},
   "source": [
    "**Numbers**"
   ]
  },
  {
   "cell_type": "markdown",
   "metadata": {},
   "source": [
    "<table>\n",
    "<tr>\n",
    "    <th>Examples</th> \n",
    "    <th>Number \"Type\"</th>\n",
    "</tr>\n",
    "\n",
    "<tr>\n",
    "    <td>1,2,-5,1000</td>\n",
    "    <td>Integers</td> \n",
    "</tr>\n",
    "\n",
    "<tr>\n",
    "    <td>1.2,-0.5,2e2,3E2</td> \n",
    "    <td>Floating-point numbers</td> \n",
    "</tr>\n",
    "\n",
    "<tr>\n",
    "    <td>3+4j, 2-1j, -2j, 1+0j</td>\n",
    "    <td>Complex numbers</td>\n",
    "</tr>\n",
    "</table>"
   ]
  },
  {
   "cell_type": "code",
   "execution_count": 3,
   "metadata": {},
   "outputs": [],
   "source": [
    "int1 = 15\n",
    "int2 = -10\n",
    "\n",
    "fp1 = 1.5\n",
    "fp2 =-0.5\n",
    "\n",
    "comx = 3+2j\n",
    "comx2 = 4-0.8j\n"
   ]
  },
  {
   "cell_type": "code",
   "execution_count": 4,
   "metadata": {},
   "outputs": [
    {
     "name": "stdout",
     "output_type": "stream",
     "text": [
      "<class 'float'>\n"
     ]
    },
    {
     "data": {
      "text/plain": [
       "complex"
      ]
     },
     "execution_count": 4,
     "metadata": {},
     "output_type": "execute_result"
    }
   ],
   "source": [
    "print(type(fp1))\n",
    "\n",
    "type(comx)"
   ]
  },
  {
   "cell_type": "markdown",
   "metadata": {},
   "source": [
    "**Basic Operations**"
   ]
  },
  {
   "cell_type": "code",
   "execution_count": 35,
   "metadata": {},
   "outputs": [
    {
     "name": "stdout",
     "output_type": "stream",
     "text": [
      "5 13.5 -2.5 -5.4 -6.0 6 1\n"
     ]
    }
   ],
   "source": [
    "x=int1+int2\n",
    "\n",
    "y = int1-fp1\n",
    "z = x*fp2\n",
    "\n",
    "d= y/z\n",
    "fd = y//z\n",
    "\n",
    "fd2 = 61//10  #Floor Division .(This is Wrong Explanation ) It truncates the decimal without rounding. ans=6\n",
    "\n",
    "md = 61%10 # Modulo give the reminder after division\n",
    "\n",
    "print(x,y,z,d,fd,fd2, md)"
   ]
  },
  {
   "cell_type": "code",
   "execution_count": 25,
   "metadata": {},
   "outputs": [
    {
     "name": "stdout",
     "output_type": "stream",
     "text": [
      "<class 'int'> <class 'float'> <class 'float'> <class 'float'> <class 'int'> <class 'int'>\n"
     ]
    }
   ],
   "source": [
    "print(type(x),type(y),type(z),type(d), type(fd2),type(md))\n"
   ]
  },
  {
   "cell_type": "markdown",
   "metadata": {},
   "source": [
    "📌 **Tricky question**\n",
    "1. 5/4 return an integer or flot ? ans : 1.25(flot)\n",
    "2. 20/5 return an integer or flot ? ans : 4.0 (flot)\n",
    "\n",
    "3. 55//7 return an integer or flot ? ans : 7(int)\n",
    "4. 55//7.0 return an integer or flot ? ans : 7.0 (flot)\n",
    "\n",
    "5. 55%7 return an integer or flot ? ans : 6(int)\n",
    "6. 55%7.0 return an integer or flot ? ans : 6.0 (flot)"
   ]
  },
  {
   "cell_type": "markdown",
   "metadata": {},
   "source": [
    "# Floor Division in Python (//)\n",
    "\n",
    "Floor division in Python always rounds down towards **negative infinity**, NOT towards zero, and is denoted by the // operator.\n",
    "\n",
    "## Key Characteristics:\n",
    "1. Always rounds DOWN towards negative infinity\n",
    "2. Returns an integer result if both operands are integers\n",
    "3. Returns a float result if any operand is a float\n",
    "\n",
    "## Examples:\n",
    "\n",
    "### Positive Numbers:\n",
    "```python\n",
    "7 // 2    # = 3   (3.5 rounds down to 3)\n",
    "9 // 4    # = 2   (2.25 rounds down to 2)\n",
    "\n",
    "-7 // 2   # = -4  (-3.5 rounds down to -4)\n",
    "7 // -2   # = -4  (-3.5 rounds down to -4)\n",
    "\n",
    ". Regular rounding rounds to nearest integer: \n",
    ". round(3.5) = 4 #toword +vg infinity\n",
    "\n",
    ". round(-3.5) = -4 #toword -vg infinity\n"
   ]
  },
  {
   "cell_type": "code",
   "execution_count": 5,
   "metadata": {},
   "outputs": [
    {
     "name": "stdout",
     "output_type": "stream",
     "text": [
      "(7+1.2j)\n",
      "(54-0.8j)\n",
      "54.00592560080791\n",
      "54.006\n"
     ]
    }
   ],
   "source": [
    "print(comx+comx2)\n",
    "print(comx2+50)\n",
    "\n",
    "print(abs(comx2+50))\n",
    "print(round(abs(comx2+50),3))"
   ]
  }
 ],
 "metadata": {
  "kernelspec": {
   "display_name": "py101",
   "language": "python",
   "name": "python3"
  },
  "language_info": {
   "codemirror_mode": {
    "name": "ipython",
    "version": 3
   },
   "file_extension": ".py",
   "mimetype": "text/x-python",
   "name": "python",
   "nbconvert_exporter": "python",
   "pygments_lexer": "ipython3",
   "version": "3.12.4"
  }
 },
 "nbformat": 4,
 "nbformat_minor": 2
}
