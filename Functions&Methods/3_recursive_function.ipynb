{
 "cells": [
  {
   "cell_type": "markdown",
   "metadata": {},
   "source": [
    "# Recursive Function"
   ]
  },
  {
   "cell_type": "markdown",
   "metadata": {},
   "source": [
    "\n",
    "\n",
    "**What is a Recursive Function?**\n",
    "\n",
    "* A recursive function is a function that calls itself during its execution.\n",
    "* This allows you to break down complex problems into smaller, self-similar subproblems.\n",
    "* Think of it like a set of nested mirrors, where each reflection contains a smaller version of the original image.\n",
    "\n",
    "**Key Components:**\n",
    "\n",
    "Every recursive function must have two essential parts:\n",
    "\n",
    "1.  **Base Case:**\n",
    "    * This is the stopping condition. It determines when the recursion should terminate.\n",
    "    * Without a base case, the function would call itself indefinitely, leading to a \"stack overflow\" error.\n",
    "    * The base case represents the simplest form of the problem, which can be solved directly.\n",
    "2.  **Recursive Case:**\n",
    "    * This is where the function calls itself.\n",
    "    * In each recursive call, the function should work towards the base case by modifying the input in some way.\n",
    "\n",
    "**How it Works:**\n",
    "\n",
    "1.  When a recursive function is called, the program pushes a new \"stack frame\" onto the call stack.\n",
    "2.  The stack frame contains the function's local variables and the current state of execution.\n",
    "3.  If the base case is not met, the function calls itself, creating another stack frame.\n",
    "4.  This process continues until the base case is reached.\n",
    "5.  Once the base case is reached, the function returns a value, and the stack frames are popped off the stack in reverse order.\n",
    "6.  As each stack frame is popped, the function's previous state is restored, and the results are combined to produce the final output.\n",
    "\n",
    "**Example: Factorial Calculation**\n",
    "\n",
    "\n",
    "\n"
   ]
  },
  {
   "cell_type": "code",
   "execution_count": 2,
   "metadata": {},
   "outputs": [
    {
     "name": "stdout",
     "output_type": "stream",
     "text": [
      "120\n"
     ]
    }
   ],
   "source": [
    "def factorial(n):\n",
    "    # Base case:\n",
    "    if n == 0:\n",
    "        return 1\n",
    "    # Recursive case:\n",
    "    else:\n",
    "        return n * factorial(n - 1)\n",
    "\n",
    "print(factorial(5))  # Output: 120"
   ]
  },
  {
   "cell_type": "markdown",
   "metadata": {},
   "source": [
    "**Explanation:**\n",
    "\n",
    "* The base case is `n == 0`, where the factorial is 1.\n",
    "* The recursive case is `n * factorial(n - 1)`, which breaks the problem down into smaller factorials."
   ]
  },
  {
   "cell_type": "markdown",
   "metadata": {},
   "source": [
    "### **Example: Fibonacci Sequence**"
   ]
  },
  {
   "cell_type": "code",
   "execution_count": null,
   "metadata": {},
   "outputs": [
    {
     "name": "stdout",
     "output_type": "stream",
     "text": [
      "8\n"
     ]
    }
   ],
   "source": [
    "\n",
    "def fibonacci(n):\n",
    "    if n <= 1:\n",
    "        return n\n",
    "    return fibonacci(n - 1) + fibonacci(n - 2)\n",
    "\n",
    "print(fibonacci(6)) \n"
   ]
  },
  {
   "cell_type": "markdown",
   "metadata": {},
   "source": [
    "\n",
    "**Advantages of Recursion:**\n",
    "\n",
    "* **Elegance and Simplicity:** Recursion can provide elegant and concise solutions for certain problems, especially those with inherent recursive structures (e.g., tree traversals).\n",
    "* **Problem Decomposition:** It facilitates breaking down complex problems into smaller, more manageable subproblems.\n",
    "\n",
    "**Disadvantages of Recursion:**\n",
    "\n",
    "* **Stack Overflow:** Excessive recursion can lead to a stack overflow error if the call stack becomes too large.\n",
    "* **Performance Overhead:** Recursive calls can be more computationally expensive than iterative solutions due to the overhead of function calls.\n",
    "* **Debugging Difficulty:** Tracing the execution of recursive functions can be challenging.\n",
    "\n",
    "**When to Use Recursion:**\n",
    "\n",
    "* Problems with inherent recursive structures (e.g., tree and graph traversals, fractal generation).\n",
    "* When the recursive solution is more intuitive and easier to understand than an iterative one.\n",
    "\n",
    "**When to Avoid Recursion:**\n",
    "\n",
    "* When performance is critical and an iterative solution is readily available.\n",
    "* When the recursion depth could become excessively large.\n",
    "\n",
    "**Important Considerations:**\n",
    "\n",
    "* Always ensure that your recursive function has a well-defined base case.\n",
    "* Be mindful of the potential for stack overflow errors.\n",
    "* Consider the performance implications of recursion compared to iterative solutions.\n"
   ]
  }
 ],
 "metadata": {
  "kernelspec": {
   "display_name": "py101",
   "language": "python",
   "name": "python3"
  },
  "language_info": {
   "codemirror_mode": {
    "name": "ipython",
    "version": 3
   },
   "file_extension": ".py",
   "mimetype": "text/x-python",
   "name": "python",
   "nbconvert_exporter": "python",
   "pygments_lexer": "ipython3",
   "version": "3.12.4"
  }
 },
 "nbformat": 4,
 "nbformat_minor": 2
}
