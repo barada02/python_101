{
 "cells": [
  {
   "cell_type": "markdown",
   "metadata": {},
   "source": [
    "# **Lambda Expression and Higher order Function**"
   ]
  },
  {
   "cell_type": "markdown",
   "metadata": {},
   "source": [
    "##  **Lambda (Anonymous) Functions**\n",
    "\n",
    "Lambda expressions are small, anonymous functions defined using the lambda keyword. \n",
    "* That can have multiple arguments but only one expression\n",
    "* They're useful for creating simple functions on-the-fly without having to formally define them using def.\n",
    "\n",
    "\n",
    "### **Syntax:**\n",
    "```python\n",
    "lambda arguments: expression\n",
    "```\n",
    "\n",
    "Explanation:\n",
    "\n",
    "* lambda: The keyword used to define a lambda function.\n",
    "* arguments: The input parameters (zero or more) to the function, separated by commas.\n",
    "* expression: A single expression that is evaluated and returned by the function. Lambda functions can only contain expressions, not statements."
   ]
  },
  {
   "cell_type": "code",
   "execution_count": 1,
   "metadata": {},
   "outputs": [
    {
     "name": "stdout",
     "output_type": "stream",
     "text": [
      "25\n",
      "7\n"
     ]
    }
   ],
   "source": [
    "square = lambda x: x ** 2\n",
    "print(square(5))  # Output: 25\n",
    "\n",
    "add = lambda a, b: a + b\n",
    "print(add(3, 4))  # Output: 7"
   ]
  },
  {
   "cell_type": "markdown",
   "metadata": {},
   "source": [
    "##### **Key Characteristics:**\n",
    "\n",
    "* **Anonymous:** They don't have a name.\n",
    "* **Single Expression:** They can only contain a single expression.\n",
    "* **Implicit Return:** The result of the expression is automatically returned.\n",
    "* **Concise:** They are designed for short, simple operations.\n",
    "* **Limited Scope:** They are often used in situations where a function is needed temporarily."
   ]
  },
  {
   "cell_type": "markdown",
   "metadata": {},
   "source": [
    "### Lambda functions are often used in **map, filter, and reduce** operations.\n",
    "\n",
    "## **Higher-Order Functions**\n",
    "Functions that take other functions as arguments."
   ]
  },
  {
   "cell_type": "markdown",
   "metadata": {},
   "source": [
    "### **1. `map()` Function**\n",
    "Applies a function to all elements in an iterable."
   ]
  },
  {
   "cell_type": "code",
   "execution_count": 2,
   "metadata": {},
   "outputs": [
    {
     "name": "stdout",
     "output_type": "stream",
     "text": [
      "[1, 4, 9, 16]\n"
     ]
    }
   ],
   "source": [
    "nums = [1, 2, 3, 4]\n",
    "squared = list(map(lambda x: x ** 2, nums))\n",
    "print(squared)  # Output: [1, 4, 9, 16]"
   ]
  },
  {
   "cell_type": "markdown",
   "metadata": {},
   "source": [
    "**One-time transformations:**"
   ]
  },
  {
   "cell_type": "code",
   "execution_count": 4,
   "metadata": {},
   "outputs": [
    {
     "name": "stdout",
     "output_type": "stream",
     "text": [
      "[5, 3, 7]\n"
     ]
    }
   ],
   "source": [
    "names = ['Alice', 'Bob', 'Charlie']\n",
    "lengths = list(map(lambda name: len(name), names))\n",
    "print(lengths)"
   ]
  },
  {
   "cell_type": "markdown",
   "metadata": {},
   "source": [
    "### **2. `filter()` Function**\n",
    "Filters elements based on a condition.\n"
   ]
  },
  {
   "cell_type": "code",
   "execution_count": 5,
   "metadata": {},
   "outputs": [
    {
     "name": "stdout",
     "output_type": "stream",
     "text": [
      "[2, 4, 6]\n"
     ]
    }
   ],
   "source": [
    "nums = [1, 2, 3, 4, 5, 6]\n",
    "even_nums = list(filter(lambda x: x % 2 == 0, nums))\n",
    "print(even_nums)  # Output: [2, 4, 6]"
   ]
  },
  {
   "cell_type": "markdown",
   "metadata": {},
   "source": [
    "* Creates an iterator from elements of an iterable for which a function returns "
   ]
  },
  {
   "cell_type": "markdown",
   "metadata": {},
   "source": [
    "### **3. `reduce()` Function (from `functools` module)**\n",
    "Used for cumulative operations.<br>\n",
    "(from ```functools```): Applies a function cumulatively to the items of an iterable, from left to right, so as to reduce the iterable to a single value."
   ]
  },
  {
   "cell_type": "code",
   "execution_count": 7,
   "metadata": {},
   "outputs": [
    {
     "name": "stdout",
     "output_type": "stream",
     "text": [
      "24\n"
     ]
    }
   ],
   "source": [
    "from functools import reduce\n",
    "nums = [1, 2, 3, 4]\n",
    "product = reduce(lambda x, y: x * y, nums)\n",
    "print(product)  # Output: 24"
   ]
  },
  {
   "cell_type": "markdown",
   "metadata": {},
   "source": [
    "### ```sorted() ``` : Sorts the elements of an iterable based on a key function."
   ]
  },
  {
   "cell_type": "code",
   "execution_count": 8,
   "metadata": {},
   "outputs": [
    {
     "name": "stdout",
     "output_type": "stream",
     "text": [
      "['date', 'apple', 'banana', 'cherry']\n"
     ]
    }
   ],
   "source": [
    "words = [\"apple\", \"banana\", \"cherry\", \"date\"]\n",
    "sorted_words = sorted(words, key=lambda x: len(x))\n",
    "print(sorted_words)  # Output: ['date', 'apple', 'banana', 'cherry']"
   ]
  },
  {
   "cell_type": "markdown",
   "metadata": {},
   "source": [
    "**Advantages:**\n",
    "\n",
    "* **Readability:** For simple operations, lambda functions can make code more concise and readable.\n",
    "* **Convenience:** They eliminate the need to define separate, named functions for short, one-time operations.\n",
    "\n",
    "**Disadvantages:**\n",
    "\n",
    "* **Limited Functionality:** They are restricted to single expressions, making them unsuitable for complex logic.\n",
    "* **Reduced Readability (for complex expressions):** Overly complex lambda expressions can become difficult to read and understand.\n",
    "* **Debugging:** Because they are anonymous, debugging lambda functions can be more challenging.\n",
    "---"
   ]
  },
  {
   "cell_type": "markdown",
   "metadata": {},
   "source": [
    "**When to Use Lambda Functions:**\n",
    "\n",
    "* When you need a small, simple function for a short period.\n",
    "* When passing a function as an argument to higher-order functions.\n",
    "* For simple, one-line operations that don't require complex logic.\n",
    "\n",
    "**When to Avoid Lambda Functions:**\n",
    "\n",
    "* For functions with multiple statements or complex logic.\n",
    "* When you need to reuse the function multiple times. In such cases, define a regular function with def.\n",
    "* When a lambda function becomes too long and hard to read."
   ]
  },
  {
   "cell_type": "markdown",
   "metadata": {},
   "source": [
    "---"
   ]
  }
 ],
 "metadata": {
  "kernelspec": {
   "display_name": "py101",
   "language": "python",
   "name": "python3"
  },
  "language_info": {
   "codemirror_mode": {
    "name": "ipython",
    "version": 3
   },
   "file_extension": ".py",
   "mimetype": "text/x-python",
   "name": "python",
   "nbconvert_exporter": "python",
   "pygments_lexer": "ipython3",
   "version": "3.12.4"
  }
 },
 "nbformat": 4,
 "nbformat_minor": 2
}
