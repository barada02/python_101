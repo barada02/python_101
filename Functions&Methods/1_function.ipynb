{
 "cells": [
  {
   "cell_type": "markdown",
   "metadata": {},
   "source": [
    "# Functions\n",
    "\n",
    "#### 1. What is a Function?\n",
    "A function is a reusable block of code that performs a specific task. It helps in:\n",
    "\n",
    "* Avoiding repetition\n",
    "* Organizing code into logical blocks\n",
    "* Improving readability and maintainability"
   ]
  },
  {
   "cell_type": "markdown",
   "metadata": {},
   "source": [
    "#### 2. Types of Functions\n",
    "Python has two main types of functions:\n",
    "\n",
    "1. Built-in Functions → Predefined in Python (e.g., print(), len(), sum())\n",
    "2. User-Defined Functions → Created by the programmer\n",
    "\n",
    "------"
   ]
  },
  {
   "cell_type": "markdown",
   "metadata": {},
   "source": [
    "#### **3. Defining a Function**\n",
    "A function is defined using the `def` keyword.\n",
    "\n",
    "##### **Syntax:**\n",
    "```python\n",
    "def function_name(parameters):\n",
    "    \"\"\"Docstring: Explain what the function does.\"\"\"\n",
    "    # Function body\n",
    "    return result  # (optional)\n",
    "```"
   ]
  },
  {
   "cell_type": "markdown",
   "metadata": {},
   "source": [
    "### void functions\n",
    "\n",
    "Key characteristics of void functions in Python:\n",
    "\n",
    "* They don't have a return statement, or they use return without a value\n",
    "* They execute tasks or produce side effects (like printing output or modifying data)\n",
    "* They implicitly return None when execution completes"
   ]
  },
  {
   "cell_type": "code",
   "execution_count": 1,
   "metadata": {},
   "outputs": [],
   "source": [
    "# A void function that prints a message\n",
    "def greet(name):\n",
    "    print(f\"Hello, {name}!\")\n",
    "    # No return statement\n",
    "\n",
    "# A void function that modifies a list\n",
    "def add_item(item, target_list):\n",
    "    target_list.append(item)\n",
    "    # No return statement\n",
    "\n",
    "# Explicitly returning None (same effect)\n",
    "def process_data(data):\n",
    "    print(\"Processing data...\")\n",
    "    return None"
   ]
  },
  {
   "cell_type": "code",
   "execution_count": 3,
   "metadata": {},
   "outputs": [
    {
     "name": "stdout",
     "output_type": "stream",
     "text": [
      "Hello, Miss!\n",
      "Hello, Mr.!\n",
      "None\n",
      "<class 'NoneType'>\n"
     ]
    }
   ],
   "source": [
    "greet(\"Miss\")\n",
    "x = greet(\"Mr.\")\n",
    "print(x)\n",
    "print(type(x))"
   ]
  },
  {
   "cell_type": "markdown",
   "metadata": {},
   "source": [
    "#### returning Functions"
   ]
  },
  {
   "cell_type": "code",
   "execution_count": 6,
   "metadata": {},
   "outputs": [
    {
     "name": "stdout",
     "output_type": "stream",
     "text": [
      "Hello, Chandhan!\n",
      "<class 'str'>\n",
      "Hello, ck!\n"
     ]
    }
   ],
   "source": [
    "def greet(name):\n",
    "    \"\"\"Function to greet a person\"\"\"\n",
    "    return f\"Hello, {name}!\"\n",
    "\n",
    "print(greet(\"Chandhan\"))\n",
    "\n",
    "x = greet(\"ck\")\n",
    "print(type(x))\n",
    "print(x)"
   ]
  },
  {
   "cell_type": "markdown",
   "metadata": {},
   "source": [
    "---\n",
    "\n",
    "## **4. Function Arguments and Parameters**\n",
    "Parameters are variables that hold values passed to the function. Arguments are actual values passed to the function.\n",
    "\n",
    "### **Types of Arguments in Python**\n",
    "1. **Positional Arguments** (Order matters)\n",
    "2. **Keyword Arguments** (Specify argument name)\n",
    "3. **Default Arguments** (Provide a default value)\n",
    "4. **Variable-Length Arguments** (`*args`, `**kwargs`)\n",
    "\n",
    "---"
   ]
  },
  {
   "cell_type": "markdown",
   "metadata": {},
   "source": [
    "\n",
    "#### **1. Positional Arguments**"
   ]
  },
  {
   "cell_type": "code",
   "execution_count": 7,
   "metadata": {},
   "outputs": [
    {
     "name": "stdout",
     "output_type": "stream",
     "text": [
      "15\n"
     ]
    }
   ],
   "source": [
    "def add(a, b):\n",
    "    return a + b\n",
    "\n",
    "print(add(5, 10))  # Output: 15"
   ]
  },
  {
   "cell_type": "markdown",
   "metadata": {},
   "source": [
    "#### **2. Keyword Arguments**\n"
   ]
  },
  {
   "cell_type": "code",
   "execution_count": 8,
   "metadata": {},
   "outputs": [
    {
     "name": "stdout",
     "output_type": "stream",
     "text": [
      "Name: Chandhan, Age: 20\n"
     ]
    }
   ],
   "source": [
    "def student_info(name, age):\n",
    "    return f\"Name: {name}, Age: {age}\"\n",
    "\n",
    "print(student_info(age=20, name=\"Chandhan\"))  # Order doesn't matter"
   ]
  },
  {
   "cell_type": "markdown",
   "metadata": {},
   "source": [
    "#### **3. Default Arguments**"
   ]
  },
  {
   "cell_type": "code",
   "execution_count": 9,
   "metadata": {},
   "outputs": [
    {
     "name": "stdout",
     "output_type": "stream",
     "text": [
      "9\n",
      "27\n"
     ]
    }
   ],
   "source": [
    "\n",
    "\n",
    "def power(base, exp=2):\n",
    "    return base ** exp\n",
    "\n",
    "print(power(3))  # Uses default exponent 2 → Output: 9\n",
    "print(power(3, 3))  # Output: 27\n"
   ]
  },
  {
   "cell_type": "markdown",
   "metadata": {},
   "source": [
    "### **4. Variable-Length Arguments**\n",
    "#### **Using `*args` (Multiple Positional Arguments)**\n",
    "***args (Tuple)**<br>\n",
    "When you use *args in a function definition, Python packs all the extra positional arguments into a tuple"
   ]
  },
  {
   "cell_type": "code",
   "execution_count": 13,
   "metadata": {},
   "outputs": [
    {
     "name": "stdout",
     "output_type": "stream",
     "text": [
      "<class 'tuple'>\n",
      "15\n"
     ]
    }
   ],
   "source": [
    "def sum_numbers(*args):\n",
    "    print(type(args))\n",
    "    return sum(args)\n",
    "\n",
    "print(sum_numbers(1, 2, 3, 4, 5))  # Output: 15"
   ]
  },
  {
   "cell_type": "markdown",
   "metadata": {},
   "source": [
    "##### This means you can use any tuple operations on the args parameter:\n",
    "\n",
    "* Indexing: args[0]\n",
    "* Slicing: args[1:3]\n",
    "* Iteration: for arg in args:"
   ]
  },
  {
   "cell_type": "code",
   "execution_count": 14,
   "metadata": {},
   "outputs": [
    {
     "name": "stdout",
     "output_type": "stream",
     "text": [
      "10\n",
      "hello\n",
      "None\n"
     ]
    }
   ],
   "source": [
    "def first_argument(*args):\n",
    "    if args:  # Check if args is not empty\n",
    "        return args[0]  # Return the first argument\n",
    "    return None  # Return None if no arguments were provided\n",
    "\n",
    "print(first_argument(10, 20, 30))  # Output: 10\n",
    "print(first_argument(\"hello\", \"world\"))  # Output: \"hello\"\n",
    "print(first_argument())  # Output: None"
   ]
  },
  {
   "cell_type": "code",
   "execution_count": 15,
   "metadata": {},
   "outputs": [
    {
     "name": "stdout",
     "output_type": "stream",
     "text": [
      "(20, 30)\n",
      "('b', 'c')\n",
      "()\n"
     ]
    }
   ],
   "source": [
    "def get_middle_arguments(*args):\n",
    "    # Get the 2nd and 3rd arguments (if they exist)\n",
    "    middle = args[1:3]\n",
    "    return middle\n",
    "\n",
    "print(get_middle_arguments(10, 20, 30, 40, 50))  # Output: (20, 30)\n",
    "print(get_middle_arguments(\"a\", \"b\", \"c\"))  # Output: (\"b\", \"c\")\n",
    "print(get_middle_arguments(1))  # Output: () (empty tuple)"
   ]
  },
  {
   "cell_type": "code",
   "execution_count": 16,
   "metadata": {},
   "outputs": [
    {
     "name": "stdout",
     "output_type": "stream",
     "text": [
      "[1, 4, 9, 16]\n",
      "[]\n"
     ]
    }
   ],
   "source": [
    "def process_all_arguments(*args):\n",
    "    results = []\n",
    "    for arg in args:\n",
    "        # Process each argument (squaring in this example)\n",
    "        results.append(arg ** 2)\n",
    "    return results\n",
    "\n",
    "print(process_all_arguments(1, 2, 3, 4))  # Output: [1, 4, 9, 16]\n",
    "print(process_all_arguments())  # Output: [] (empty list)"
   ]
  },
  {
   "cell_type": "markdown",
   "metadata": {},
   "source": [
    "### **Using `**kwargs` (Multiple Keyword Arguments)**\n",
    "\n",
    "When you use ` **kwargs `, Python collects all extra keyword arguments into a **dictionary**:"
   ]
  },
  {
   "cell_type": "code",
   "execution_count": null,
   "metadata": {},
   "outputs": [
    {
     "name": "stdout",
     "output_type": "stream",
     "text": [
      "<class 'dict'>\n",
      "name: Chandhan\n",
      "age: 22\n",
      "country: India\n"
     ]
    }
   ],
   "source": [
    "def display_info(**kwargs):\n",
    "\n",
    "    print(type(kwargs))\n",
    "    \n",
    "    for key, value in kwargs.items():\n",
    "        print(f\"{key}: {value}\")\n",
    "\n",
    "display_info(name=\"Chandhan\", age=22, country=\"India\")\n"
   ]
  },
  {
   "cell_type": "markdown",
   "metadata": {},
   "source": [
    "##### This allows you to use dictionary methods on the kwargs parameter:\n",
    "\n",
    "* Get values: kwargs[\"name\"] or kwargs.get(\"name\")\n",
    "* Iteration: for key, value in kwargs.items():\n",
    "* Check for keys: if \"name\" in kwargs:"
   ]
  },
  {
   "cell_type": "code",
   "execution_count": 19,
   "metadata": {},
   "outputs": [
    {
     "name": "stdout",
     "output_type": "stream",
     "text": [
      "Hi Ck\n"
     ]
    }
   ],
   "source": [
    "def greetUsingFname(**kwargs):\n",
    "    if \"firstname\" in kwargs:\n",
    "        fname = kwargs[\"firstname\"]\n",
    "    print(f\"Hi {fname}\")\n",
    "\n",
    "    \n",
    "\n",
    "greetUsingFname(firstname =\"Ck\", lastname =\"Barada\")"
   ]
  },
  {
   "cell_type": "markdown",
   "metadata": {},
   "source": [
    "--------\n",
    "-------"
   ]
  }
 ],
 "metadata": {
  "kernelspec": {
   "display_name": "py101",
   "language": "python",
   "name": "python3"
  },
  "language_info": {
   "codemirror_mode": {
    "name": "ipython",
    "version": 3
   },
   "file_extension": ".py",
   "mimetype": "text/x-python",
   "name": "python",
   "nbconvert_exporter": "python",
   "pygments_lexer": "ipython3",
   "version": "3.12.4"
  }
 },
 "nbformat": 4,
 "nbformat_minor": 2
}
