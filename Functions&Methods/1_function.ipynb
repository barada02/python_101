{
 "cells": [
  {
   "cell_type": "markdown",
   "metadata": {},
   "source": [
    "# Functions\n",
    "\n",
    "#### 1. What is a Function?\n",
    "A function is a reusable block of code that performs a specific task. It helps in:\n",
    "\n",
    "* Avoiding repetition\n",
    "* Organizing code into logical blocks\n",
    "* Improving readability and maintainability"
   ]
  },
  {
   "cell_type": "markdown",
   "metadata": {},
   "source": [
    "#### 2. Types of Functions\n",
    "Python has two main types of functions:\n",
    "\n",
    "1. Built-in Functions → Predefined in Python (e.g., print(), len(), sum())\n",
    "2. User-Defined Functions → Created by the programmer\n",
    "\n",
    "------"
   ]
  },
  {
   "cell_type": "markdown",
   "metadata": {},
   "source": [
    "#### **3. Defining a Function**\n",
    "A function is defined using the `def` keyword.\n",
    "\n",
    "##### **Syntax:**\n",
    "```python\n",
    "def function_name(parameters):\n",
    "    \"\"\"Docstring: Explain what the function does.\"\"\"\n",
    "    # Function body\n",
    "    return result  # (optional)\n",
    "```"
   ]
  },
  {
   "cell_type": "markdown",
   "metadata": {},
   "source": [
    "### void functions\n",
    "\n",
    "Key characteristics of void functions in Python:\n",
    "\n",
    "* They don't have a return statement, or they use return without a value\n",
    "* They execute tasks or produce side effects (like printing output or modifying data)\n",
    "* They implicitly return None when execution completes"
   ]
  },
  {
   "cell_type": "code",
   "execution_count": 1,
   "metadata": {},
   "outputs": [],
   "source": [
    "# A void function that prints a message\n",
    "def greet(name):\n",
    "    print(f\"Hello, {name}!\")\n",
    "    # No return statement\n",
    "\n",
    "# A void function that modifies a list\n",
    "def add_item(item, target_list):\n",
    "    target_list.append(item)\n",
    "    # No return statement\n",
    "\n",
    "# Explicitly returning None (same effect)\n",
    "def process_data(data):\n",
    "    print(\"Processing data...\")\n",
    "    return None"
   ]
  },
  {
   "cell_type": "code",
   "execution_count": 3,
   "metadata": {},
   "outputs": [
    {
     "name": "stdout",
     "output_type": "stream",
     "text": [
      "Hello, Miss!\n",
      "Hello, Mr.!\n",
      "None\n",
      "<class 'NoneType'>\n"
     ]
    }
   ],
   "source": [
    "greet(\"Miss\")\n",
    "x = greet(\"Mr.\")\n",
    "print(x)\n",
    "print(type(x))"
   ]
  },
  {
   "cell_type": "markdown",
   "metadata": {},
   "source": [
    "#### returning Functions"
   ]
  },
  {
   "cell_type": "code",
   "execution_count": 6,
   "metadata": {},
   "outputs": [
    {
     "name": "stdout",
     "output_type": "stream",
     "text": [
      "Hello, Chandhan!\n",
      "<class 'str'>\n",
      "Hello, ck!\n"
     ]
    }
   ],
   "source": [
    "def greet(name):\n",
    "    \"\"\"Function to greet a person\"\"\"\n",
    "    return f\"Hello, {name}!\"\n",
    "\n",
    "print(greet(\"Chandhan\"))\n",
    "\n",
    "x = greet(\"ck\")\n",
    "print(type(x))\n",
    "print(x)"
   ]
  },
  {
   "cell_type": "markdown",
   "metadata": {},
   "source": [
    "---\n",
    "\n",
    "## **4. Function Arguments and Parameters**\n",
    "Parameters are variables that hold values passed to the function. Arguments are actual values passed to the function.\n",
    "\n",
    "### **Types of Arguments in Python**\n",
    "1. **Positional Arguments** (Order matters)\n",
    "2. **Keyword Arguments** (Specify argument name)\n",
    "3. **Default Arguments** (Provide a default value)\n",
    "4. **Variable-Length Arguments** (`*args`, `**kwargs`)\n",
    "\n",
    "---"
   ]
  },
  {
   "cell_type": "markdown",
   "metadata": {},
   "source": [
    "\n",
    "#### **1. Positional Arguments**"
   ]
  },
  {
   "cell_type": "code",
   "execution_count": 7,
   "metadata": {},
   "outputs": [
    {
     "name": "stdout",
     "output_type": "stream",
     "text": [
      "15\n"
     ]
    }
   ],
   "source": [
    "def add(a, b):\n",
    "    return a + b\n",
    "\n",
    "print(add(5, 10))  # Output: 15"
   ]
  },
  {
   "cell_type": "markdown",
   "metadata": {},
   "source": [
    "#### **2. Keyword Arguments**\n"
   ]
  },
  {
   "cell_type": "code",
   "execution_count": 8,
   "metadata": {},
   "outputs": [
    {
     "name": "stdout",
     "output_type": "stream",
     "text": [
      "Name: Chandhan, Age: 20\n"
     ]
    }
   ],
   "source": [
    "def student_info(name, age):\n",
    "    return f\"Name: {name}, Age: {age}\"\n",
    "\n",
    "print(student_info(age=20, name=\"Chandhan\"))  # Order doesn't matter"
   ]
  },
  {
   "cell_type": "markdown",
   "metadata": {},
   "source": [
    "#### **3. Default Arguments**"
   ]
  },
  {
   "cell_type": "code",
   "execution_count": 9,
   "metadata": {},
   "outputs": [
    {
     "name": "stdout",
     "output_type": "stream",
     "text": [
      "9\n",
      "27\n"
     ]
    }
   ],
   "source": [
    "\n",
    "\n",
    "def power(base, exp=2):\n",
    "    return base ** exp\n",
    "\n",
    "print(power(3))  # Uses default exponent 2 → Output: 9\n",
    "print(power(3, 3))  # Output: 27\n"
   ]
  },
  {
   "cell_type": "markdown",
   "metadata": {},
   "source": [
    "\n",
    "\n",
    "\n",
    "\n",
    "### **4. Variable-Length Arguments**\n",
    "#### **Using `*args` (Multiple Positional Arguments)**\n",
    "```python\n",
    "def sum_numbers(*args):\n",
    "    return sum(args)\n",
    "\n",
    "print(sum_numbers(1, 2, 3, 4, 5))  # Output: 15\n",
    "```\n",
    "\n",
    "#### **Using `**kwargs` (Multiple Keyword Arguments)**\n",
    "```python\n",
    "def display_info(**kwargs):\n",
    "    for key, value in kwargs.items():\n",
    "        print(f\"{key}: {value}\")\n",
    "\n",
    "display_info(name=\"Chandhan\", age=22, country=\"India\")\n",
    "```\n",
    "\n",
    "---\n",
    "\n",
    "## **5. Returning Values**\n",
    "Functions can return values using `return`.\n",
    "\n",
    "```python\n",
    "def square(n):\n",
    "    return n * n\n",
    "\n",
    "result = square(4)\n",
    "print(result)  # Output: 16\n",
    "```\n",
    "\n",
    "---\n",
    "\n",
    "## **6. Scope and Lifetime of Variables**\n",
    "- **Local Variables** → Defined inside a function, accessible only within it.\n",
    "- **Global Variables** → Defined outside functions, accessible anywhere.\n",
    "- **Nonlocal Variables** → Used in nested functions.\n",
    "\n",
    "```python\n",
    "x = 10  # Global variable\n",
    "\n",
    "def outer():\n",
    "    y = 20  # Local variable\n",
    "\n",
    "    def inner():\n",
    "        nonlocal y\n",
    "        y += 5\n",
    "        print(\"Inner y:\", y)  # Output: 25\n",
    "\n",
    "    inner()\n",
    "    print(\"Outer y:\", y)  # Output: 25\n",
    "\n",
    "outer()\n",
    "```\n",
    "\n",
    "---\n",
    "\n",
    "## **7. Lambda (Anonymous) Functions**\n",
    "A **lambda function** is a small anonymous function that can have multiple arguments but only one expression.\n",
    "\n",
    "### **Syntax:**\n",
    "```python\n",
    "lambda arguments: expression\n",
    "```\n",
    "\n",
    "### **Example:**\n",
    "```python\n",
    "square = lambda x: x ** 2\n",
    "print(square(5))  # Output: 25\n",
    "\n",
    "add = lambda a, b: a + b\n",
    "print(add(3, 4))  # Output: 7\n",
    "```\n",
    "\n",
    "Lambda functions are often used in **map, filter, and reduce** operations.\n",
    "\n",
    "---\n",
    "\n",
    "## **8. Higher-Order Functions**\n",
    "Functions that take other functions as arguments.\n",
    "\n",
    "### **1. `map()` Function**\n",
    "Applies a function to all elements in an iterable.\n",
    "```python\n",
    "nums = [1, 2, 3, 4]\n",
    "squared = list(map(lambda x: x ** 2, nums))\n",
    "print(squared)  # Output: [1, 4, 9, 16]\n",
    "```\n",
    "\n",
    "### **2. `filter()` Function**\n",
    "Filters elements based on a condition.\n",
    "```python\n",
    "nums = [1, 2, 3, 4, 5, 6]\n",
    "even_nums = list(filter(lambda x: x % 2 == 0, nums))\n",
    "print(even_nums)  # Output: [2, 4, 6]\n",
    "```\n",
    "\n",
    "### **3. `reduce()` Function (from `functools` module)**\n",
    "Used for cumulative operations.\n",
    "```python\n",
    "from functools import reduce\n",
    "nums = [1, 2, 3, 4]\n",
    "product = reduce(lambda x, y: x * y, nums)\n",
    "print(product)  # Output: 24\n",
    "```\n",
    "\n",
    "---\n",
    "\n",
    "## **9. Recursive Functions**\n",
    "A function that calls itself.\n",
    "\n",
    "### **Example: Factorial Calculation**\n",
    "```python\n",
    "def factorial(n):\n",
    "    if n == 1:\n",
    "        return 1\n",
    "    return n * factorial(n - 1)\n",
    "\n",
    "print(factorial(5))  # Output: 120\n",
    "```\n",
    "\n",
    "### **Example: Fibonacci Sequence**\n",
    "```python\n",
    "def fibonacci(n):\n",
    "    if n <= 1:\n",
    "        return n\n",
    "    return fibonacci(n - 1) + fibonacci(n - 2)\n",
    "\n",
    "print(fibonacci(6))  # Output: 8\n",
    "```\n",
    "\n",
    "---\n",
    "\n",
    "## **10. Decorators**\n",
    "A function that takes another function as input and extends its behavior without modifying it.\n",
    "\n",
    "### **Example:**\n",
    "```python\n",
    "def decorator_function(original_function):\n",
    "    def wrapper_function():\n",
    "        print(\"Wrapper executed before\", original_function.__name__)\n",
    "        return original_function()\n",
    "    return wrapper_function\n",
    "\n",
    "@decorator_function\n",
    "def display():\n",
    "    print(\"Display function executed\")\n",
    "\n",
    "display()\n",
    "```\n",
    "\n",
    "---\n",
    "\n",
    "## **11. Generators**\n",
    "A generator is a function that returns an iterator using `yield` instead of `return`.\n",
    "\n",
    "```python\n",
    "def count_up_to(n):\n",
    "    count = 1\n",
    "    while count <= n:\n",
    "        yield count\n",
    "        count += 1\n",
    "\n",
    "for num in count_up_to(5):\n",
    "    print(num)\n",
    "```\n",
    "\n",
    "---\n",
    "\n",
    "## **12. Function Annotations**\n",
    "Python allows function annotations for better readability.\n",
    "\n",
    "```python\n",
    "def add(a: int, b: int) -> int:\n",
    "    return a + b\n",
    "\n",
    "print(add(3, 4))  # Output: 7\n",
    "```\n",
    "\n",
    "---\n",
    "\n",
    "## **13. Partial Functions**\n",
    "`functools.partial` allows fixing some arguments of a function.\n",
    "\n",
    "```python\n",
    "from functools import partial\n",
    "\n",
    "def power(base, exp):\n",
    "    return base ** exp\n",
    "\n",
    "square = partial(power, exp=2)\n",
    "print(square(4))  # Output: 16\n",
    "```\n",
    "\n",
    "---\n",
    "\n",
    "## **14. Function Overloading (Not Directly Supported)**\n",
    "Python does not support function overloading directly, but we can handle it using variable-length arguments.\n",
    "\n",
    "```python\n",
    "def greet(name=None):\n",
    "    if name:\n",
    "        print(f\"Hello, {name}!\")\n",
    "    else:\n",
    "        print(\"Hello!\")\n",
    "\n",
    "greet()         # Output: Hello!\n",
    "greet(\"Lisa\")   # Output: Hello, Lisa!\n",
    "```\n",
    "\n",
    "---\n",
    "\n",
    "## **15. First-Class Functions**\n",
    "Functions can be assigned to variables, returned from other functions, and passed as arguments.\n",
    "\n",
    "```python\n",
    "def square(x):\n",
    "    return x ** 2\n",
    "\n",
    "def apply_function(func, value):\n",
    "    return func(value)\n",
    "\n",
    "print(apply_function(square, 5))  # Output: 25\n",
    "```\n",
    "\n",
    "---\n",
    "\n",
    "### **Conclusion**\n",
    "Functions in Python are a powerful tool that allows modular programming, improves reusability, and enhances readability. Mastering functions will help you write efficient and structured code.\n",
    "\n",
    "Would you like more details on any specific topic? 🚀"
   ]
  }
 ],
 "metadata": {
  "kernelspec": {
   "display_name": "py101",
   "language": "python",
   "name": "python3"
  },
  "language_info": {
   "codemirror_mode": {
    "name": "ipython",
    "version": 3
   },
   "file_extension": ".py",
   "mimetype": "text/x-python",
   "name": "python",
   "nbconvert_exporter": "python",
   "pygments_lexer": "ipython3",
   "version": "3.12.4"
  }
 },
 "nbformat": 4,
 "nbformat_minor": 2
}
