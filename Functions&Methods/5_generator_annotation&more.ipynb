{
 "cells": [
  {
   "cell_type": "markdown",
   "metadata": {},
   "source": [
    "## **Generators**\n",
    "A generator is a function that returns an iterator using `yield` instead of `return`.\n",
    "\n",
    "\n",
    "\n"
   ]
  },
  {
   "cell_type": "code",
   "execution_count": 1,
   "metadata": {},
   "outputs": [
    {
     "name": "stdout",
     "output_type": "stream",
     "text": [
      "1\n",
      "2\n",
      "3\n",
      "4\n",
      "5\n"
     ]
    }
   ],
   "source": [
    "def count_up_to(n):\n",
    "    count = 1\n",
    "    while count <= n:\n",
    "        yield count\n",
    "        count += 1\n",
    "\n",
    "for num in count_up_to(5):\n",
    "    print(num)\n"
   ]
  },
  {
   "cell_type": "markdown",
   "metadata": {},
   "source": [
    "\n",
    "---\n",
    "\n",
    "## **Function Annotations**\n",
    "Python allows function annotations for better readability.\n",
    "\n"
   ]
  },
  {
   "cell_type": "code",
   "execution_count": 2,
   "metadata": {},
   "outputs": [
    {
     "name": "stdout",
     "output_type": "stream",
     "text": [
      "7\n"
     ]
    }
   ],
   "source": [
    "def add(a: int, b: int) -> int:\n",
    "    return a + b\n",
    "\n",
    "print(add(3, 4))  # Output: 7"
   ]
  },
  {
   "cell_type": "markdown",
   "metadata": {},
   "source": [
    "---\n",
    "\n",
    "## **13. Partial Functions**\n",
    "`functools.partial` allows fixing some arguments of a function."
   ]
  },
  {
   "cell_type": "code",
   "execution_count": null,
   "metadata": {},
   "outputs": [
    {
     "name": "stdout",
     "output_type": "stream",
     "text": [
      "16\n"
     ]
    }
   ],
   "source": [
    "from functools import partial\n",
    "\n",
    "def power(base, exp):\n",
    "    return base ** exp\n",
    "\n",
    "square = partial(power, exp=2)\n",
    "print(square(4))  "
   ]
  },
  {
   "cell_type": "markdown",
   "metadata": {},
   "source": [
    "\n",
    "\n",
    "---\n",
    "\n",
    "## **14. Function Overloading (Not Directly Supported)**\n",
    "Python does not support function overloading directly, but we can handle it using variable-length arguments.\n",
    "\n",
    "```python\n",
    "def greet(name=None):\n",
    "    if name:\n",
    "        print(f\"Hello, {name}!\")\n",
    "    else:\n",
    "        print(\"Hello!\")\n",
    "\n",
    "greet()         # Output: Hello!\n",
    "greet(\"Lisa\")   # Output: Hello, Lisa!\n",
    "```\n",
    "\n",
    "---\n",
    "\n",
    "## **15. First-Class Functions**\n",
    "Functions can be assigned to variables, returned from other functions, and passed as arguments.\n",
    "\n",
    "```python\n",
    "def square(x):\n",
    "    return x ** 2\n",
    "\n",
    "def apply_function(func, value):\n",
    "    return func(value)\n",
    "\n",
    "print(apply_function(square, 5))  # Output: 25\n",
    "```\n",
    "\n",
    "---\n",
    "\n",
    "### **Conclusion**\n",
    "Functions in Python are a powerful tool that allows modular programming, improves reusability, and enhances readability. Mastering functions will help you write efficient and structured code.\n",
    "\n",
    "Would you like more details on any specific topic? 🚀"
   ]
  }
 ],
 "metadata": {
  "kernelspec": {
   "display_name": "py101",
   "language": "python",
   "name": "python3"
  },
  "language_info": {
   "codemirror_mode": {
    "name": "ipython",
    "version": 3
   },
   "file_extension": ".py",
   "mimetype": "text/x-python",
   "name": "python",
   "nbconvert_exporter": "python",
   "pygments_lexer": "ipython3",
   "version": "3.12.4"
  }
 },
 "nbformat": 4,
 "nbformat_minor": 2
}
