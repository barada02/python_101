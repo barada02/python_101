{
 "cells": [
  {
   "cell_type": "markdown",
   "metadata": {},
   "source": [
    "# Function Vs Methods"
   ]
  },
  {
   "cell_type": "markdown",
   "metadata": {},
   "source": [
    "In Python, the terms \"method\" and \"function\" refer to similar concepts but with an important distinction:\n",
    "\n",
    "**Functions:**\n",
    "- Standalone blocks of code that are called by name\n",
    "- Defined using the `def` keyword outside of any class\n",
    "- Not associated with any particular object or class\n",
    "\n",
    "```python\n",
    "def add_numbers(a, b):\n",
    "    return a + b\n",
    "\n",
    "result = add_numbers(5, 3)  # Calling a function\n",
    "```\n"
   ]
  },
  {
   "cell_type": "markdown",
   "metadata": {},
   "source": [
    "\n",
    "**Methods:**\n",
    "- Functions that are defined inside a class\n",
    "- Always associated with a class and its objects\n",
    "- The first parameter is typically `self`, referring to the instance of the class\n",
    "\n",
    "```python\n",
    "class Calculator:\n",
    "    def add_numbers(self, a, b):  # This is a method\n",
    "        return a + b\n",
    "\n",
    "calc = Calculator()\n",
    "result = calc.add_numbers(5, 3)  # Calling a method on an object\n",
    "```\n",
    "\n",
    "The key difference is that methods are associated with objects/classes, while functions exist independently. Methods are called on objects using dot notation, while functions are called directly by name."
   ]
  },
  {
   "cell_type": "markdown",
   "metadata": {},
   "source": [
    "Here are some examples of built-in methods in Python, organized by the types they belong to:\n",
    "\n",
    "**String Methods:**\n",
    "- `str.upper()` - Converts string to uppercase\n",
    "- `str.lower()` - Converts string to lowercase\n",
    "- `str.strip()` - Removes whitespace from beginning and end\n",
    "- `str.replace(old, new)` - Replaces occurrences of a substring\n",
    "- `str.split(separator)` - Splits string into a list\n",
    "\n",
    "**List Methods:**\n",
    "- `list.append(item)` - Adds an item to the end\n",
    "- `list.insert(index, item)` - Inserts item at specified position\n",
    "- `list.remove(item)` - Removes first occurrence of item\n",
    "- `list.sort()` - Sorts the list in-place\n",
    "- `list.pop([index])` - Removes and returns item at index\n",
    "\n",
    "**Dictionary Methods:**\n",
    "- `dict.get(key, [default])` - Returns value for key, or default if key not found\n",
    "- `dict.keys()` - Returns a view of dictionary's keys\n",
    "- `dict.values()` - Returns a view of dictionary's values\n",
    "- `dict.update(other_dict)` - Updates dictionary with items from another\n",
    "- `dict.pop(key)` - Removes key and returns its value\n",
    "\n",
    "**Set Methods:**\n",
    "- `set.add(item)` - Adds an element to the set\n",
    "- `set.remove(item)` - Removes element from set\n",
    "- `set.union(other_set)` - Returns union of sets\n",
    "- `set.intersection(other_set)` - Returns intersection of sets\n",
    "- `set.difference(other_set)` - Returns difference of sets\n",
    "\n",
    "**File Object Methods:**\n",
    "- `file.read([size])` - Reads specified number of bytes/characters\n",
    "- `file.write(string)` - Writes string to file\n",
    "- `file.close()` - Closes the file\n",
    "- `file.readline()` - Reads a line from file\n",
    "- `file.seek(offset)` - Changes file position\n",
    "\n",
    "These methods are attached to their respective object types and are called using dot notation on instances of those types."
   ]
  },
  {
   "cell_type": "markdown",
   "metadata": {},
   "source": [
    "-----\n",
    "## **6. Scope and Lifetime of Variables**\n",
    "- **Local Variables** → Defined inside a function, accessible only within it.\n",
    "- **Global Variables** → Defined outside functions, accessible anywhere.\n",
    "- **Nonlocal Variables** → Used in nested functions.\n",
    "\n",
    "```python\n",
    "x = 10  # Global variable\n",
    "\n",
    "def outer():\n",
    "    y = 20  # Local variable\n",
    "\n",
    "    def inner():\n",
    "        nonlocal y\n",
    "        y += 5\n",
    "        print(\"Inner y:\", y)  # Output: 25\n",
    "\n",
    "    inner()\n",
    "    print(\"Outer y:\", y)  # Output: 25\n",
    "\n",
    "outer()\n",
    "```\n",
    "\n",
    "---"
   ]
  }
 ],
 "metadata": {
  "language_info": {
   "name": "python"
  }
 },
 "nbformat": 4,
 "nbformat_minor": 2
}
