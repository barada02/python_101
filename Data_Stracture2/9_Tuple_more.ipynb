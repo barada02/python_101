{
 "cells": [
  {
   "cell_type": "markdown",
   "metadata": {},
   "source": [
    "# More on Tuple"
   ]
  },
  {
   "cell_type": "markdown",
   "metadata": {},
   "source": [
    "## Functions Returning Multiple Values      "
   ]
  },
  {
   "cell_type": "code",
   "execution_count": 1,
   "metadata": {},
   "outputs": [
    {
     "name": "stdout",
     "output_type": "stream",
     "text": [
      "11.5 25.7\n"
     ]
    }
   ],
   "source": [
    "def get_cordinates():\n",
    "    return (11.5,25.7)\n",
    "\n",
    "x, y = get_cordinates()\n",
    "print(x,y)"
   ]
  },
  {
   "cell_type": "markdown",
   "metadata": {},
   "source": [
    "### Nesting and Converting Tuples"
   ]
  },
  {
   "cell_type": "code",
   "execution_count": 2,
   "metadata": {},
   "outputs": [
    {
     "name": "stdout",
     "output_type": "stream",
     "text": [
      "NLP\n",
      "3.8\n"
     ]
    }
   ],
   "source": [
    "nested_tuple = ((\"Physics\",\"Ml\",\"NLP\"),(3.6,3.8,3.9))\n",
    "print(nested_tuple[0][2])\n",
    "print(nested_tuple[1][1])"
   ]
  },
  {
   "cell_type": "code",
   "execution_count": null,
   "metadata": {},
   "outputs": [
    {
     "name": "stdout",
     "output_type": "stream",
     "text": [
      "(5, 5, 6) [5, 5, 6]\n"
     ]
    }
   ],
   "source": [
    "#Convertiing between lists and tuples\n",
    "\n",
    "lst = [5,5,6]\n",
    "\n",
    "tp1 = tuple(lst)\n",
    "\n",
    "lst2 = list(tpl)\n",
    "\n",
    "print(tp1,lst2)"
   ]
  },
  {
   "cell_type": "markdown",
   "metadata": {},
   "source": [
    "## Using Tuples as Dictionary Keys"
   ]
  },
  {
   "cell_type": "code",
   "execution_count": 5,
   "metadata": {},
   "outputs": [
    {
     "name": "stdout",
     "output_type": "stream",
     "text": [
      "{(15.5, 77.65): 'India', (468.654, 588): 'Srilanka'}\n"
     ]
    }
   ],
   "source": [
    "locations ={\n",
    "    (15.5,77.65): \"India\",\n",
    "    (468.654,588): \"Srilanka\"\n",
    "}\n",
    "\n",
    "print(locations)"
   ]
  },
  {
   "cell_type": "markdown",
   "metadata": {},
   "source": [
    "## Sorting a Tuple "
   ]
  },
  {
   "cell_type": "code",
   "execution_count": 6,
   "metadata": {},
   "outputs": [
    {
     "name": "stdout",
     "output_type": "stream",
     "text": [
      "(4, 4, 24, 46, 46, 54, 64, 64, 464, 498, 646, 949, 4964)\n"
     ]
    }
   ],
   "source": [
    "tpp = (24,64,54,464,4964,949,498,4,646,46,46,4,64)\n",
    "sorted = tuple(sorted(tpp))\n",
    "\n",
    "print(sorted)"
   ]
  },
  {
   "cell_type": "markdown",
   "metadata": {},
   "source": [
    "#### using zip() to combine Tuple "
   ]
  },
  {
   "cell_type": "code",
   "execution_count": 7,
   "metadata": {},
   "outputs": [
    {
     "name": "stdout",
     "output_type": "stream",
     "text": [
      "(('Sneha', 4.7), ('Divya', 4.5), ('Hira', 4.2), ('Riya', 4.6), ('Kavya', 4.8))\n"
     ]
    }
   ],
   "source": [
    "names = (\"Sneha\",\"Divya\",\"Hira\",\"Riya\",\"Kavya\")\n",
    "score = (4.7,4.5,4.2,4.6,4.8)\n",
    "\n",
    "combined = tuple (zip(names,score))\n",
    "print(combined)"
   ]
  }
 ],
 "metadata": {
  "kernelspec": {
   "display_name": "py101",
   "language": "python",
   "name": "python3"
  },
  "language_info": {
   "codemirror_mode": {
    "name": "ipython",
    "version": 3
   },
   "file_extension": ".py",
   "mimetype": "text/x-python",
   "name": "python",
   "nbconvert_exporter": "python",
   "pygments_lexer": "ipython3",
   "version": "3.12.4"
  }
 },
 "nbformat": 4,
 "nbformat_minor": 2
}
