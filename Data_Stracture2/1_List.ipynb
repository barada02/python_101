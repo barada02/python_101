{
 "cells": [
  {
   "cell_type": "markdown",
   "metadata": {},
   "source": [
    "# List \n",
    "A list is a built-in data structure in Python that allows you to store multiple items in a single variable. Lists are **ordered, mutable** (can be changed), and can contain elements of different data types.\n"
   ]
  },
  {
   "cell_type": "code",
   "execution_count": 2,
   "metadata": {},
   "outputs": [
    {
     "name": "stdout",
     "output_type": "stream",
     "text": [
      "[10, 'hello', 3.14, True, 3.14] Can store repeted value\n"
     ]
    }
   ],
   "source": [
    "mixed_list = [10, \"hello\", 3.14, True, 3.14]\n",
    "print(mixed_list, \"Can store repeted value\")  \n"
   ]
  },
  {
   "cell_type": "markdown",
   "metadata": {},
   "source": [
    "#### creating a List"
   ]
  },
  {
   "cell_type": "code",
   "execution_count": 3,
   "metadata": {},
   "outputs": [
    {
     "name": "stdout",
     "output_type": "stream",
     "text": [
      "[]\n",
      "[]\n",
      "['P', 'y', 't', 'h', 'o', 'n']\n",
      "[1, 2, 3, 4, 5]\n"
     ]
    }
   ],
   "source": [
    "#1\n",
    "emptyList = []\n",
    "print(emptyList)\n",
    "\n",
    "using_list = list()\n",
    "print(using_list)\n",
    "\n",
    "word_list = list(\"Python\")\n",
    "print(word_list)\n",
    "\n",
    "range_list = list(range(1,6))\n",
    "print(range_list)"
   ]
  },
  {
   "cell_type": "markdown",
   "metadata": {},
   "source": [
    "### 💡Convert a sting into list of charecters it made of \n",
    "\n",
    "```python\n",
    "wl = list(\"Python is All rounder\")\n",
    "print(wl)\n",
    "```\n",
    "\n",
    "['P', 'y', 't', 'h', 'o', 'n', ' ', 'i', 's', ' ', 'A', 'l', 'l', ' ', 'r', 'o', 'u', 'n', 'd', 'e', 'r']"
   ]
  },
  {
   "cell_type": "markdown",
   "metadata": {},
   "source": [
    "#### List Indexing"
   ]
  },
  {
   "cell_type": "code",
   "execution_count": 8,
   "metadata": {},
   "outputs": [
    {
     "name": "stdout",
     "output_type": "stream",
     "text": [
      "apple\n",
      "banana\n",
      "cherry\n"
     ]
    }
   ],
   "source": [
    "fruits = [\"apple\", \"banana\", \"cherry\"]\n",
    "print(fruits[0])\n",
    "print(fruits[1]) \n",
    "print(fruits[2])  \n"
   ]
  },
  {
   "cell_type": "code",
   "execution_count": 9,
   "metadata": {},
   "outputs": [
    {
     "name": "stdout",
     "output_type": "stream",
     "text": [
      "cherry\n",
      "banana\n",
      "apple\n"
     ]
    }
   ],
   "source": [
    "print(fruits[-1])  \n",
    "print(fruits[-2])  \n",
    "print(fruits[-3])  "
   ]
  },
  {
   "cell_type": "markdown",
   "metadata": {},
   "source": [
    "#### List Slicing\n",
    "Slicing allows you to extract a portion of a list.\n",
    "Syntax: <br>\n",
    "\n",
    "\n",
    "list[start:stop:step] <br>\n",
    "\n",
    "start: Starting index (inclusive)<br>\n",
    "stop: Ending index (exclusive)<br>\n",
    "step: Step size (default is 1)<br>"
   ]
  },
  {
   "cell_type": "code",
   "execution_count": 10,
   "metadata": {},
   "outputs": [
    {
     "name": "stdout",
     "output_type": "stream",
     "text": [
      "[20, 30, 40]\n",
      "[10, 20, 30]\n",
      "[40, 50, 60]\n",
      "[10, 30, 50]\n",
      "[60, 50, 40, 30, 20, 10]\n"
     ]
    }
   ],
   "source": [
    "numbers = [10, 20, 30, 40, 50, 60]\n",
    "\n",
    "print(numbers[1:4])   # \n",
    "print(numbers[:3])    # start from 0\n",
    "print(numbers[3:])    # till end\n",
    "print(numbers[::2])   # every second element\n",
    "print(numbers[::-1])  # reversed list\n"
   ]
  },
  {
   "cell_type": "markdown",
   "metadata": {},
   "source": [
    "##### Finding the Length of a List"
   ]
  },
  {
   "cell_type": "code",
   "execution_count": 1,
   "metadata": {},
   "outputs": [
    {
     "name": "stdout",
     "output_type": "stream",
     "text": [
      "3\n"
     ]
    }
   ],
   "source": [
    "items = [\"pen\", \"book\", \"laptop\"]\n",
    "print(len(items))  # Output: 3\n"
   ]
  },
  {
   "cell_type": "markdown",
   "metadata": {},
   "source": [
    "# Modifying Lists in Python\n",
    " modify lists by adding, removing, and updating elements."
   ]
  },
  {
   "cell_type": "markdown",
   "metadata": {},
   "source": [
    "#### Adding Elements to a List\n",
    "\n",
    "1. Using append() . It Adds an element at the end"
   ]
  },
  {
   "cell_type": "code",
   "execution_count": 14,
   "metadata": {},
   "outputs": [
    {
     "name": "stdout",
     "output_type": "stream",
     "text": [
      "['ML', 'LLM', 'Deep Learning']\n"
     ]
    }
   ],
   "source": [
    "AI =[\"ML\",\"LLM\"]\n",
    "AI.append(\"Deep Learning\")\n",
    "print(AI)"
   ]
  },
  {
   "cell_type": "markdown",
   "metadata": {},
   "source": [
    "2. Using insert() . It insert an element at a specific index"
   ]
  },
  {
   "cell_type": "code",
   "execution_count": 11,
   "metadata": {},
   "outputs": [
    {
     "name": "stdout",
     "output_type": "stream",
     "text": [
      "['ML', 'LLM', 'Computer Visison', 'Deep Learning']\n"
     ]
    }
   ],
   "source": [
    "AI.insert(2,\"Computer Visison\")\n",
    "print(AI)"
   ]
  },
  {
   "cell_type": "markdown",
   "metadata": {},
   "source": [
    "3. Using extend() , It merges two lists"
   ]
  },
  {
   "cell_type": "code",
   "execution_count": 12,
   "metadata": {},
   "outputs": [
    {
     "name": "stdout",
     "output_type": "stream",
     "text": [
      "['ML', 'LLM', 'Computer Visison', 'Deep Learning', 'Linear Algebra', 'Mtrix Calculation']\n"
     ]
    }
   ],
   "source": [
    "ml_math = [\"Linear Algebra\",\"Mtrix Calculation\"]\n",
    "AI.extend(ml_math)\n",
    "print(AI)"
   ]
  },
  {
   "cell_type": "markdown",
   "metadata": {},
   "source": [
    "\n",
    "## Remove Elements from a list\n",
    "\n",
    "1. Using remore() , It removes the first occurrence of a value"
   ]
  },
  {
   "cell_type": "code",
   "execution_count": 34,
   "metadata": {},
   "outputs": [
    {
     "name": "stdout",
     "output_type": "stream",
     "text": [
      "['Cow', 'Dog', 'Cat', 'Elephant', 'Tiger', 'Lion', 'Deer', 'Bear']\n"
     ]
    }
   ],
   "source": [
    "animals = [ \"Cow\",\"Elephant\",\"Dog\", \"Cat\",\"Elephant\",\"Tiger\",\"Lion\", \"Deer\", \"Bear\"]\n",
    "animals.remove(\"Elephant\")\n",
    "print(animals)"
   ]
  },
  {
   "cell_type": "markdown",
   "metadata": {},
   "source": [
    "2. Using pop() , It removes an elemet by index and **returns it**\n",
    "\n",
    "so unlike other method we can extract a value from the list . it remove the iteam and return it . \n",
    "Default index value is -1 so it remove the last iteam"
   ]
  },
  {
   "cell_type": "code",
   "execution_count": 35,
   "metadata": {},
   "outputs": [
    {
     "name": "stdout",
     "output_type": "stream",
     "text": [
      "['Cow', 'Dog', 'Cat', 'Elephant', 'Tiger', 'Lion', 'Deer']\n",
      "Removed element is  Bear\n",
      "last second iteam removed is Lion\n",
      "['Cow', 'Dog', 'Cat', 'Elephant', 'Tiger', 'Deer']\n"
     ]
    }
   ],
   "source": [
    "x = animals.pop() # it will remove the last element \n",
    "print(animals) \n",
    "\n",
    "print(\"Removed element is \",x)\n",
    "\n",
    "last_second = animals.pop(-2)\n",
    "print(\"last second iteam removed is\" , last_second)\n",
    "\n",
    "print(animals)\n",
    "\n"
   ]
  },
  {
   "cell_type": "markdown",
   "metadata": {},
   "source": [
    "3. Using del deletes an element or entire list"
   ]
  },
  {
   "cell_type": "code",
   "execution_count": 36,
   "metadata": {},
   "outputs": [
    {
     "name": "stdout",
     "output_type": "stream",
     "text": [
      "['Cow', 'Dog', 'Elephant', 'Tiger', 'Deer']\n"
     ]
    }
   ],
   "source": [
    "del animals[2]\n",
    "print(animals)\n",
    "\n"
   ]
  },
  {
   "cell_type": "markdown",
   "metadata": {},
   "source": [
    "🚨 After del fruits, the list no longer exists, and trying print(animals) will cause an error."
   ]
  },
  {
   "cell_type": "code",
   "execution_count": 37,
   "metadata": {},
   "outputs": [
    {
     "ename": "NameError",
     "evalue": "name 'animals' is not defined",
     "output_type": "error",
     "traceback": [
      "\u001b[1;31m---------------------------------------------------------------------------\u001b[0m",
      "\u001b[1;31mNameError\u001b[0m                                 Traceback (most recent call last)",
      "Cell \u001b[1;32mIn[37], line 3\u001b[0m\n\u001b[0;32m      1\u001b[0m \u001b[38;5;28;01mdel\u001b[39;00m animals\n\u001b[1;32m----> 3\u001b[0m \u001b[38;5;28mprint\u001b[39m(\u001b[43manimals\u001b[49m)\n",
      "\u001b[1;31mNameError\u001b[0m: name 'animals' is not defined"
     ]
    }
   ],
   "source": [
    "del animals\n",
    "\n",
    "print(animals)"
   ]
  },
  {
   "cell_type": "markdown",
   "metadata": {},
   "source": [
    "4. Using clear(), unlike del it removes all elements but keeps the list"
   ]
  },
  {
   "cell_type": "code",
   "execution_count": 38,
   "metadata": {},
   "outputs": [
    {
     "name": "stdout",
     "output_type": "stream",
     "text": [
      "[]\n"
     ]
    }
   ],
   "source": [
    "numbers  = [14,55,54,12,3,6]\n",
    "numbers.clear()\n",
    "\n",
    "print(numbers)"
   ]
  }
 ],
 "metadata": {
  "kernelspec": {
   "display_name": "py101",
   "language": "python",
   "name": "python3"
  },
  "language_info": {
   "codemirror_mode": {
    "name": "ipython",
    "version": 3
   },
   "file_extension": ".py",
   "mimetype": "text/x-python",
   "name": "python",
   "nbconvert_exporter": "python",
   "pygments_lexer": "ipython3",
   "version": "3.12.4"
  }
 },
 "nbformat": 4,
 "nbformat_minor": 2
}
