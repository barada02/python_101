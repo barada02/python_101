{
 "cells": [
  {
   "cell_type": "markdown",
   "metadata": {},
   "source": [
    "# List \n",
    "A list is a built-in data structure in Python that allows you to store multiple items in a single variable. Lists are **ordered, mutable** (can be changed), and can contain elements of different data types.\n"
   ]
  },
  {
   "cell_type": "code",
   "execution_count": 2,
   "metadata": {},
   "outputs": [
    {
     "name": "stdout",
     "output_type": "stream",
     "text": [
      "[10, 'hello', 3.14, True, 3.14] Can store repeted value\n"
     ]
    }
   ],
   "source": [
    "mixed_list = [10, \"hello\", 3.14, True, 3.14]\n",
    "print(mixed_list, \"Can store repeted value\")  \n"
   ]
  },
  {
   "cell_type": "markdown",
   "metadata": {},
   "source": [
    "#### creating a List"
   ]
  },
  {
   "cell_type": "code",
   "execution_count": 3,
   "metadata": {},
   "outputs": [
    {
     "name": "stdout",
     "output_type": "stream",
     "text": [
      "[]\n",
      "[]\n",
      "['P', 'y', 't', 'h', 'o', 'n']\n",
      "[1, 2, 3, 4, 5]\n"
     ]
    }
   ],
   "source": [
    "#1\n",
    "emptyList = []\n",
    "print(emptyList)\n",
    "\n",
    "using_list = list()\n",
    "print(using_list)\n",
    "\n",
    "word_list = list(\"Python\")\n",
    "print(word_list)\n",
    "\n",
    "range_list = list(range(1,6))\n",
    "print(range_list)"
   ]
  },
  {
   "cell_type": "markdown",
   "metadata": {},
   "source": [
    "### 💡Convert a sting into list of charecters it made of \n",
    "\n",
    "```python\n",
    "wl = list(\"Python is All rounder\")\n",
    "print(wl)\n",
    "```\n",
    "\n",
    "['P', 'y', 't', 'h', 'o', 'n', ' ', 'i', 's', ' ', 'A', 'l', 'l', ' ', 'r', 'o', 'u', 'n', 'd', 'e', 'r']"
   ]
  },
  {
   "cell_type": "markdown",
   "metadata": {},
   "source": [
    "#### List Indexing"
   ]
  },
  {
   "cell_type": "code",
   "execution_count": 8,
   "metadata": {},
   "outputs": [
    {
     "name": "stdout",
     "output_type": "stream",
     "text": [
      "apple\n",
      "banana\n",
      "cherry\n"
     ]
    }
   ],
   "source": [
    "fruits = [\"apple\", \"banana\", \"cherry\"]\n",
    "print(fruits[0])\n",
    "print(fruits[1]) \n",
    "print(fruits[2])  \n"
   ]
  },
  {
   "cell_type": "code",
   "execution_count": 9,
   "metadata": {},
   "outputs": [
    {
     "name": "stdout",
     "output_type": "stream",
     "text": [
      "cherry\n",
      "banana\n",
      "apple\n"
     ]
    }
   ],
   "source": [
    "print(fruits[-1])  \n",
    "print(fruits[-2])  \n",
    "print(fruits[-3])  "
   ]
  },
  {
   "cell_type": "markdown",
   "metadata": {},
   "source": [
    "#### List Slicing\n",
    "Slicing allows you to extract a portion of a list.\n",
    "Syntax: <br>\n",
    "\n",
    "\n",
    "list[start:stop:step] <br>\n",
    "\n",
    "start: Starting index (inclusive)<br>\n",
    "stop: Ending index (exclusive)<br>\n",
    "step: Step size (default is 1)<br>"
   ]
  },
  {
   "cell_type": "code",
   "execution_count": 10,
   "metadata": {},
   "outputs": [
    {
     "name": "stdout",
     "output_type": "stream",
     "text": [
      "[20, 30, 40]\n",
      "[10, 20, 30]\n",
      "[40, 50, 60]\n",
      "[10, 30, 50]\n",
      "[60, 50, 40, 30, 20, 10]\n"
     ]
    }
   ],
   "source": [
    "numbers = [10, 20, 30, 40, 50, 60]\n",
    "\n",
    "print(numbers[1:4])   # \n",
    "print(numbers[:3])    # start from 0\n",
    "print(numbers[3:])    # till end\n",
    "print(numbers[::2])   # every second element\n",
    "print(numbers[::-1])  # reversed list\n"
   ]
  },
  {
   "cell_type": "markdown",
   "metadata": {},
   "source": [
    "##### Finding the Length of a List"
   ]
  },
  {
   "cell_type": "code",
   "execution_count": 1,
   "metadata": {},
   "outputs": [
    {
     "name": "stdout",
     "output_type": "stream",
     "text": [
      "3\n"
     ]
    }
   ],
   "source": [
    "items = [\"pen\", \"book\", \"laptop\"]\n",
    "print(len(items))  # Output: 3\n"
   ]
  },
  {
   "cell_type": "markdown",
   "metadata": {},
   "source": [
    "# Modifying Lists in Python\n",
    " modify lists by adding, removing, and updating elements."
   ]
  },
  {
   "cell_type": "markdown",
   "metadata": {},
   "source": [
    "#### Adding Elements to a List\n",
    "\n",
    "1. Using append() . It Adds an element at the end"
   ]
  },
  {
   "cell_type": "code",
   "execution_count": 14,
   "metadata": {},
   "outputs": [
    {
     "name": "stdout",
     "output_type": "stream",
     "text": [
      "['ML', 'LLM', 'Deep Learning']\n"
     ]
    }
   ],
   "source": [
    "AI =[\"ML\",\"LLM\"]\n",
    "AI.append(\"Deep Learning\")\n",
    "print(AI)"
   ]
  },
  {
   "cell_type": "markdown",
   "metadata": {},
   "source": [
    "2. Using insert() . It insert an element at a specific index"
   ]
  },
  {
   "cell_type": "code",
   "execution_count": 11,
   "metadata": {},
   "outputs": [
    {
     "name": "stdout",
     "output_type": "stream",
     "text": [
      "['ML', 'LLM', 'Computer Visison', 'Deep Learning']\n"
     ]
    }
   ],
   "source": [
    "AI.insert(2,\"Computer Visison\")\n",
    "print(AI)"
   ]
  },
  {
   "cell_type": "markdown",
   "metadata": {},
   "source": [
    "3. Using extend() , It merges two lists"
   ]
  },
  {
   "cell_type": "code",
   "execution_count": 12,
   "metadata": {},
   "outputs": [
    {
     "name": "stdout",
     "output_type": "stream",
     "text": [
      "['ML', 'LLM', 'Computer Visison', 'Deep Learning', 'Linear Algebra', 'Mtrix Calculation']\n"
     ]
    }
   ],
   "source": [
    "ml_math = [\"Linear Algebra\",\"Mtrix Calculation\"]\n",
    "AI.extend(ml_math)\n",
    "print(AI)"
   ]
  },
  {
   "cell_type": "markdown",
   "metadata": {},
   "source": [
    "\n",
    "## Remove Elements from a list\n",
    "\n",
    "1. Using remore() , It removes the first occurrence of a value"
   ]
  }
 ],
 "metadata": {
  "kernelspec": {
   "display_name": "py101",
   "language": "python",
   "name": "python3"
  },
  "language_info": {
   "codemirror_mode": {
    "name": "ipython",
    "version": 3
   },
   "file_extension": ".py",
   "mimetype": "text/x-python",
   "name": "python",
   "nbconvert_exporter": "python",
   "pygments_lexer": "ipython3",
   "version": "3.12.4"
  }
 },
 "nbformat": 4,
 "nbformat_minor": 2
}
