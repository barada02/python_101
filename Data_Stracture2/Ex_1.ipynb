{
 "cells": [
  {
   "cell_type": "markdown",
   "metadata": {},
   "source": [
    "## Bonus Challenge 🏆\n",
    "Write a Python program that asks the user to enter 5 numbers, stores them in a list, and then prints: <br>\n",
    "\n",
    "* The complete list <br>\n",
    "* The first and last numbers <br>\n",
    "* The list in reverse order <br>"
   ]
  },
  {
   "cell_type": "code",
   "execution_count": 2,
   "metadata": {},
   "outputs": [
    {
     "name": "stdout",
     "output_type": "stream",
     "text": [
      "['15', '36', '45', '89', '78']\n",
      "15 78\n",
      "['78', '89', '45', '36', '15']\n"
     ]
    }
   ],
   "source": [
    "list1 = []\n",
    "for i in range(1,6):\n",
    "    temp = input(\"Enter number:\")\n",
    "    list1.append(temp)\n",
    "    \n",
    "\n",
    "print(list1)\n",
    "print(list1[0],list1[-1])\n",
    "print(list1[::-1])"
   ]
  },
  {
   "cell_type": "markdown",
   "metadata": {},
   "source": [
    "Write a Python program that asks the user to enter a 5 digi numbers, stores them in a list, and then prints: <br>\n",
    "\n",
    "* The complete list <br>\n",
    "* The first and last numbers <br>\n",
    "* The list in reverse order <br>"
   ]
  },
  {
   "cell_type": "code",
   "execution_count": 4,
   "metadata": {},
   "outputs": [
    {
     "name": "stdout",
     "output_type": "stream",
     "text": [
      "['7', '5', '8', '4', '2']\n",
      "7 2\n",
      "['2', '4', '8', '5', '7']\n"
     ]
    }
   ],
   "source": [
    "numb = input(\"Enter 5 number:\") # ex 45698\n",
    "list1 = list(numb)\n",
    "print(list1)\n",
    "print(list1[0],list1[-1])\n",
    "print(list1[::-1])"
   ]
  }
 ],
 "metadata": {
  "kernelspec": {
   "display_name": "py101",
   "language": "python",
   "name": "python3"
  },
  "language_info": {
   "codemirror_mode": {
    "name": "ipython",
    "version": 3
   },
   "file_extension": ".py",
   "mimetype": "text/x-python",
   "name": "python",
   "nbconvert_exporter": "python",
   "pygments_lexer": "ipython3",
   "version": "3.12.4"
  }
 },
 "nbformat": 4,
 "nbformat_minor": 2
}
