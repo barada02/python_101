{
 "cells": [
  {
   "cell_type": "markdown",
   "metadata": {},
   "source": [
    "## Bonus Challenge 🏆\n",
    "Write a Python program that asks the user to enter 5 numbers, stores them in a list, and then prints: <br>\n",
    "\n",
    "* The complete list <br>\n",
    "* The first and last numbers <br>\n",
    "* The list in reverse order <br>"
   ]
  },
  {
   "cell_type": "code",
   "execution_count": null,
   "metadata": {},
   "outputs": [],
   "source": [
    "list1 = []\n",
    "\n",
    "print(list1)\n",
    "print(list1[0],list1[-1])\n",
    "print(list1[::-1])"
   ]
  },
  {
   "cell_type": "code",
   "execution_count": 4,
   "metadata": {},
   "outputs": [
    {
     "name": "stdout",
     "output_type": "stream",
     "text": [
      "['1', '2', ' ', '4', '5', ' ', '6', '3', ' ', '8', '9', ' ', '7', '4', ' ']\n",
      "1  \n",
      "[' ', '4', '7', ' ', '9', '8', ' ', '3', '6', ' ', '5', '4', ' ', '2', '1']\n"
     ]
    }
   ],
   "source": [
    "numb = input(\"Enter 5 number:\") # ex 45698\n",
    "list1 = list(numb)\n",
    "print(list1)\n",
    "print(list1[0],list1[-1])\n",
    "print(list1[::-1])"
   ]
  }
 ],
 "metadata": {
  "kernelspec": {
   "display_name": "py101",
   "language": "python",
   "name": "python3"
  },
  "language_info": {
   "codemirror_mode": {
    "name": "ipython",
    "version": 3
   },
   "file_extension": ".py",
   "mimetype": "text/x-python",
   "name": "python",
   "nbconvert_exporter": "python",
   "pygments_lexer": "ipython3",
   "version": "3.12.4"
  }
 },
 "nbformat": 4,
 "nbformat_minor": 2
}
