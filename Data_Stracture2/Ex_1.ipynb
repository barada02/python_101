{
 "cells": [
  {
   "cell_type": "markdown",
   "metadata": {},
   "source": [
    "## Bonus Challenge 🏆\n",
    "Write a Python program that asks the user to enter 5 numbers, stores them in a list, and then prints: <br>\n",
    "\n",
    "* The complete list <br>\n",
    "* The first and last numbers <br>\n",
    "* The list in reverse order <br>"
   ]
  },
  {
   "cell_type": "code",
   "execution_count": 2,
   "metadata": {},
   "outputs": [
    {
     "name": "stdout",
     "output_type": "stream",
     "text": [
      "['15', '36', '45', '89', '78']\n",
      "15 78\n",
      "['78', '89', '45', '36', '15']\n"
     ]
    }
   ],
   "source": [
    "list1 = []\n",
    "for i in range(1,6):\n",
    "    temp = input(\"Enter number:\")\n",
    "    list1.append(temp)\n",
    "    \n",
    "\n",
    "print(list1)\n",
    "print(list1[0],list1[-1])\n",
    "print(list1[::-1])"
   ]
  },
  {
   "cell_type": "markdown",
   "metadata": {},
   "source": [
    "Write a Python program that asks the user to enter a 5 digi numbers, stores them in a list, and then prints: <br>\n",
    "\n",
    "* The complete list <br>\n",
    "* The first and last numbers <br>\n",
    "* The list in reverse order <br>"
   ]
  },
  {
   "cell_type": "code",
   "execution_count": null,
   "metadata": {},
   "outputs": [
    {
     "name": "stdout",
     "output_type": "stream",
     "text": [
      "['7', '5', '8', '4', '2']\n",
      "7 2\n",
      "['2', '4', '8', '5', '7']\n"
     ]
    },
    {
     "ename": "",
     "evalue": "",
     "output_type": "error",
     "traceback": [
      "\u001b[1;31mThe Kernel crashed while executing code in the current cell or a previous cell. \n",
      "\u001b[1;31mPlease review the code in the cell(s) to identify a possible cause of the failure. \n",
      "\u001b[1;31mClick <a href='https://aka.ms/vscodeJupyterKernelCrash'>here</a> for more info. \n",
      "\u001b[1;31mView Jupyter <a href='command:jupyter.viewOutput'>log</a> for further details."
     ]
    }
   ],
   "source": [
    "numb = input(\"Enter 5 number:\") # ex 45698\n",
    "list1 = list(numb)\n",
    "print(list1)\n",
    "print(list1[0],list1[-1])\n",
    "print(list1[::-1])"
   ]
  },
  {
   "cell_type": "markdown",
   "metadata": {},
   "source": [
    "# #Challenging\n",
    "\n",
    "\n",
    "You're developing a scheduling system for a music festival. You have a list representing the current lineup of bands in their performance order:\n",
    "```python\n",
    "lineup = [\"Rock Stars\", \"Jazz Band\", \"Blues Crew\", \"Pop Group\", \"Metal Squad\"]\n",
    "```\n",
    "\n",
    "The festival organizer tells you that \"Jazz Band\" and \"Blues Crew\" had to cancel, but they've managed to book four new acts to fill that time slot: \"Acoustic Duo\", \"Folk Singers\", \"Country Band\", and \"Hip Hop Artists\". \n",
    "\n",
    "Your task is to update the lineup list to replace those two cancelled bands with the four new acts, maintaining the original order of the remaining bands. The final lineup should be:\n",
    "```python\n",
    "[\"Rock Stars\", \"Acoustic Duo\", \"Folk Singers\", \"Country Band\", \"Hip Hop Artists\", \"Pop Group\", \"Metal Squad\"]\n",
    "```\n",
    "\n",
    "\n",
    "#### topic : single slice assignment operation"
   ]
  },
  {
   "cell_type": "code",
   "execution_count": null,
   "metadata": {},
   "outputs": [],
   "source": [
    "lineup = [\"Rock Stars\", \"Jazz Band\", \"Blues Crew\", \"Pop Group\", \"Metal Squad\"]\n",
    "\n",
    "lineup[1:3] = [\"Acoustic Duo\", \"Folk Singers\", \"Country Band\", \"Hip Hop Artists\"]\n",
    "\n",
    "print(lineup)\n"
   ]
  },
  {
   "cell_type": "markdown",
   "metadata": {},
   "source": [
    " * lineup[1:3] creates a slice that starts at index 1 (second element) and goes up to (but not including) index 3\n",
    "* This slice contains exactly our two cancelled bands: \"Jazz Band\" and \"Blues Crew\"\n",
    "* We replace this slice with a list of four new bands\n",
    "* Python automatically expands the list to accommodate the new elements"
   ]
  }
 ],
 "metadata": {
  "kernelspec": {
   "display_name": "py101",
   "language": "python",
   "name": "python3"
  },
  "language_info": {
   "codemirror_mode": {
    "name": "ipython",
    "version": 3
   },
   "file_extension": ".py",
   "mimetype": "text/x-python",
   "name": "python",
   "nbconvert_exporter": "python",
   "pygments_lexer": "ipython3",
   "version": "3.12.4"
  }
 },
 "nbformat": 4,
 "nbformat_minor": 2
}
