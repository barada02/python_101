{
 "cells": [
  {
   "cell_type": "markdown",
   "metadata": {},
   "source": [
    "# Intoduction to Dictionaries\n",
    "\n",
    "A dictionary in python is a built-in data type that stores data in key-value paires. unlike lists, where elements are accessed by an index, dictionaries allow access via keys , which makes lookups faster and more efficient.<br>\n",
    "\n",
    "✅ Key Points:\n",
    "\n",
    "* Dictionaries are unordered (before Python 3.7) but ordered (from Python 3.7+).\n",
    "* Keys must be unique and immutable (e.g., strings, numbers, tuples).\n",
    "* Values can be of any data type, including lists, tuples, and even other dictionaries.\n"
   ]
  },
  {
   "cell_type": "markdown",
   "metadata": {},
   "source": [
    "### Creating Dictionaries\n",
    "\n",
    "* using {}\n",
    "* using dict()"
   ]
  },
  {
   "cell_type": "code",
   "execution_count": 7,
   "metadata": {},
   "outputs": [
    {
     "name": "stdout",
     "output_type": "stream",
     "text": [
      "{'name': 'Sneha', 'age': 23, 'course': 'MCA'}\n"
     ]
    }
   ],
   "source": [
    "student ={\n",
    "    'name':\"Sneha\",\n",
    "    'age': 23,\n",
    "    \"course\":\"MCA\"\n",
    "}\n",
    "print(student)\n"
   ]
  },
  {
   "cell_type": "code",
   "execution_count": 8,
   "metadata": {},
   "outputs": [
    {
     "name": "stdout",
     "output_type": "stream",
     "text": [
      "{'name': 'Sneha', 'age': 25, 'course': 'MCA'}\n"
     ]
    }
   ],
   "source": [
    "student2 = dict(name = \"Sneha\",age = 25, course = \"MCA\")\n",
    "print(student2)"
   ]
  }
 ],
 "metadata": {
  "kernelspec": {
   "display_name": "py101",
   "language": "python",
   "name": "python3"
  },
  "language_info": {
   "codemirror_mode": {
    "name": "ipython",
    "version": 3
   },
   "file_extension": ".py",
   "mimetype": "text/x-python",
   "name": "python",
   "nbconvert_exporter": "python",
   "pygments_lexer": "ipython3",
   "version": "3.12.4"
  }
 },
 "nbformat": 4,
 "nbformat_minor": 2
}
