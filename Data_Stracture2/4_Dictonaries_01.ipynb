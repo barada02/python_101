{
 "cells": [
  {
   "cell_type": "markdown",
   "metadata": {},
   "source": [
    "# Intoduction to Dictionaries\n",
    "\n",
    "A dictionary in python is a built-in data type that stores data in key-value paires. unlike lists, where elements are accessed by an index, dictionaries allow access via keys , which makes lookups faster and more efficient.<br>\n",
    "\n",
    "✅ Key Points:\n",
    "\n",
    "* Dictionaries are unordered (before Python 3.7) but ordered (from Python 3.7+).\n",
    "* Keys must be unique and immutable (e.g., strings, numbers, tuples).\n",
    "* Values can be of any data type, including lists, tuples, and even other dictionaries.\n"
   ]
  },
  {
   "cell_type": "markdown",
   "metadata": {},
   "source": [
    "### Creating Dictionaries\n",
    "\n",
    "* using {}\n",
    "* using dict()"
   ]
  },
  {
   "cell_type": "code",
   "execution_count": 7,
   "metadata": {},
   "outputs": [
    {
     "name": "stdout",
     "output_type": "stream",
     "text": [
      "{'name': 'Sneha', 'age': 23, 'course': 'MCA'}\n"
     ]
    }
   ],
   "source": [
    "student ={\n",
    "    'name':\"Sneha\",\n",
    "    'age': 23,\n",
    "    \"course\":\"MCA\"\n",
    "}\n",
    "print(student)\n"
   ]
  },
  {
   "cell_type": "code",
   "execution_count": 9,
   "metadata": {},
   "outputs": [
    {
     "name": "stdout",
     "output_type": "stream",
     "text": [
      "{'name': 'Shree', 'age': 25, 'course': 'MCA'}\n"
     ]
    }
   ],
   "source": [
    "student2 = dict(name = \"Shree\",age = 25, course = \"MCA\")\n",
    "print(student2)"
   ]
  },
  {
   "cell_type": "markdown",
   "metadata": {},
   "source": [
    "### Dictionary Keys and Values\n",
    "* Keys must be immutable: Strings, numbers, and tuples can be used as keys.\n",
    "* Values can be anything: Lists, other dictionaries, or even functions."
   ]
  },
  {
   "cell_type": "code",
   "execution_count": 10,
   "metadata": {},
   "outputs": [
    {
     "name": "stdout",
     "output_type": "stream",
     "text": [
      "{'integer': 10, 'float': 3.14, 'boolean': True, 'list': [1, 2, 3], 'tuple': (4, 5, 6), 'dict': {'key': 'value'}}\n"
     ]
    }
   ],
   "source": [
    "data = {\n",
    "    \"integer\": 10,\n",
    "    \"float\": 3.14,\n",
    "    \"boolean\": True,\n",
    "    \"list\": [1, 2, 3],\n",
    "    \"tuple\": (4, 5, 6),\n",
    "    \"dict\": {\"key\": \"value\"}\n",
    "}\n",
    "print(data)\n"
   ]
  },
  {
   "cell_type": "markdown",
   "metadata": {},
   "source": [
    "### Accessing Dictionary Elements\n",
    "You can access values using keys inside square brackets [] or with the .get() method"
   ]
  },
  {
   "cell_type": "code",
   "execution_count": 11,
   "metadata": {},
   "outputs": [
    {
     "name": "stdout",
     "output_type": "stream",
     "text": [
      "Sneha\n",
      "23\n"
     ]
    }
   ],
   "source": [
    "# Accessing using square brackets\n",
    "print(student[\"name\"]) # Output: Alice\n",
    "\n",
    "# Accessing using get()\n",
    "print(student.get(\"age\"))  "
   ]
  },
  {
   "cell_type": "markdown",
   "metadata": {},
   "source": [
    "✅ Why use get()?<br>\n",
    "Using square brackets *(student[\"grade\"])* would raise a KeyError if the key does not exist, while get() returns None (or a default value if provided)."
   ]
  },
  {
   "cell_type": "code",
   "execution_count": 12,
   "metadata": {},
   "outputs": [
    {
     "ename": "KeyError",
     "evalue": "'Height'",
     "output_type": "error",
     "traceback": [
      "\u001b[1;31m---------------------------------------------------------------------------\u001b[0m",
      "\u001b[1;31mKeyError\u001b[0m                                  Traceback (most recent call last)",
      "Cell \u001b[1;32mIn[12], line 1\u001b[0m\n\u001b[1;32m----> 1\u001b[0m \u001b[43mstudent2\u001b[49m\u001b[43m[\u001b[49m\u001b[38;5;124;43m\"\u001b[39;49m\u001b[38;5;124;43mHeight\u001b[39;49m\u001b[38;5;124;43m\"\u001b[39;49m\u001b[43m]\u001b[49m\n",
      "\u001b[1;31mKeyError\u001b[0m: 'Height'"
     ]
    }
   ],
   "source": [
    "student2[\"Height\"]"
   ]
  },
  {
   "cell_type": "code",
   "execution_count": 14,
   "metadata": {},
   "outputs": [
    {
     "name": "stdout",
     "output_type": "stream",
     "text": [
      "None\n"
     ]
    }
   ],
   "source": [
    "print(student2.get(\"Height\"))"
   ]
  },
  {
   "cell_type": "code",
   "execution_count": 16,
   "metadata": {},
   "outputs": [
    {
     "name": "stdout",
     "output_type": "stream",
     "text": [
      "Pata nehi\n"
     ]
    }
   ],
   "source": [
    "#Providing Default Value\n",
    "print(student2.get(\"Height\",\"Pata nehi\"))"
   ]
  }
 ],
 "metadata": {
  "kernelspec": {
   "display_name": "py101",
   "language": "python",
   "name": "python3"
  },
  "language_info": {
   "codemirror_mode": {
    "name": "ipython",
    "version": 3
   },
   "file_extension": ".py",
   "mimetype": "text/x-python",
   "name": "python",
   "nbconvert_exporter": "python",
   "pygments_lexer": "ipython3",
   "version": "3.12.4"
  }
 },
 "nbformat": 4,
 "nbformat_minor": 2
}
