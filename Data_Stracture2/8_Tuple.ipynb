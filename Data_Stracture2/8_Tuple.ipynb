{
 "cells": [
  {
   "cell_type": "markdown",
   "metadata": {},
   "source": [
    "# Tuple\n",
    "\n",
    "A tuple is an immutable, ordered collection of elements in Python. It is similar to a list but cannot be modified after creation. Tuples are useful when you want to store a fixed set of values"
   ]
  },
  {
   "cell_type": "markdown",
   "metadata": {},
   "source": [
    "### Creating Tuples\n",
    "\n",
    "You can use ( ) or the tupel() constructor"
   ]
  },
  {
   "cell_type": "code",
   "execution_count": 2,
   "metadata": {},
   "outputs": [
    {
     "name": "stdout",
     "output_type": "stream",
     "text": [
      "<class 'tuple'>\n",
      "('Hello', 420, 'How you doing')\n"
     ]
    }
   ],
   "source": [
    "t1 = ()\n",
    "\n",
    "t2= (\"Hello\",420,\"How you doing\") # it can contain mixed data type\n",
    "print(type(t1))\n",
    "print(t2)"
   ]
  },
  {
   "cell_type": "markdown",
   "metadata": {},
   "source": [
    "##### 💡 Tuple with a single element (comma is required)"
   ]
  },
  {
   "cell_type": "code",
   "execution_count": 8,
   "metadata": {},
   "outputs": [
    {
     "name": "stdout",
     "output_type": "stream",
     "text": [
      "<class 'int'>\n",
      "5\n",
      "<class 'tuple'>\n",
      "(5,)\n"
     ]
    }
   ],
   "source": [
    "t3 = (5)\n",
    "print(type(t3))\n",
    "print(t3)\n",
    "\n",
    "t4 = (5,)\n",
    "print(type(t4))\n",
    "print(t4)"
   ]
  },
  {
   "cell_type": "markdown",
   "metadata": {},
   "source": [
    "#### using tuple()\n",
    "1. tuple() no argument return empty tuple\n",
    "2. tuple (2,5) return error\n",
    "3. tuple ((2,5)) when argument is another tupel it will retun the same\n",
    "4. tuple([5,25,\"good morning\"]) convert the list to tuple"
   ]
  },
  {
   "cell_type": "code",
   "execution_count": 4,
   "metadata": {},
   "outputs": [
    {
     "name": "stdout",
     "output_type": "stream",
     "text": [
      "()\n"
     ]
    }
   ],
   "source": [
    "t3 = tuple( )\n",
    "print(t3)"
   ]
  },
  {
   "cell_type": "code",
   "execution_count": 9,
   "metadata": {},
   "outputs": [
    {
     "name": "stdout",
     "output_type": "stream",
     "text": [
      "(5, 25, 'hi')\n"
     ]
    }
   ],
   "source": [
    "t4 = tuple([5,25,\"hi\"])\n",
    "print(t4)"
   ]
  }
 ],
 "metadata": {
  "kernelspec": {
   "display_name": "py101",
   "language": "python",
   "name": "python3"
  },
  "language_info": {
   "codemirror_mode": {
    "name": "ipython",
    "version": 3
   },
   "file_extension": ".py",
   "mimetype": "text/x-python",
   "name": "python",
   "nbconvert_exporter": "python",
   "pygments_lexer": "ipython3",
   "version": "3.12.4"
  }
 },
 "nbformat": 4,
 "nbformat_minor": 2
}
