{
 "cells": [
  {
   "cell_type": "markdown",
   "metadata": {},
   "source": [
    "# Advanced Dictionary Techniques "
   ]
  },
  {
   "cell_type": "markdown",
   "metadata": {},
   "source": [
    "## let's dive into advanced dictionary techniques, including using defaultdict, Counter, sorting dictionaries, and handling missing keys."
   ]
  },
  {
   "cell_type": "markdown",
   "metadata": {},
   "source": [
    "### 1. Using defaultdict from collections\n",
    "\n",
    "defaultdict class in Python automatically provides a default value for missing keys."
   ]
  },
  {
   "cell_type": "code",
   "execution_count": 1,
   "metadata": {},
   "outputs": [
    {
     "name": "stdout",
     "output_type": "stream",
     "text": [
      "defaultdict(<class 'int'>, {'Orange': 3, 'Mango': 3})\n"
     ]
    }
   ],
   "source": [
    "from collections import defaultdict\n",
    "\n",
    "word_count = defaultdict(int) # default value of int is 0\n",
    "words = [\"Orange\",\"Mango\",\"Orange\",\"Mango\",\"Mango\",\"Orange\"]\n",
    "\n",
    "for word in words:\n",
    "    word_count[word] += 1 # No need to check if key exists\n",
    "\n",
    "print(word_count)"
   ]
  },
  {
   "cell_type": "code",
   "execution_count": 2,
   "metadata": {},
   "outputs": [
    {
     "name": "stdout",
     "output_type": "stream",
     "text": [
      "defaultdict(<class 'list'>, {'A': ['Arjun'], 'B': ['Bhavani', 'Balram'], 'C': ['Ck'], 'D': ['Divya', 'Dhanush', 'Dinesh', 'Diljit']})\n"
     ]
    }
   ],
   "source": [
    "students = defaultdict(list)\n",
    "\n",
    "students[\"A\"].append(\"Arjun\")\n",
    "students[\"B\"].append(\"Bhavani\")\n",
    "students[\"B\"].append(\"Balram\")\n",
    "students[\"C\"].append(\"Ck\")\n",
    "students[\"D\"].append(\"Divya\")\n",
    "students[\"D\"].append(\"Dhanush\")\n",
    "students[\"D\"].append(\"Dinesh\")\n",
    "students[\"D\"].append(\"Diljit\")\n",
    "\n",
    "print(students)\n"
   ]
  },
  {
   "cell_type": "markdown",
   "metadata": {},
   "source": [
    "### 2. Counting Elements with Counter\n",
    "The counter class from collections is a special dictionary for counting elements in an iterable "
   ]
  },
  {
   "cell_type": "code",
   "execution_count": 3,
   "metadata": {},
   "outputs": [
    {
     "name": "stdout",
     "output_type": "stream",
     "text": [
      "Counter({'Orange': 3, 'Mango': 3, 'Jamun': 1})\n"
     ]
    }
   ],
   "source": [
    "from collections import Counter\n",
    "\n",
    "words = [\"Orange\",\"Mango\",\"Orange\",\"Mango\",\"Mango\",\"Orange\",\"Jamun\"]\n",
    "word_count  = Counter(words)\n",
    "\n",
    "print(word_count)"
   ]
  }
 ],
 "metadata": {
  "kernelspec": {
   "display_name": "py101",
   "language": "python",
   "name": "python3"
  },
  "language_info": {
   "codemirror_mode": {
    "name": "ipython",
    "version": 3
   },
   "file_extension": ".py",
   "mimetype": "text/x-python",
   "name": "python",
   "nbconvert_exporter": "python",
   "pygments_lexer": "ipython3",
   "version": "3.12.4"
  }
 },
 "nbformat": 4,
 "nbformat_minor": 2
}
