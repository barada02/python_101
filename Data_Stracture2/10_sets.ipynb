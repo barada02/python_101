{
 "cells": [
  {
   "cell_type": "markdown",
   "metadata": {},
   "source": [
    "# Set\n",
    "* unorderd (unindexed: can't access elements using an index like list and tupple)\n",
    "* Mutable \n",
    "* collection of unique elements\n",
    "\n",
    "It is useful for storing distinct items and performing operations like union, intersection, and difference."
   ]
  },
  {
   "cell_type": "markdown",
   "metadata": {},
   "source": [
    "## Creating a set\n",
    "using {} or set()"
   ]
  },
  {
   "cell_type": "code",
   "execution_count": 21,
   "metadata": {},
   "outputs": [
    {
     "name": "stdout",
     "output_type": "stream",
     "text": [
      "{1, 33, 3, 6, 8}\n",
      "{5, 55, 56, 57, 58}\n"
     ]
    }
   ],
   "source": [
    "set1 = {1,6,6,3,8,33,3}\n",
    "set2 = set([5,55,5,56,57,58,58,57])\n",
    "\n",
    "print(set1)\n",
    "print(set2)"
   ]
  },
  {
   "cell_type": "markdown",
   "metadata": {},
   "source": [
    "## Accessing Set Elements\n",
    "As sets are unorderd , they do not support indexing or slicing. \n",
    "\n",
    "we can check the element exists by \"in\" or \"not in\""
   ]
  },
  {
   "cell_type": "code",
   "execution_count": 22,
   "metadata": {},
   "outputs": [
    {
     "name": "stdout",
     "output_type": "stream",
     "text": [
      "True\n",
      "True\n"
     ]
    }
   ],
   "source": [
    "myset = {5,79,346}\n",
    "print(79 in myset)\n",
    "print(1 not in myset)\n"
   ]
  },
  {
   "cell_type": "markdown",
   "metadata": {},
   "source": [
    "## Modifying a set\n",
    "use .add() to add single element\n"
   ]
  },
  {
   "cell_type": "code",
   "execution_count": 23,
   "metadata": {},
   "outputs": [
    {
     "name": "stdout",
     "output_type": "stream",
     "text": [
      "{346, 4, 5, 79}\n"
     ]
    }
   ],
   "source": [
    "myset.add(4)\n",
    "print(myset)"
   ]
  },
  {
   "cell_type": "markdown",
   "metadata": {},
   "source": [
    "use .update() to add multiple elements (list, tuple, set)"
   ]
  },
  {
   "cell_type": "code",
   "execution_count": 24,
   "metadata": {},
   "outputs": [
    {
     "name": "stdout",
     "output_type": "stream",
     "text": [
      "{'Sardha Kapoor', 4, 5, 8, 9, 'Sai Pallavi', 79, 'srk', 'Rdj', 346}\n"
     ]
    }
   ],
   "source": [
    "myset.update([4,5,9,8])\n",
    "myset.update((\"Rdj\",\"srk\"))\n",
    "myset.update({\"Sai Pallavi\",\"Sardha Kapoor\"})\n",
    "print(myset)"
   ]
  },
  {
   "cell_type": "markdown",
   "metadata": {},
   "source": [
    "\n",
    "### Removing Elements\n",
    "\n",
    "* remove(x): Removes x, raises an error if x is not found.\n",
    "* discard(x): Removes x, does not raise an error if x is missing.\n",
    "* pop(): Removes a random element.\n",
    "* clear(): Removes all elements."
   ]
  },
  {
   "cell_type": "code",
   "execution_count": 25,
   "metadata": {},
   "outputs": [
    {
     "name": "stdout",
     "output_type": "stream",
     "text": [
      "{'Sardha Kapoor', 4, 5, 8, 9, 'Sai Pallavi', 79, 'srk', 'Rdj', 346}\n"
     ]
    }
   ],
   "source": [
    "print(myset)"
   ]
  },
  {
   "cell_type": "code",
   "execution_count": 26,
   "metadata": {},
   "outputs": [
    {
     "name": "stdout",
     "output_type": "stream",
     "text": [
      "{5, 8, 9, 'Sai Pallavi', 79, 'srk', 'Rdj', 346}\n",
      "Sardha Kapoor\n"
     ]
    }
   ],
   "source": [
    "myset.remove(4) # it will give error is 4 is not in the set\n",
    "myset.discard(55) # No error even if 55 in not in the set\n",
    "\n",
    "popped = myset.pop() # remove and return a random item\n",
    "\n",
    "print(myset)\n",
    "print(popped)"
   ]
  },
  {
   "cell_type": "markdown",
   "metadata": {},
   "source": [
    "## Set Operations\n",
    "\n",
    "### Union (| or .union())\n"
   ]
  },
  {
   "cell_type": "code",
   "execution_count": 27,
   "metadata": {},
   "outputs": [
    {
     "name": "stdout",
     "output_type": "stream",
     "text": [
      "{1, 2, 3, 4, 5}\n"
     ]
    }
   ],
   "source": [
    "A = {1, 2, 3}\n",
    "B = {3, 4, 5}\n",
    "print(A | B)  \n"
   ]
  },
  {
   "cell_type": "code",
   "execution_count": 28,
   "metadata": {},
   "outputs": [
    {
     "name": "stdout",
     "output_type": "stream",
     "text": [
      "{1, 2, 3, 4, 5}\n"
     ]
    }
   ],
   "source": [
    "print(A.union(B))"
   ]
  },
  {
   "cell_type": "markdown",
   "metadata": {},
   "source": [
    "## intersection (& or .intersection())\n",
    "\n",
    "Returns elements common to both sets."
   ]
  },
  {
   "cell_type": "code",
   "execution_count": 29,
   "metadata": {},
   "outputs": [
    {
     "name": "stdout",
     "output_type": "stream",
     "text": [
      "{3}\n",
      "{3}\n"
     ]
    }
   ],
   "source": [
    "print(A & B)\n",
    "print(A.intersection(B))"
   ]
  },
  {
   "cell_type": "markdown",
   "metadata": {},
   "source": [
    "## Difference (- or .difference())\n",
    "Return elements only in A but not in B"
   ]
  },
  {
   "cell_type": "code",
   "execution_count": 30,
   "metadata": {},
   "outputs": [
    {
     "name": "stdout",
     "output_type": "stream",
     "text": [
      "{1, 2}\n",
      "{1, 2}\n"
     ]
    }
   ],
   "source": [
    "print(A-B)\n",
    "print(A.difference(B))\n"
   ]
  },
  {
   "cell_type": "markdown",
   "metadata": {},
   "source": [
    "### Symmetric Difference (^ or .symmetric_difference())\n",
    "Returns elements not common in both sets."
   ]
  },
  {
   "cell_type": "code",
   "execution_count": 31,
   "metadata": {},
   "outputs": [
    {
     "name": "stdout",
     "output_type": "stream",
     "text": [
      "{1, 2, 4, 5}\n",
      "{1, 2, 4, 5}\n"
     ]
    }
   ],
   "source": [
    "print(A ^ B)\n",
    "print(A.symmetric_difference(B))\n"
   ]
  },
  {
   "cell_type": "markdown",
   "metadata": {},
   "source": [
    "## Set Methods\n",
    "\n",
    "**Checking Subset & Superset**\n",
    "\n",
    "* Subset(<=): Checks if all elements of A exist in B\n",
    "* Superset(>=): Checks if A contains all elements of B\n",
    "* Disjoint (isdisjoint()): Checks if sets have no common elements"
   ]
  },
  {
   "cell_type": "code",
   "execution_count": 38,
   "metadata": {},
   "outputs": [
    {
     "name": "stdout",
     "output_type": "stream",
     "text": [
      "True\n",
      "True\n",
      "False\n"
     ]
    }
   ],
   "source": [
    "A = {1,2}\n",
    "B = {2,1,6,8,9,10}\n",
    "\n",
    "print(A.issubset(B))\n",
    "print(B.issuperset(A))\n",
    "print(A.isdisjoint({1,7}))"
   ]
  },
  {
   "cell_type": "markdown",
   "metadata": {},
   "source": [
    "### Set Comprehensions"
   ]
  },
  {
   "cell_type": "code",
   "execution_count": 39,
   "metadata": {},
   "outputs": [
    {
     "name": "stdout",
     "output_type": "stream",
     "text": [
      "{1, 4, 36, 9, 16, 49, 25}\n"
     ]
    }
   ],
   "source": [
    "squared_set = {x**2 for x in range(1,8)}\n",
    "print(squared_set)"
   ]
  },
  {
   "cell_type": "markdown",
   "metadata": {},
   "source": [
    "### Frozen Set (Immutable Set)\n",
    "\n",
    "A frozenset is an immutable version of a set"
   ]
  },
  {
   "cell_type": "code",
   "execution_count": 40,
   "metadata": {},
   "outputs": [
    {
     "name": "stdout",
     "output_type": "stream",
     "text": [
      "frozenset({1, 2, 3, 4})\n"
     ]
    }
   ],
   "source": [
    "fset = frozenset([1,2,3,4])\n",
    "print(fset)"
   ]
  }
 ],
 "metadata": {
  "kernelspec": {
   "display_name": "py101",
   "language": "python",
   "name": "python3"
  },
  "language_info": {
   "codemirror_mode": {
    "name": "ipython",
    "version": 3
   },
   "file_extension": ".py",
   "mimetype": "text/x-python",
   "name": "python",
   "nbconvert_exporter": "python",
   "pygments_lexer": "ipython3",
   "version": "3.12.4"
  }
 },
 "nbformat": 4,
 "nbformat_minor": 2
}
