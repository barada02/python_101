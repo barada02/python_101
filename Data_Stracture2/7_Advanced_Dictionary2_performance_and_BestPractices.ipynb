{
 "cells": [
  {
   "cell_type": "markdown",
   "metadata": {},
   "source": [
    "# **Part 7: Dictionary Performance and Best Practices** 🚀  \n",
    "\n",
    "In this final part, we'll cover:  \n",
    "✅ **Time Complexity of Dictionary Operations**  \n",
    "✅ **Best Practices for Using Dictionaries Efficiently**  \n",
    "\n",
    "---\n",
    "\n",
    "## **1. Time Complexity of Dictionary Operations** ⏳  \n",
    "Dictionaries in Python are implemented using **hash tables**, making most operations **very fast**.  \n",
    "Here’s a breakdown of the time complexity of common operations:\n",
    "\n",
    "| **Operation**       | **Time Complexity** | **Description** |\n",
    "|---------------------|--------------------|----------------|\n",
    "| `d[key] = value` (Insert/Update) | **O(1)** (Average) | Hashing makes insertions fast. |\n",
    "| `value = d[key]` (Lookup) | **O(1)** (Average) | Fetching values by key is fast. |\n",
    "| `del d[key]` (Delete) | **O(1)** (Average) | Removing a key is fast. |\n",
    "| `key in d` (Membership Check) | **O(1)** (Average) | Checking for a key is fast. |\n",
    "| `len(d)` | **O(1)** | Getting dictionary size is constant time. |\n",
    "| Iterating over `d.keys()` / `d.values()` | **O(n)** | Goes through all `n` keys/values. |\n",
    "| Copying `d.copy()` | **O(n)** | Creates a new dictionary of size `n`. |\n",
    "\n",
    "⚡ **Why is it O(1)?**  \n",
    "Python uses **hashing** to store keys, so accessing an item takes constant time. However, in **worst-case scenarios** (many hash collisions), operations can degrade to **O(n)**.\n",
    "\n",
    "---\n",
    "\n"
   ]
  },
  {
   "cell_type": "markdown",
   "metadata": {},
   "source": [
    "\n",
    "## **2. Best Practices for Using Dictionaries Efficiently** 🏆  \n",
    "\n",
    "### **A. Use `defaultdict` to Handle Missing Keys Efficiently**\n",
    "Instead of checking `if key in dict`, use `defaultdict` from `collections`.\n",
    "\n",
    "🚫 **Inefficient Approach:**"
   ]
  },
  {
   "cell_type": "code",
   "execution_count": 1,
   "metadata": {},
   "outputs": [],
   "source": [
    "\n",
    "d = {}\n",
    "if \"count\" in d:\n",
    "    d[\"count\"] += 1\n",
    "else:\n",
    "    d[\"count\"] = 1\n"
   ]
  },
  {
   "cell_type": "markdown",
   "metadata": {},
   "source": [
    "\n",
    "✅ **Efficient Approach with `defaultdict`:**\n",
    "\n",
    "📌 **Why?** Saves time by avoiding explicit `if-else` conditions.\n",
    "\n",
    "---\n"
   ]
  },
  {
   "cell_type": "code",
   "execution_count": 2,
   "metadata": {},
   "outputs": [],
   "source": [
    "from collections import defaultdict\n",
    "\n",
    "d = defaultdict(int)  # Default value for missing keys is 0\n",
    "d[\"count\"] += 1"
   ]
  },
  {
   "cell_type": "markdown",
   "metadata": {},
   "source": [
    "### **B. Use `dict.get()` Instead of `if key in dict`**\n",
    "🚫 **Inefficient Approach:**"
   ]
  },
  {
   "cell_type": "code",
   "execution_count": 3,
   "metadata": {},
   "outputs": [],
   "source": [
    "if \"name\" in d:\n",
    "    value = d[\"name\"]\n",
    "else:\n",
    "    value = \"default\""
   ]
  },
  {
   "cell_type": "markdown",
   "metadata": {},
   "source": [
    "✅ **Efficient Approach:**\n",
    "\n"
   ]
  },
  {
   "cell_type": "code",
   "execution_count": null,
   "metadata": {},
   "outputs": [],
   "source": [
    "value = d.get(\"name\", \"default\")"
   ]
  },
  {
   "cell_type": "markdown",
   "metadata": {},
   "source": [
    "📌 **Why?** Reduces redundant lookups.\n",
    "\n",
    "---"
   ]
  },
  {
   "cell_type": "markdown",
   "metadata": {},
   "source": [
    "### **C. Use Dictionary Comprehensions Instead of Loops**\n",
    "🚫 **Loop-based Approach:**"
   ]
  },
  {
   "cell_type": "code",
   "execution_count": 4,
   "metadata": {},
   "outputs": [],
   "source": [
    "squares = {}\n",
    "for num in range(5):\n",
    "    squares[num] = num ** 2"
   ]
  },
  {
   "cell_type": "markdown",
   "metadata": {},
   "source": [
    "✅ **Dictionary Comprehension:**"
   ]
  },
  {
   "cell_type": "code",
   "execution_count": 5,
   "metadata": {},
   "outputs": [],
   "source": [
    "squares = {num: num ** 2 for num in range(5)}"
   ]
  },
  {
   "cell_type": "markdown",
   "metadata": {},
   "source": [
    "📌 **Why?** More readable and faster.\n",
    "\n",
    "---"
   ]
  },
  {
   "cell_type": "markdown",
   "metadata": {},
   "source": [
    "\n",
    "\n",
    "\n",
    "\n",
    "\n",
    "### **D. Avoid Mutating a Dictionary While Iterating**\n",
    "🚫 **Modifying While Iterating Causes Errors:**\n",
    "```python\n",
    "d = {\"a\": 1, \"b\": 2, \"c\": 3}\n",
    "for key in d:\n",
    "    if d[key] % 2 == 0:\n",
    "        del d[key]  # ❌ RuntimeError: Dictionary changed size\n",
    "```\n",
    "\n",
    "✅ **Solution: Use `dict.copy()` or `list()`**\n",
    "```python\n",
    "for key in list(d.keys()):  # Make a copy of keys before modifying\n",
    "    if d[key] % 2 == 0:\n",
    "        del d[key]\n",
    "```\n",
    "📌 **Why?** Prevents iteration errors.\n",
    "\n",
    "---\n",
    "\n",
    "### **E. Use `setdefault()` for Default Values**\n",
    "🚫 **Inefficient Approach:**\n",
    "```python\n",
    "if \"name\" not in d:\n",
    "    d[\"name\"] = \"Unknown\"\n",
    "```\n",
    "\n",
    "✅ **Efficient Approach:**\n",
    "```python\n",
    "d.setdefault(\"name\", \"Unknown\")\n",
    "```\n",
    "📌 **Why?** Eliminates redundant checks.\n",
    "\n",
    "---\n",
    "\n",
    "### **F. Prefer `items()` Instead of `keys()` + Lookup**\n",
    "🚫 **Inefficient Approach:**\n",
    "```python\n",
    "for key in d.keys():\n",
    "    value = d[key]  # Extra lookup\n",
    "```\n",
    "\n",
    "✅ **Efficient Approach:**\n",
    "```python\n",
    "for key, value in d.items():\n",
    "    print(key, value)\n",
    "```\n",
    "📌 **Why?** Avoids extra key lookups.\n",
    "\n",
    "---\n",
    "\n",
    "### **G. Choose the Right Data Structure**\n",
    "Dictionaries are **not always the best choice**. Consider alternatives:\n",
    "- **Use `set` instead of `{key: True}`** for presence checks.\n",
    "- **Use `OrderedDict`** if you need to maintain insertion order in **older Python versions**.\n",
    "- **Use `ChainMap`** to merge dictionaries without copying them.\n",
    "\n",
    "---\n",
    "\n",
    "## **Final Summary: Best Practices for Dictionaries**\n",
    "✅ **Performance:**\n",
    "- Most operations (`insert`, `lookup`, `delete`) are **O(1)** due to hashing.\n",
    "- Iterating through a dictionary is **O(n)**.\n",
    "\n",
    "✅ **Efficiency Tips:**\n",
    "- Use `defaultdict` for missing keys.\n",
    "- Use `.get()` instead of `if key in dict`.\n",
    "- Use dictionary comprehensions for better performance.\n",
    "- Never modify a dictionary while iterating—use `.copy()` or `list(d.keys())`.\n",
    "- Use `.items()` instead of `.keys()` + lookup.\n",
    "- Use `setdefault()` instead of redundant checks.\n",
    "\n",
    "---\n",
    "\n",
    "That concludes our **complete deep dive into Python dictionaries!** 🎉  \n",
    "\n",
    "Would you like a **small exercise** to test your skills? 🚀"
   ]
  }
 ],
 "metadata": {
  "kernelspec": {
   "display_name": "py101",
   "language": "python",
   "name": "python3"
  },
  "language_info": {
   "codemirror_mode": {
    "name": "ipython",
    "version": 3
   },
   "file_extension": ".py",
   "mimetype": "text/x-python",
   "name": "python",
   "nbconvert_exporter": "python",
   "pygments_lexer": "ipython3",
   "version": "3.12.4"
  }
 },
 "nbformat": 4,
 "nbformat_minor": 2
}
