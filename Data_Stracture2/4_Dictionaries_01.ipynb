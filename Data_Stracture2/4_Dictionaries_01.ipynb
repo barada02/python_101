{
 "cells": [
  {
   "cell_type": "markdown",
   "metadata": {},
   "source": [
    "# Intoduction to Dictionaries\n",
    "\n",
    "A dictionary in python is a built-in data type that stores data in key-value paires. unlike lists, where elements are accessed by an index, dictionaries allow access via keys , which makes lookups faster and more efficient.<br>\n",
    "\n",
    "✅ Key Points:\n",
    "\n",
    "* Dictionaries are unordered (before Python 3.7) but ordered (from Python 3.7+).\n",
    "* Keys must be unique and immutable (e.g., strings, numbers, tuples).\n",
    "* Values can be of any data type, including lists, tuples, and even other dictionaries.\n"
   ]
  },
  {
   "cell_type": "markdown",
   "metadata": {},
   "source": [
    "### Creating Dictionaries\n",
    "\n",
    "* using {}\n",
    "* using dict()"
   ]
  },
  {
   "cell_type": "code",
   "execution_count": 2,
   "metadata": {},
   "outputs": [
    {
     "name": "stdout",
     "output_type": "stream",
     "text": [
      "{'name': 'Sneha', 'age': 23, 'course': 'MCA'}\n"
     ]
    }
   ],
   "source": [
    "student ={\n",
    "    'name':\"Sneha\",\n",
    "    'age': 23,\n",
    "    \"course\":\"MCA\"\n",
    "}\n",
    "print(student)\n"
   ]
  },
  {
   "cell_type": "code",
   "execution_count": 3,
   "metadata": {},
   "outputs": [
    {
     "name": "stdout",
     "output_type": "stream",
     "text": [
      "{'name': 'Shree', 'age': 25, 'course': 'MCA'}\n"
     ]
    }
   ],
   "source": [
    "student2 = dict(name = \"Shree\",age = 25, course = \"MCA\")\n",
    "print(student2)"
   ]
  },
  {
   "cell_type": "markdown",
   "metadata": {},
   "source": [
    "### Dictionary Keys and Values\n",
    "* Keys must be immutable: Strings, numbers, and tuples can be used as keys.\n",
    "* Values can be anything: Lists, other dictionaries, or even functions."
   ]
  },
  {
   "cell_type": "code",
   "execution_count": 4,
   "metadata": {},
   "outputs": [
    {
     "name": "stdout",
     "output_type": "stream",
     "text": [
      "{'integer': 10, 'float': 3.14, 'boolean': True, 'list': [1, 2, 3], 'tuple': (4, 5, 6), 'dict': {'key': 'value'}}\n"
     ]
    }
   ],
   "source": [
    "data = {\n",
    "    \"integer\": 10,\n",
    "    \"float\": 3.14,\n",
    "    \"boolean\": True,\n",
    "    \"list\": [1, 2, 3],\n",
    "    \"tuple\": (4, 5, 6),\n",
    "    \"dict\": {\"key\": \"value\"}\n",
    "}\n",
    "print(data)\n"
   ]
  },
  {
   "cell_type": "markdown",
   "metadata": {},
   "source": [
    "### Accessing Dictionary Elements\n",
    "You can access values using keys inside square brackets [] or with the .get() method"
   ]
  },
  {
   "cell_type": "code",
   "execution_count": 9,
   "metadata": {},
   "outputs": [
    {
     "name": "stdout",
     "output_type": "stream",
     "text": [
      "Sneha\n",
      "value\n",
      "23\n"
     ]
    }
   ],
   "source": [
    "# Accessing using square brackets\n",
    "print(student[\"name\"]) \n",
    "\n",
    "print(data[\"dict\"][\"key\"])\n",
    "\n",
    "# Accessing using get()\n",
    "print(student.get(\"age\"))  "
   ]
  },
  {
   "cell_type": "markdown",
   "metadata": {},
   "source": [
    "✅ Why use get()?<br>\n",
    "Using square brackets *(student[\"grade\"])* would raise a KeyError if the key does not exist, while get() returns None (or a default value if provided)."
   ]
  },
  {
   "cell_type": "code",
   "execution_count": 6,
   "metadata": {},
   "outputs": [
    {
     "ename": "KeyError",
     "evalue": "'Height'",
     "output_type": "error",
     "traceback": [
      "\u001b[1;31m---------------------------------------------------------------------------\u001b[0m",
      "\u001b[1;31mKeyError\u001b[0m                                  Traceback (most recent call last)",
      "Cell \u001b[1;32mIn[6], line 1\u001b[0m\n\u001b[1;32m----> 1\u001b[0m \u001b[43mstudent2\u001b[49m\u001b[43m[\u001b[49m\u001b[38;5;124;43m\"\u001b[39;49m\u001b[38;5;124;43mHeight\u001b[39;49m\u001b[38;5;124;43m\"\u001b[39;49m\u001b[43m]\u001b[49m\n",
      "\u001b[1;31mKeyError\u001b[0m: 'Height'"
     ]
    }
   ],
   "source": [
    "student2[\"Height\"]"
   ]
  },
  {
   "cell_type": "code",
   "execution_count": 7,
   "metadata": {},
   "outputs": [
    {
     "name": "stdout",
     "output_type": "stream",
     "text": [
      "None\n"
     ]
    }
   ],
   "source": [
    "print(student2.get(\"Height\"))"
   ]
  },
  {
   "cell_type": "code",
   "execution_count": 8,
   "metadata": {},
   "outputs": [
    {
     "name": "stdout",
     "output_type": "stream",
     "text": [
      "Pata nehi\n"
     ]
    }
   ],
   "source": [
    "#Providing Default Value\n",
    "print(student2.get(\"Height\",\"Pata nehi\"))"
   ]
  },
  {
   "cell_type": "markdown",
   "metadata": {},
   "source": [
    "#### using setdefault()"
   ]
  },
  {
   "cell_type": "code",
   "execution_count": 10,
   "metadata": {},
   "outputs": [
    {
     "name": "stdout",
     "output_type": "stream",
     "text": [
      "{'name': 'Shree', 'age': 25, 'course': 'MCA', 'Height': 'Unknown'}\n"
     ]
    }
   ],
   "source": [
    "student2.setdefault(\"Height\",\"Unknown\")\n",
    "print(student2)"
   ]
  },
  {
   "cell_type": "markdown",
   "metadata": {},
   "source": [
    "# $ $ $XXXXXX YYYYYYYY ZZZZZZZZZZZ It' Fun time \"SOOOOOOOOOOOOOOOO\""
   ]
  },
  {
   "cell_type": "markdown",
   "metadata": {},
   "source": [
    "# Dictionary Operations"
   ]
  },
  {
   "cell_type": "markdown",
   "metadata": {},
   "source": [
    "## 1. Adding and Updating Elements\n",
    "\n",
    "* If a key does not exit , a new key -value pair is added\n",
    "* If a key exist, its value is updated"
   ]
  },
  {
   "cell_type": "code",
   "execution_count": null,
   "metadata": {},
   "outputs": [
    {
     "name": "stdout",
     "output_type": "stream",
     "text": [
      "{'name': 'Sneha', 'age': 23, 'course': 'MCA'}\n"
     ]
    }
   ],
   "source": [
    "print(student)"
   ]
  },
  {
   "cell_type": "code",
   "execution_count": null,
   "metadata": {},
   "outputs": [
    {
     "name": "stdout",
     "output_type": "stream",
     "text": [
      "{'name': 'Sneha', 'age': 23, 'course': 'MCA', 'Mothertoung': 'Telugu'}\n"
     ]
    }
   ],
   "source": [
    "student [\"Mothertoung\"] = \"Telugu\"\n",
    "print(student)"
   ]
  },
  {
   "cell_type": "markdown",
   "metadata": {},
   "source": [
    "### Updating an existing key"
   ]
  },
  {
   "cell_type": "code",
   "execution_count": null,
   "metadata": {},
   "outputs": [
    {
     "name": "stdout",
     "output_type": "stream",
     "text": [
      "{'name': 'Sneha', 'age': 23, 'course': 'MCA', 'Mothertoung': 'Telugu'}\n"
     ]
    }
   ],
   "source": [
    "student[\"age\"] =23\n",
    "print(student)"
   ]
  },
  {
   "cell_type": "markdown",
   "metadata": {},
   "source": [
    "### Removing Elements from a dictionary\n",
    "\n",
    "#### using \n",
    "* del\n",
    "* pop(). Remove the element also return the value\n",
    "* popitem() Remove the last item in the list\n",
    "* clear() Remove all items"
   ]
  },
  {
   "cell_type": "code",
   "execution_count": null,
   "metadata": {},
   "outputs": [
    {
     "name": "stdout",
     "output_type": "stream",
     "text": [
      "{'name': 'Sneha', 'course': 'MCA', 'Mothertoung': 'Telugu'}\n"
     ]
    }
   ],
   "source": [
    "del student[\"age\"]\n",
    "print(student)"
   ]
  },
  {
   "cell_type": "markdown",
   "metadata": {},
   "source": [
    "* Pop()"
   ]
  },
  {
   "cell_type": "code",
   "execution_count": null,
   "metadata": {},
   "outputs": [
    {
     "name": "stdout",
     "output_type": "stream",
     "text": [
      "MCA\n",
      "{'name': 'Sneha', 'Mothertoung': 'Telugu'}\n"
     ]
    }
   ],
   "source": [
    "removed_value = student.pop(\"course\")\n",
    "print(removed_value)\n",
    "print(student)"
   ]
  },
  {
   "cell_type": "code",
   "execution_count": null,
   "metadata": {},
   "outputs": [
    {
     "name": "stdout",
     "output_type": "stream",
     "text": [
      "{'name': 'Sneha'}\n"
     ]
    }
   ],
   "source": [
    "\n",
    "student.popitem()\n",
    "print(student)"
   ]
  },
  {
   "cell_type": "code",
   "execution_count": null,
   "metadata": {},
   "outputs": [
    {
     "name": "stdout",
     "output_type": "stream",
     "text": [
      "{}\n"
     ]
    }
   ],
   "source": [
    "student.clear()\n",
    "print(student)  \n"
   ]
  },
  {
   "cell_type": "markdown",
   "metadata": {},
   "source": [
    "### Checking if a key exits\n",
    "\n",
    "use the in keyword "
   ]
  },
  {
   "cell_type": "code",
   "execution_count": null,
   "metadata": {},
   "outputs": [
    {
     "name": "stdout",
     "output_type": "stream",
     "text": [
      "{'name': 'Shree', 'age': 25, 'course': 'MCA'}\n"
     ]
    }
   ],
   "source": [
    "print(student2)"
   ]
  },
  {
   "cell_type": "code",
   "execution_count": null,
   "metadata": {},
   "outputs": [
    {
     "name": "stdout",
     "output_type": "stream",
     "text": [
      "True\n"
     ]
    }
   ],
   "source": [
    "print(\"age\" in student2)"
   ]
  },
  {
   "cell_type": "code",
   "execution_count": null,
   "metadata": {},
   "outputs": [
    {
     "name": "stdout",
     "output_type": "stream",
     "text": [
      "Yes it's exit\n"
     ]
    }
   ],
   "source": [
    "if \"age\" in student2:\n",
    "    print(\"Yes it's exit\")"
   ]
  },
  {
   "cell_type": "markdown",
   "metadata": {},
   "source": [
    "### Dictionary Length\n",
    "using len() function returns the number of key-value pairs"
   ]
  },
  {
   "cell_type": "code",
   "execution_count": null,
   "metadata": {},
   "outputs": [
    {
     "data": {
      "text/plain": [
       "3"
      ]
     },
     "execution_count": 18,
     "metadata": {},
     "output_type": "execute_result"
    }
   ],
   "source": [
    "len(student2)"
   ]
  },
  {
   "cell_type": "markdown",
   "metadata": {},
   "source": [
    "# Iterating Over Dictonaries"
   ]
  },
  {
   "cell_type": "markdown",
   "metadata": {},
   "source": [
    "### Lterating Through keys"
   ]
  },
  {
   "cell_type": "code",
   "execution_count": null,
   "metadata": {},
   "outputs": [],
   "source": [
    "restaurant = {\n",
    "    \"name\": \"The Golden Spoon\",\n",
    "    \"cuisine\": \"Italian\",\n",
    "    \"rating\": 4.5,\n",
    "    \"menu\": {\n",
    "        \"appetizers\": [\"Bruschetta\", \"Calamari\", \"Caprese Salad\"],\n",
    "        \"main_courses\": [\"Pasta Carbonara\", \"Margherita Pizza\", \"Risotto\"],\n",
    "        \"desserts\": [\"Tiramisu\", \"Panna Cotta\"]\n",
    "    },\n",
    "    \"hours\": {\n",
    "        \"Monday\": \"Closed\",\n",
    "        \"Tuesday\": \"11:00-22:00\",\n",
    "        \"Wednesday\": \"11:00-22:00\",\n",
    "        \"Thursday\": \"11:00-22:00\",\n",
    "        \"Friday\": \"11:00-23:00\",\n",
    "        \"Saturday\": \"10:00-23:00\",\n",
    "        \"Sunday\": \"10:00-21:00\"\n",
    "    },\n",
    "    \"takeout_available\": True,\n",
    "    \"price_range\": \"$$\"\n",
    "}"
   ]
  },
  {
   "cell_type": "code",
   "execution_count": null,
   "metadata": {},
   "outputs": [
    {
     "name": "stdout",
     "output_type": "stream",
     "text": [
      "name\n",
      "cuisine\n",
      "rating\n",
      "menu\n",
      "hours\n",
      "takeout_available\n",
      "price_range\n"
     ]
    }
   ],
   "source": [
    "for k in restaurant:\n",
    "    print(k)"
   ]
  },
  {
   "cell_type": "code",
   "execution_count": null,
   "metadata": {},
   "outputs": [
    {
     "name": "stdout",
     "output_type": "stream",
     "text": [
      "name\n",
      "cuisine\n",
      "rating\n",
      "menu\n",
      "hours\n",
      "takeout_available\n",
      "price_range\n"
     ]
    }
   ],
   "source": [
    "for k in restaurant.keys():\n",
    "    print(k)"
   ]
  },
  {
   "cell_type": "markdown",
   "metadata": {},
   "source": [
    "The main differences are:\n",
    "1. `for k in restaurant` is more concise and is the preferred Pythonic way\n",
    "2. `for k in restaurant.keys()` explicitly creates a view object of the keys, which is slightly less efficient but makes it more obvious to readers that you're iterating over keys\n",
    "\n",
    "The `.keys()` method is more useful when you need to do operations on the keys themselves, like:\n",
    "- Converting keys to a list: `list(restaurant.keys())`\n",
    "- Set operations: `restaurant1.keys() & restaurant2.keys()` (finding common keys)\n",
    "- Testing for membership: `if key in restaurant.keys()`\n",
    "\n",
    "But for simple iteration, using `for k in restaurant` is the cleaner approach."
   ]
  },
  {
   "cell_type": "markdown",
   "metadata": {},
   "source": [
    "### Iterating Through Values"
   ]
  },
  {
   "cell_type": "code",
   "execution_count": null,
   "metadata": {},
   "outputs": [
    {
     "name": "stdout",
     "output_type": "stream",
     "text": [
      "The Golden Spoon\n",
      "Italian\n",
      "4.5\n",
      "{'appetizers': ['Bruschetta', 'Calamari', 'Caprese Salad'], 'main_courses': ['Pasta Carbonara', 'Margherita Pizza', 'Risotto'], 'desserts': ['Tiramisu', 'Panna Cotta']}\n",
      "{'Monday': 'Closed', 'Tuesday': '11:00-22:00', 'Wednesday': '11:00-22:00', 'Thursday': '11:00-22:00', 'Friday': '11:00-23:00', 'Saturday': '10:00-23:00', 'Sunday': '10:00-21:00'}\n",
      "True\n",
      "$$\n"
     ]
    }
   ],
   "source": [
    "for value in restaurant.values():\n",
    "    print(value)"
   ]
  },
  {
   "cell_type": "markdown",
   "metadata": {},
   "source": [
    "### Iterating Through Key-value Pairs\n",
    "use items() to get both key and value"
   ]
  },
  {
   "cell_type": "code",
   "execution_count": null,
   "metadata": {},
   "outputs": [
    {
     "name": "stdout",
     "output_type": "stream",
     "text": [
      "name:The Golden Spoon\n",
      "cuisine:Italian\n",
      "rating:4.5\n",
      "menu:{'appetizers': ['Bruschetta', 'Calamari', 'Caprese Salad'], 'main_courses': ['Pasta Carbonara', 'Margherita Pizza', 'Risotto'], 'desserts': ['Tiramisu', 'Panna Cotta']}\n",
      "hours:{'Monday': 'Closed', 'Tuesday': '11:00-22:00', 'Wednesday': '11:00-22:00', 'Thursday': '11:00-22:00', 'Friday': '11:00-23:00', 'Saturday': '10:00-23:00', 'Sunday': '10:00-21:00'}\n",
      "takeout_available:True\n",
      "price_range:$$\n"
     ]
    }
   ],
   "source": [
    "for k, v in restaurant.items():\n",
    "    print(f\"{k}:{v}\")"
   ]
  }
 ],
 "metadata": {
  "kernelspec": {
   "display_name": "py101",
   "language": "python",
   "name": "python3"
  },
  "language_info": {
   "codemirror_mode": {
    "name": "ipython",
    "version": 3
   },
   "file_extension": ".py",
   "mimetype": "text/x-python",
   "name": "python",
   "nbconvert_exporter": "python",
   "pygments_lexer": "ipython3",
   "version": "3.12.4"
  }
 },
 "nbformat": 4,
 "nbformat_minor": 2
}
