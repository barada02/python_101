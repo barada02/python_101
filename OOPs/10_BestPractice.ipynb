{
 "cells": [
  {
   "cell_type": "markdown",
   "metadata": {},
   "source": [
    "# **OOP Best Practices and Design Patterns in Python**  \n",
    "\n",
    "Now that you've learned the core concepts of **Object-Oriented Programming (OOP)** in Python, it's time to focus on writing **clean, scalable, and maintainable code**.  \n",
    "\n",
    "---"
   ]
  },
  {
   "cell_type": "markdown",
   "metadata": {},
   "source": [
    "## **1️⃣ OOP Best Practices**\n",
    "### ✅ **1. Follow the SOLID Principles**\n",
    "The **SOLID** principles help in writing flexible and maintainable OOP code:\n",
    "\n",
    "| Principle | Description | Example |\n",
    "|-----------|------------|---------|\n",
    "| **S**ingle Responsibility | A class should have **only one** responsibility. | ✅ A `User` class should not handle database logic. |\n",
    "| **O**pen/Closed | Classes should be **open for extension, but closed for modification**. | ✅ Use **inheritance** or **composition** instead of modifying existing classes. |\n",
    "| **L**iskov Substitution | Subclasses should be **interchangeable** with their base class. | ✅ `Dog` and `Cat` should work in place of `Animal`. |\n",
    "| **I**nterface Segregation | Don’t force a class to implement unnecessary methods. | ✅ Use **multiple smaller interfaces** instead of one large interface. |\n",
    "| **D**ependency Inversion | Depend on **abstractions** rather than concrete classes. | ✅ Use dependency injection instead of hardcoded class instances. |\n",
    "\n",
    "---"
   ]
  },
  {
   "cell_type": "markdown",
   "metadata": {},
   "source": [
    "\n",
    "### ✅ **2. Use Composition Over Inheritance**  \n",
    "Instead of using **deep inheritance**, use **composition** (i.e., including objects of one class inside another).\n",
    "\n",
    "#### **Example: Using Composition Instead of Inheritance**\n"
   ]
  },
  {
   "cell_type": "code",
   "execution_count": 1,
   "metadata": {},
   "outputs": [
    {
     "name": "stdout",
     "output_type": "stream",
     "text": [
      "Engine started\n"
     ]
    }
   ],
   "source": [
    "class Engine:\n",
    "    def start(self):\n",
    "        return \"Engine started\"\n",
    "\n",
    "class Car:\n",
    "    def __init__(self):\n",
    "        self.engine = Engine()  # Composition: Car HAS an Engine\n",
    "\n",
    "    def start(self):\n",
    "        return self.engine.start()  # Delegating behavior\n",
    "\n",
    "my_car = Car()\n",
    "print(my_car.start())  "
   ]
  },
  {
   "cell_type": "markdown",
   "metadata": {},
   "source": [
    "✔️ **Better than deep inheritance chains** because **Car is not an Engine**, but **Car HAS an Engine**.  \n",
    "\n",
    "---"
   ]
  },
  {
   "cell_type": "markdown",
   "metadata": {},
   "source": [
    "### ✅ **3. Avoid Using Global Variables Inside Classes**  \n",
    "Instead of relying on **global state**, use **instance variables** or **dependency injection**.\n",
    "\n",
    "#### **Bad Example: Using Global Variable**\n"
   ]
  },
  {
   "cell_type": "code",
   "execution_count": 2,
   "metadata": {},
   "outputs": [
    {
     "name": "stdout",
     "output_type": "stream",
     "text": [
      "100\n"
     ]
    }
   ],
   "source": [
    "global_var = 100\n",
    "\n",
    "class Example:\n",
    "    def show(self):\n",
    "        return global_var  \n",
    "\n",
    "obj = Example()\n",
    "print(obj.show()) "
   ]
  },
  {
   "cell_type": "markdown",
   "metadata": {},
   "source": [
    "#### **Good Example: Using Instance Variables**"
   ]
  },
  {
   "cell_type": "code",
   "execution_count": 3,
   "metadata": {},
   "outputs": [
    {
     "name": "stdout",
     "output_type": "stream",
     "text": [
      "100\n"
     ]
    }
   ],
   "source": [
    "class Example:\n",
    "    def __init__(self, value):\n",
    "        self.value = value  # ✅ Encapsulated inside class\n",
    "\n",
    "    def show(self):\n",
    "        return self.value\n",
    "\n",
    "obj = Example(100)\n",
    "print(obj.show())  "
   ]
  },
  {
   "cell_type": "markdown",
   "metadata": {},
   "source": [
    "✔️ **Encapsulation improves maintainability**.\n",
    "\n",
    "---"
   ]
  },
  {
   "cell_type": "markdown",
   "metadata": {},
   "source": [
    "### ✅ **4. Use Getters and Setters Only When Necessary**\n",
    "Python provides **property decorators (`@property`)** to manage attributes efficiently."
   ]
  },
  {
   "cell_type": "markdown",
   "metadata": {},
   "source": [
    "#### **Example: Using `@property` Instead of Getters and Setters**\n"
   ]
  },
  {
   "cell_type": "code",
   "execution_count": 5,
   "metadata": {},
   "outputs": [
    {
     "name": "stdout",
     "output_type": "stream",
     "text": [
      "Mike\n"
     ]
    }
   ],
   "source": [
    "class Person:\n",
    "    def __init__(self, name):\n",
    "        self._name = name  # _name is a private variable\n",
    "\n",
    "    @property\n",
    "    def name(self):\n",
    "        return self._name  # ✅ Getter\n",
    "\n",
    "    @name.setter\n",
    "    def name(self, new_name):\n",
    "        if len(new_name) > 2:\n",
    "            self._name = new_name  # ✅ Setter\n",
    "        else:\n",
    "            raise ValueError(\"Name must be longer than 2 characters\")\n",
    "\n",
    "p = Person(\"John\")\n",
    "p.name = \"Mike\"  \n",
    "print(p.name)  \n",
    "\n"
   ]
  },
  {
   "cell_type": "markdown",
   "metadata": {},
   "source": [
    "p.name = \"A\"  # ❌ Raises ValueError"
   ]
  },
  {
   "cell_type": "code",
   "execution_count": 6,
   "metadata": {},
   "outputs": [
    {
     "ename": "ValueError",
     "evalue": "Name must be longer than 2 characters",
     "output_type": "error",
     "traceback": [
      "\u001b[1;31m---------------------------------------------------------------------------\u001b[0m",
      "\u001b[1;31mValueError\u001b[0m                                Traceback (most recent call last)",
      "Cell \u001b[1;32mIn[6], line 1\u001b[0m\n\u001b[1;32m----> 1\u001b[0m \u001b[43mp\u001b[49m\u001b[38;5;241;43m.\u001b[39;49m\u001b[43mname\u001b[49m \u001b[38;5;241m=\u001b[39m \u001b[38;5;124m\"\u001b[39m\u001b[38;5;124mA\u001b[39m\u001b[38;5;124m\"\u001b[39m  \n",
      "Cell \u001b[1;32mIn[5], line 14\u001b[0m, in \u001b[0;36mPerson.name\u001b[1;34m(self, new_name)\u001b[0m\n\u001b[0;32m     12\u001b[0m     \u001b[38;5;28mself\u001b[39m\u001b[38;5;241m.\u001b[39m_name \u001b[38;5;241m=\u001b[39m new_name  \u001b[38;5;66;03m# ✅ Setter\u001b[39;00m\n\u001b[0;32m     13\u001b[0m \u001b[38;5;28;01melse\u001b[39;00m:\n\u001b[1;32m---> 14\u001b[0m     \u001b[38;5;28;01mraise\u001b[39;00m \u001b[38;5;167;01mValueError\u001b[39;00m(\u001b[38;5;124m\"\u001b[39m\u001b[38;5;124mName must be longer than 2 characters\u001b[39m\u001b[38;5;124m\"\u001b[39m)\n",
      "\u001b[1;31mValueError\u001b[0m: Name must be longer than 2 characters"
     ]
    }
   ],
   "source": [
    "p.name = \"A\"  "
   ]
  },
  {
   "cell_type": "markdown",
   "metadata": {},
   "source": [
    "✔️ `@property` provides a **Pythonic way** of handling **attribute validation**.\n",
    "\n",
    "---"
   ]
  },
  {
   "cell_type": "markdown",
   "metadata": {},
   "source": [
    "### ✅ **5. Prefer Duck Typing Over Explicit Type Checking**\n",
    "Duck Typing means **\"If it behaves like a duck, it is a duck\"** 🦆.  \n",
    "Instead of checking types explicitly, rely on **behavior**."
   ]
  },
  {
   "cell_type": "markdown",
   "metadata": {},
   "source": [
    "#### **Bad Example: Checking Type Explicitly**"
   ]
  },
  {
   "cell_type": "code",
   "execution_count": 7,
   "metadata": {},
   "outputs": [],
   "source": [
    "def process(animal):\n",
    "    if isinstance(animal, Dog):\n",
    "        animal.bark()\n",
    "    elif isinstance(animal, Cat):\n",
    "        animal.meow()"
   ]
  },
  {
   "cell_type": "markdown",
   "metadata": {},
   "source": [
    "#### **Good Example: Using Duck Typing**"
   ]
  },
  {
   "cell_type": "code",
   "execution_count": 8,
   "metadata": {},
   "outputs": [
    {
     "name": "stdout",
     "output_type": "stream",
     "text": [
      "Woof!\n",
      "Meow!\n"
     ]
    }
   ],
   "source": [
    "class Dog:\n",
    "    def speak(self):\n",
    "        return \"Woof!\"\n",
    "\n",
    "class Cat:\n",
    "    def speak(self):\n",
    "        return \"Meow!\"\n",
    "\n",
    "def make_animal_speak(animal):\n",
    "    return animal.speak()  # ✅ No explicit type checking\n",
    "\n",
    "d = Dog()\n",
    "c = Cat()\n",
    "print(make_animal_speak(d))  \n",
    "print(make_animal_speak(c)) "
   ]
  },
  {
   "cell_type": "markdown",
   "metadata": {},
   "source": [
    "✔️ More flexible and allows **any object** that has a `speak()` method.\n",
    "\n",
    "---"
   ]
  },
  {
   "cell_type": "markdown",
   "metadata": {},
   "source": [
    "## **2️⃣ Design Patterns in Python**\n",
    "Design patterns are **reusable solutions** to common problems in software design. Here are some commonly used ones:\n",
    "\n",
    "| Pattern | Type | Description |\n",
    "|---------|------|-------------|\n",
    "| **Singleton** | Creational | Ensures that **only one instance** of a class exists. |\n",
    "| **Factory** | Creational | Provides an interface to create **objects dynamically**. |\n",
    "| **Observer** | Behavioral | Notifies **multiple objects** when a state changes. |\n",
    "| **Decorator** | Structural | Adds **new behavior** to an object **without modifying** its structure. |\n",
    "\n",
    "---"
   ]
  },
  {
   "cell_type": "markdown",
   "metadata": {},
   "source": [
    "### **1️⃣ Singleton Pattern**\n",
    "Ensures **only one instance** of a class is created."
   ]
  },
  {
   "cell_type": "code",
   "execution_count": 9,
   "metadata": {},
   "outputs": [
    {
     "name": "stdout",
     "output_type": "stream",
     "text": [
      "True\n"
     ]
    }
   ],
   "source": [
    "class Singleton:\n",
    "    _instance = None  # Stores the single instance\n",
    "\n",
    "    def __new__(cls):\n",
    "        if cls._instance is None:\n",
    "            cls._instance = super().__new__(cls)\n",
    "        return cls._instance\n",
    "\n",
    "s1 = Singleton()\n",
    "s2 = Singleton()\n",
    "print(s1 is s2) "
   ]
  },
  {
   "cell_type": "markdown",
   "metadata": {},
   "source": [
    "✔️ Useful for **database connections, logging, and caching**.\n",
    "\n",
    "---\n"
   ]
  },
  {
   "cell_type": "markdown",
   "metadata": {},
   "source": [
    "### **2️⃣ Factory Pattern**\n",
    "Encapsulates **object creation logic**.\n"
   ]
  },
  {
   "cell_type": "code",
   "execution_count": 10,
   "metadata": {},
   "outputs": [
    {
     "name": "stdout",
     "output_type": "stream",
     "text": [
      "Woof!\n"
     ]
    }
   ],
   "source": [
    "class AnimalFactory:\n",
    "    @staticmethod\n",
    "    def create_animal(animal_type):\n",
    "        if animal_type == \"dog\":\n",
    "            return Dog()\n",
    "        elif animal_type == \"cat\":\n",
    "            return Cat()\n",
    "        else:\n",
    "            return None\n",
    "\n",
    "factory = AnimalFactory()\n",
    "dog = factory.create_animal(\"dog\")\n",
    "print(dog.speak())  "
   ]
  },
  {
   "cell_type": "markdown",
   "metadata": {},
   "source": [
    "✔️ Useful when you **don’t know beforehand which class needs to be instantiated**.\n",
    "\n",
    "---"
   ]
  },
  {
   "cell_type": "markdown",
   "metadata": {},
   "source": [
    "### **3️⃣ Observer Pattern**\n",
    "Notifies **multiple objects** when an event occurs."
   ]
  },
  {
   "cell_type": "code",
   "execution_count": null,
   "metadata": {},
   "outputs": [
    {
     "name": "stdout",
     "output_type": "stream",
     "text": [
      "Received message: New Event!\n",
      "Received message: New Event!\n"
     ]
    },
    {
     "ename": "",
     "evalue": "",
     "output_type": "error",
     "traceback": [
      "\u001b[1;31mThe Kernel crashed while executing code in the current cell or a previous cell. \n",
      "\u001b[1;31mPlease review the code in the cell(s) to identify a possible cause of the failure. \n",
      "\u001b[1;31mClick <a href='https://aka.ms/vscodeJupyterKernelCrash'>here</a> for more info. \n",
      "\u001b[1;31mView Jupyter <a href='command:jupyter.viewOutput'>log</a> for further details."
     ]
    }
   ],
   "source": [
    "class Subject:\n",
    "    def __init__(self):\n",
    "        self.observers = []\n",
    "\n",
    "    def attach(self, observer):\n",
    "        self.observers.append(observer)\n",
    "\n",
    "    def notify(self, message):\n",
    "        for observer in self.observers:\n",
    "            observer.update(message)\n",
    "class Observer:\n",
    "    def update(self, message):\n",
    "        print(f\"Received message: {message}\")\n",
    "\n",
    "# Usage\n",
    "subject = Subject()\n",
    "obs1 = Observer()\n",
    "obs2 = Observer()\n",
    "subject.attach(obs1)\n",
    "subject.attach(obs2)\n",
    "\n",
    "subject.notify(\"New Event!\")  "
   ]
  },
  {
   "cell_type": "markdown",
   "metadata": {},
   "source": [
    "✔️ Used in **event-driven programming** (e.g., **GUI applications, stock market monitoring**).\n",
    "\n",
    "---\n"
   ]
  },
  {
   "cell_type": "markdown",
   "metadata": {},
   "source": [
    "## **Note**\n",
    "✔️ **Follow SOLID principles** to write scalable OOP code.  \n",
    "✔️ **Use composition over inheritance** when possible.  \n",
    "✔️ **Avoid global variables** inside classes.  \n",
    "✔️ **Use `@property` for attribute validation**.  \n",
    "✔️ **Prefer duck typing over explicit type checking**.  \n",
    "✔️ **Apply design patterns** like Singleton, Factory, Observer, etc.  \n",
    "\n",
    "---\n"
   ]
  }
 ],
 "metadata": {
  "kernelspec": {
   "display_name": "py101",
   "language": "python",
   "name": "python3"
  },
  "language_info": {
   "codemirror_mode": {
    "name": "ipython",
    "version": 3
   },
   "file_extension": ".py",
   "mimetype": "text/x-python",
   "name": "python",
   "nbconvert_exporter": "python",
   "pygments_lexer": "ipython3",
   "version": "3.12.4"
  }
 },
 "nbformat": 4,
 "nbformat_minor": 2
}
