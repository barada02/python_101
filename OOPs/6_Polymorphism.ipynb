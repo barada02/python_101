{
 "cells": [
  {
   "cell_type": "markdown",
   "metadata": {},
   "source": [
    "# **Polymorphism in Python**  \n",
    "\n",
    "Polymorphism is one of the core concepts in Object-Oriented Programming (**OOP**). It allows different objects to be treated **as the same interface**, even if they have different implementations. "
   ]
  },
  {
   "cell_type": "markdown",
   "metadata": {},
   "source": [
    "---\n",
    "\n",
    "## **🔹Contents**\n",
    "✅ **Polymorphism** allows different objects to respond to the same function or method in different ways.  \n",
    "✅ **Method Overriding**: Child classes redefine parent methods.  \n",
    "✅ **Method Overloading (Achieved using default arguments)**.  \n",
    "✅ **Operator Overloading**: We can redefine operators like `+`, `==`, `*`, etc.  \n",
    "✅ **Duck Typing**: Python focuses on **behavior** rather than explicit types.  \n",
    "\n",
    "---\n",
    "\n"
   ]
  },
  {
   "cell_type": "markdown",
   "metadata": {},
   "source": [
    "\n",
    "## **1️⃣ What is Polymorphism?**  \n",
    "✅ **\"Poly\"** means **many**, and **\"morph\"** means **forms**.  \n",
    "✅ It allows the **same function or method** to have **different behaviors** for different objects.  \n",
    "✅ It increases **code reusability** and **flexibility** in programming.  \n",
    "\n",
    "---\n",
    "\n",
    "## **2️⃣ Types of Polymorphism in Python**\n",
    "Python supports different types of **polymorphism**:\n",
    "\n",
    "| Type | Description |\n",
    "|------|-------------|\n",
    "| **Method Overriding** | A child class redefines a method from its parent class |\n",
    "| **Method Overloading (Not native in Python)** | The same method name performs different actions based on arguments |\n",
    "| **Operator Overloading** | Changing the behavior of operators like `+`, `-`, `*`, etc. |\n",
    "| **Duck Typing** | The behavior of an object determines its type, not explicit inheritance |\n",
    "\n",
    "---"
   ]
  },
  {
   "cell_type": "markdown",
   "metadata": {},
   "source": [
    "## **3️⃣ Method Overriding (Polymorphism in Inheritance)**\n",
    "Method overriding allows a **child class** to provide a specific implementation of a method that is already defined in its **parent class**."
   ]
  },
  {
   "cell_type": "code",
   "execution_count": 1,
   "metadata": {},
   "outputs": [
    {
     "name": "stdout",
     "output_type": "stream",
     "text": [
      "Woof!\n",
      "Meow!\n"
     ]
    }
   ],
   "source": [
    "class Animal:\n",
    "    def speak(self):\n",
    "        return \"I make some sound\"\n",
    "\n",
    "# Dog overrides the speak method\n",
    "class Dog(Animal):\n",
    "    def speak(self):\n",
    "        return \"Woof!\"\n",
    "\n",
    "# Cat overrides the speak method\n",
    "class Cat(Animal):\n",
    "    def speak(self):\n",
    "        return \"Meow!\"\n",
    "\n",
    "# Creating objects\n",
    "animals = [Dog(), Cat()]\n",
    "\n",
    "for animal in animals:\n",
    "    print(animal.speak())  "
   ]
  },
  {
   "cell_type": "markdown",
   "metadata": {},
   "source": [
    "✔️ The **same method name (`speak()`)** is used, but each class provides a **different implementation**.  \n",
    "\n",
    "---"
   ]
  },
  {
   "cell_type": "markdown",
   "metadata": {},
   "source": [
    "## **4️⃣ Method Overloading (Function Overloading)**\n",
    "Python **does not support** method overloading **directly** like Java or C++. However, we can **achieve it using default arguments** or `*args`.\n"
   ]
  },
  {
   "cell_type": "code",
   "execution_count": 1,
   "metadata": {},
   "outputs": [
    {
     "name": "stdout",
     "output_type": "stream",
     "text": [
      "5\n",
      "9\n"
     ]
    }
   ],
   "source": [
    "class MathOperations:\n",
    "    def add(self, a, b, c=0):\n",
    "        return a + b + c\n",
    "\n",
    "math_obj = MathOperations()\n",
    "print(math_obj.add(2, 3))      \n",
    "print(math_obj.add(2, 3, 4)) "
   ]
  },
  {
   "cell_type": "markdown",
   "metadata": {},
   "source": [
    "✔️ The method **`add()`** works with **different numbers of arguments**.  \n",
    "\n",
    "---"
   ]
  },
  {
   "cell_type": "markdown",
   "metadata": {},
   "source": [
    "## **5️⃣ Operator Overloading (Polymorphism in Operators)**\n",
    "Python allows us to redefine the behavior of **operators like `+`, `-`, `*`, `==`, etc.** for custom objects using **magic methods (dunder methods)**.\n",
    "\n",
    "### **Example: Overloading the `+` Operator**\n"
   ]
  },
  {
   "cell_type": "code",
   "execution_count": 2,
   "metadata": {},
   "outputs": [
    {
     "name": "stdout",
     "output_type": "stream",
     "text": [
      "New Point: (6, 8)\n"
     ]
    }
   ],
   "source": [
    "class Point:\n",
    "    def __init__(self, x, y):\n",
    "        self.x = x\n",
    "        self.y = y\n",
    "\n",
    "    def __add__(self, other):\n",
    "        return Point(self.x + other.x, self.y + other.y)\n",
    "\n",
    "p1 = Point(2, 3)\n",
    "p2 = Point(4, 5)\n",
    "p3 = p1 + p2  # ✅ Works due to operator overloading\n",
    "\n",
    "print(f\"New Point: ({p3.x}, {p3.y})\")"
   ]
  },
  {
   "cell_type": "markdown",
   "metadata": {},
   "source": [
    "✔️ The **`+` operator** is overloaded to add two `Point` objects.  "
   ]
  },
  {
   "cell_type": "code",
   "execution_count": null,
   "metadata": {},
   "outputs": [],
   "source": [
    "class CustomString:\n",
    "    def __init__(self, string):\n",
    "        self.string = string\n",
    "        \n",
    "    # Overload the + operator for string concatenation\n",
    "    def __add__(self, other):\n",
    "        if isinstance(other, CustomString):\n",
    "            return CustomString(self.string + other.string)\n",
    "        elif isinstance(other, str):\n",
    "            return CustomString(self.string + other)\n",
    "        else:\n",
    "            raise TypeError(\"Unsupported operand type\")\n",
    "            \n",
    "    # Overload the * operator for string repetition\n",
    "    def __mul__(self, number):\n",
    "        if isinstance(number, int):\n",
    "            return CustomString(self.string * number)\n",
    "        else:\n",
    "            raise TypeError(\"Unsupported operand type\")\n",
    "    \n",
    "    def __str__(self):\n",
    "        return self.string\n",
    "\n",
    "# Usage\n",
    "s1 = CustomString(\"Hello, \")\n",
    "s2 = CustomString(\"World!\")\n",
    "\n",
    "# Using overloaded + operator\n",
    "s3 = s1 + s2\n",
    "print(s3)  \n",
    "\n",
    "# Using overloaded * operator\n",
    "s4 = s1 * 3\n",
    "print(s4) "
   ]
  },
  {
   "cell_type": "markdown",
   "metadata": {},
   "source": [
    "✔️ In this Python example, both the ```+``` and ```*``` operators are overloaded. The ```+``` operator allows for string concatenation, while the ```*``` operator enables string repetition, making CustomString objects behave similarly to Python's built-in strings.\n",
    "\n",
    "\n",
    "---"
   ]
  },
  {
   "cell_type": "markdown",
   "metadata": {},
   "source": [
    "### **More Operator Overloading Examples**\n",
    "| Operator | Magic Method |\n",
    "|----------|-------------|\n",
    "| `+`  | `__add__()`  |\n",
    "| `-`  | `__sub__()`  |\n",
    "| `*`  | `__mul__()`  |\n",
    "| `/`  | `__truediv__()`  |\n",
    "| `==` | `__eq__()`  |\n",
    "| `<`  | `__lt__()`  |\n",
    "| `>`  | `__gt__()`  |\n",
    "\n",
    "Example: Overloading the `==` operator\n",
    "\n"
   ]
  },
  {
   "cell_type": "code",
   "execution_count": 5,
   "metadata": {},
   "outputs": [
    {
     "name": "stdout",
     "output_type": "stream",
     "text": [
      "True\n"
     ]
    }
   ],
   "source": [
    "class Car:\n",
    "    def __init__(self, model, price):\n",
    "        self.model = model\n",
    "        self.price = price\n",
    "\n",
    "    def __eq__(self, other):\n",
    "        return self.price == other.price\n",
    "\n",
    "car1 = Car(\"Tesla\", 50000)\n",
    "car2 = Car(\"BMW\", 50000)\n",
    "\n",
    "print(car1 == car2)  "
   ]
  },
  {
   "cell_type": "markdown",
   "metadata": {},
   "source": [
    "✅ True (Because prices are the same)<br>\n",
    "✔️ The **`==` operator** is overloaded to compare `Car` objects based on `price`.\n",
    "\n",
    "---"
   ]
  },
  {
   "cell_type": "markdown",
   "metadata": {},
   "source": [
    "## **6️⃣ Duck Typing (Dynamic Polymorphism)**\n",
    "Python follows **Duck Typing**, which means:  \n",
    "*\"If it looks like a duck and quacks like a duck, then it must be a duck.\"*  \n",
    "\n",
    "💡 **In simple terms:** **Python doesn't check object types explicitly**—if an object has a required method, it can be used.\n",
    "\n",
    "### **Example of Duck Typing**\n"
   ]
  },
  {
   "cell_type": "code",
   "execution_count": 3,
   "metadata": {},
   "outputs": [
    {
     "name": "stdout",
     "output_type": "stream",
     "text": [
      "I can fly!\n",
      "I can also fly, but I'm not a bird!\n"
     ]
    }
   ],
   "source": [
    "class Bird:\n",
    "    def fly(self):\n",
    "        return \"I can fly!\"\n",
    "\n",
    "class Airplane:\n",
    "    def fly(self):\n",
    "        return \"I can also fly, but I'm not a bird!\"\n",
    "\n",
    "# Function that works with any flying object\n",
    "def make_it_fly(obj):\n",
    "    print(obj.fly())\n",
    "\n",
    "bird = Bird()\n",
    "plane = Airplane()\n",
    "\n",
    "make_it_fly(bird) \n",
    "make_it_fly(plane)"
   ]
  },
  {
   "cell_type": "markdown",
   "metadata": {},
   "source": [
    "✔️ Both `Bird` and `Airplane` have a `fly()` method, so Python **doesn't care** about the class type.  \n",
    "\n",
    "---"
   ]
  },
  {
   "cell_type": "markdown",
   "metadata": {},
   "source": [
    "\n",
    "\n",
    "## **7️⃣ Polymorphism with Functions and Classes**\n",
    "A single function can work with **multiple object types**.\n"
   ]
  },
  {
   "cell_type": "code",
   "execution_count": 6,
   "metadata": {},
   "outputs": [
    {
     "name": "stdout",
     "output_type": "stream",
     "text": [
      "Woof!\n",
      "Meow!\n"
     ]
    }
   ],
   "source": [
    "class Dog:\n",
    "    def sound(self):\n",
    "        return \"Woof!\"\n",
    "\n",
    "class Cat:\n",
    "    def sound(self):\n",
    "        return \"Meow!\"\n",
    "\n",
    "def animal_sound(animal):\n",
    "    print(animal.sound())\n",
    "\n",
    "# Passing different objects\n",
    "animal_sound(Dog())  \n",
    "animal_sound(Cat()) "
   ]
  },
  {
   "cell_type": "markdown",
   "metadata": {},
   "source": [
    "✔️ The function **`animal_sound()`** works with both `Dog` and `Cat`.  \n",
    "\n",
    "---"
   ]
  }
 ],
 "metadata": {
  "kernelspec": {
   "display_name": "py101",
   "language": "python",
   "name": "python3"
  },
  "language_info": {
   "codemirror_mode": {
    "name": "ipython",
    "version": 3
   },
   "file_extension": ".py",
   "mimetype": "text/x-python",
   "name": "python",
   "nbconvert_exporter": "python",
   "pygments_lexer": "ipython3",
   "version": "3.12.4"
  }
 },
 "nbformat": 4,
 "nbformat_minor": 2
}
