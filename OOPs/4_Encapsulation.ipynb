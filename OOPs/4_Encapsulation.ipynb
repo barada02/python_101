{
 "cells": [
  {
   "cell_type": "markdown",
   "metadata": {},
   "source": [
    "# **Encapsulation and Data Hiding in Python**  \n",
    "\n",
    "Encapsulation is one of the fundamental principles of Object-Oriented Programming (OOP). <br>It helps **protect data** and ensures that it is only accessed in a controlled way.  \n",
    "\n",
    "---"
   ]
  },
  {
   "cell_type": "markdown",
   "metadata": {},
   "source": [
    "## **1️⃣ What is Encapsulation?**\n",
    "✅ **Encapsulation** means **binding data (variables) and methods (functions) together** in a single unit (class).  <br>\n",
    "✅ It prevents **direct access to data** and ensures that it is modified only through methods.  <br>\n",
    "✅ It helps in **data hiding**, which restricts access to certain details of an object.  <br>"
   ]
  },
  {
   "cell_type": "markdown",
   "metadata": {},
   "source": [
    "### **Example Without Encapsulation**  \n",
    "```python\n",
    "\n",
    "```\n",
    "**Problem:** Since `speed` is **public**, anyone can modify it without restrictions.  \n"
   ]
  },
  {
   "cell_type": "code",
   "execution_count": null,
   "metadata": {},
   "outputs": [],
   "source": [
    "class Car:\n",
    "    def __init__(self, brand, speed):\n",
    "        self.brand = brand\n",
    "        self.speed = speed  # No restriction on modification\n",
    "\n",
    "# Creating an object\n",
    "car1 = Car(\"Toyota\", 150)\n",
    "\n",
    "# Accessing attributes directly\n",
    "print(car1.speed)  # Output: 150\n",
    "\n",
    "# Modifying the attribute directly (Not recommended)\n",
    "car1.speed = 200  \n",
    "print(car1.speed)  # Output: 200"
   ]
  },
  {
   "cell_type": "markdown",
   "metadata": {},
   "source": [
    "---\n",
    "\n",
    "## **2️⃣ Access Modifiers: Public, Protected, and Private Members**  \n",
    "Python does **not** have strict access modifiers like Java or C++, but it follows naming conventions:  \n",
    "\n",
    "| Modifier | Syntax | Accessibility |\n",
    "|----------|--------|---------------|\n",
    "| **Public** | `self.var` | Accessible everywhere |\n",
    "| **Protected** | `self._var` | Should be treated as protected (not enforced) |\n",
    "| **Private** | `self.__var` | Name-mangled (can't be accessed directly) |\n",
    "\n",
    "---"
   ]
  },
  {
   "cell_type": "markdown",
   "metadata": {},
   "source": [
    "### **3️⃣ Public Members (No Restriction)**\n",
    "✅ Public members can be accessed from **inside and outside** the class.\n"
   ]
  },
  {
   "cell_type": "code",
   "execution_count": 1,
   "metadata": {},
   "outputs": [
    {
     "name": "stdout",
     "output_type": "stream",
     "text": [
      "150\n",
      "200\n"
     ]
    }
   ],
   "source": [
    "class Car:\n",
    "    def __init__(self, brand, speed):\n",
    "        self.brand = brand  # Public attribute\n",
    "        self.speed = speed  # Public attribute\n",
    "\n",
    "car1 = Car(\"Toyota\", 150)\n",
    "print(car1.speed)  # ✅ Accessible directly\n",
    "car1.speed = 200  # ✅ Can be modified\n",
    "print(car1.speed)  # Output: 200"
   ]
  },
  {
   "cell_type": "markdown",
   "metadata": {},
   "source": [
    "🔴 **Issue:** No control over modification.\n",
    "\n",
    "---"
   ]
  },
  {
   "cell_type": "markdown",
   "metadata": {},
   "source": [
    "\n",
    "### **4️⃣ Protected Members (_single underscore)**\n",
    "✅ Protected members are **not enforced** but should be treated as internal.\n"
   ]
  },
  {
   "cell_type": "code",
   "execution_count": 2,
   "metadata": {},
   "outputs": [
    {
     "name": "stdout",
     "output_type": "stream",
     "text": [
      "150\n",
      "200\n"
     ]
    }
   ],
   "source": [
    "class Car:\n",
    "    def __init__(self, brand, speed):\n",
    "        self.brand = brand\n",
    "        self._speed = speed  # Protected attribute\n",
    "\n",
    "car1 = Car(\"Toyota\", 150)\n",
    "print(car1._speed)  # ⚠️ Technically accessible, but should be avoided\n",
    "\n",
    "car1._speed = 200  # ⚠️ Can still modify (Not recommended)\n",
    "print(car1._speed)  # Output: 200"
   ]
  },
  {
   "cell_type": "markdown",
   "metadata": {},
   "source": [
    "⚠️ **Python does not enforce protection**, but `_speed` indicates it **should not** be modified directly.\n",
    "\n",
    "---"
   ]
  },
  {
   "cell_type": "markdown",
   "metadata": {},
   "source": [
    "### **5️⃣ Private Members (__double underscore)**\n",
    "✅ Private members **cannot be accessed directly** from outside the class.  <br>\n",
    "✅ Python **name-mangles** private variables (`self.__var` → `_ClassName__var`).\n",
    "\n",
    "\n"
   ]
  },
  {
   "cell_type": "code",
   "execution_count": null,
   "metadata": {},
   "outputs": [
    {
     "ename": "AttributeError",
     "evalue": "'Car' object has no attribute '__speed'",
     "output_type": "error",
     "traceback": [
      "\u001b[1;31m---------------------------------------------------------------------------\u001b[0m",
      "\u001b[1;31mAttributeError\u001b[0m                            Traceback (most recent call last)",
      "Cell \u001b[1;32mIn[7], line 7\u001b[0m\n\u001b[0;32m      4\u001b[0m         \u001b[38;5;28mself\u001b[39m\u001b[38;5;241m.\u001b[39m__speed \u001b[38;5;241m=\u001b[39m speed  \u001b[38;5;66;03m# Private attribute\u001b[39;00m\n\u001b[0;32m      6\u001b[0m car1 \u001b[38;5;241m=\u001b[39m Car(\u001b[38;5;124m\"\u001b[39m\u001b[38;5;124mToyota\u001b[39m\u001b[38;5;124m\"\u001b[39m, \u001b[38;5;241m150\u001b[39m)\n\u001b[1;32m----> 7\u001b[0m \u001b[38;5;28mprint\u001b[39m(\u001b[43mcar1\u001b[49m\u001b[38;5;241;43m.\u001b[39;49m\u001b[43m__speed\u001b[49m)  \u001b[38;5;66;03m#❌ AttributeError: 'Car' object has no attribute '__speed'\u001b[39;00m\n",
      "\u001b[1;31mAttributeError\u001b[0m: 'Car' object has no attribute '__speed'"
     ]
    }
   ],
   "source": [
    "class Car:\n",
    "    def __init__(self, brand, speed):\n",
    "        self.brand = brand\n",
    "        self.__speed = speed  # Private attribute\n",
    "\n",
    "car1 = Car(\"Toyota\", 150)\n",
    "print(car1.__speed)  \n",
    "\n"
   ]
  },
  {
   "cell_type": "code",
   "execution_count": 6,
   "metadata": {},
   "outputs": [
    {
     "name": "stdout",
     "output_type": "stream",
     "text": [
      "150\n"
     ]
    }
   ],
   "source": [
    "# Correct way to access\n",
    "print(car1._Car__speed)  # ✅ Output: 150 (Name Mangling)"
   ]
  },
  {
   "cell_type": "markdown",
   "metadata": {},
   "source": [
    "✅ **Private attributes prevent accidental modification.**  \n",
    "\n",
    "---\n",
    "---"
   ]
  },
  {
   "cell_type": "markdown",
   "metadata": {},
   "source": [
    "## **6️⃣ Getter and Setter Methods for Controlled Access**\n",
    "We can **control access** to private attributes using **getter** and **setter** methods.\n",
    "\n",
    "```python\n",
    "class Car:\n",
    "    def __init__(self, brand, speed):\n",
    "        self.brand = brand\n",
    "        self.__speed = speed  # Private attribute\n",
    "\n",
    "    # Getter method\n",
    "    def get_speed(self):\n",
    "        return self.__speed\n",
    "\n",
    "    # Setter method (ensures valid modification)\n",
    "    def set_speed(self, new_speed):\n",
    "        if new_speed > 0:\n",
    "            self.__speed = new_speed\n",
    "        else:\n",
    "            print(\"Speed cannot be negative!\")\n",
    "\n",
    "car1 = Car(\"Toyota\", 150)\n",
    "\n",
    "# Using getter\n",
    "print(car1.get_speed())  # Output: 150\n",
    "\n",
    "# Using setter\n",
    "car1.set_speed(200)\n",
    "print(car1.get_speed())  # Output: 200\n",
    "\n",
    "car1.set_speed(-50)  # Output: Speed cannot be negative!\n",
    "```\n",
    "✅ **Benefits of Getters and Setters**:\n",
    "- Prevents **direct access** to private variables.\n",
    "- Ensures **valid modifications**.\n",
    "\n",
    "---"
   ]
  },
  {
   "cell_type": "markdown",
   "metadata": {},
   "source": [
    "\n",
    "\n",
    "## **7️⃣ Using the `@property` Decorator for Getters and Setters**\n",
    "Python provides a more elegant way to define getters and setters using `@property`.\n",
    "\n",
    "```python\n",
    "class Car:\n",
    "    def __init__(self, brand, speed):\n",
    "        self.brand = brand\n",
    "        self.__speed = speed\n",
    "\n",
    "    @property\n",
    "    def speed(self):  # Getter\n",
    "        return self.__speed\n",
    "\n",
    "    @speed.setter\n",
    "    def speed(self, new_speed):  # Setter\n",
    "        if new_speed > 0:\n",
    "            self.__speed = new_speed\n",
    "        else:\n",
    "            print(\"Speed cannot be negative!\")\n",
    "\n",
    "car1 = Car(\"Toyota\", 150)\n",
    "\n",
    "# Using property instead of getter method\n",
    "print(car1.speed)  # Output: 150\n",
    "\n",
    "# Using property instead of setter method\n",
    "car1.speed = 200\n",
    "print(car1.speed)  # Output: 200\n",
    "\n",
    "car1.speed = -50  # Output: Speed cannot be negative!\n",
    "```\n",
    "✅ **Advantages of `@property`**:\n",
    "- More **Pythonic**.\n",
    "- Simplifies the syntax of getters and setters.\n",
    "\n",
    "---\n",
    "\n",
    "## **🔹 Key Takeaways from Step 4**\n",
    "✅ **Encapsulation** binds data and methods together.  \n",
    "✅ **Public** (`self.var`) → Accessible anywhere.  \n",
    "✅ **Protected** (`self._var`) → Not strictly private, but should be treated as internal.  \n",
    "✅ **Private** (`self.__var`) → Cannot be accessed directly, uses name mangling.  \n",
    "✅ **Getter & Setter methods** ensure **controlled access** to private variables.  \n",
    "✅ `@property` provides a **cleaner way** to implement getters and setters.  \n",
    "\n",
    "---\n",
    "\n",
    "Next, in **Step 5**, we will cover **Inheritance** – how one class can inherit properties from another! 🚀 Ready to proceed?"
   ]
  }
 ],
 "metadata": {
  "kernelspec": {
   "display_name": "py101",
   "language": "python",
   "name": "python3"
  },
  "language_info": {
   "codemirror_mode": {
    "name": "ipython",
    "version": 3
   },
   "file_extension": ".py",
   "mimetype": "text/x-python",
   "name": "python",
   "nbconvert_exporter": "python",
   "pygments_lexer": "ipython3",
   "version": "3.12.4"
  }
 },
 "nbformat": 4,
 "nbformat_minor": 2
}
