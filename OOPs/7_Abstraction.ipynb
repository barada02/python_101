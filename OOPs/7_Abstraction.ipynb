{
 "cells": [
  {
   "cell_type": "markdown",
   "metadata": {},
   "source": [
    "# **Abstraction in Python**  \n",
    "\n",
    "Abstraction is one of the core principles of **Object-Oriented Programming (OOP)**. It helps in hiding **implementation details** and only exposing the **essential features** to the user.\n",
    "\n",
    "---\n",
    "\n",
    "## **1️⃣ What is Abstraction?**\n",
    "✅ Abstraction **hides the complexity** and **shows only necessary details**.  \n",
    "✅ It helps in reducing code complexity and increases **reusability**.  \n",
    "✅ In Python, **abstraction is achieved using abstract classes and methods** with the `ABC` module (Abstract Base Class).  \n",
    "\n",
    "---\n",
    "\n",
    "## **2️⃣ Why is Abstraction Important?**  \n",
    "🔹 **Hides Implementation** → Users don't need to know *how* things work, only *what* they do.  \n",
    "🔹 **Promotes Reusability** → A base class can define common behaviors without revealing the full logic.  \n",
    "🔹 **Enhances Security** → Prevents direct access to internal logic.  \n",
    "🔹 **Improves Maintainability** → Makes the code **clean** and **modular**.  \n",
    "\n",
    "---"
   ]
  },
  {
   "cell_type": "markdown",
   "metadata": {},
   "source": [
    "\n",
    "## **3️⃣ How to Implement Abstraction in Python?**  \n",
    "Python provides **abstract classes** to enforce abstraction using the `ABC` module (`ABC` stands for Abstract Base Class).  \n",
    "\n",
    "📌 **Abstract Class** → A class that cannot be instantiated (i.e., objects cannot be created from it).  \n",
    "📌 **Abstract Method** → A method that must be implemented in child classes.  \n",
    "\n",
    "### **Syntax of Abstract Class**"
   ]
  },
  {
   "cell_type": "code",
   "execution_count": 1,
   "metadata": {},
   "outputs": [
    {
     "name": "stdout",
     "output_type": "stream",
     "text": [
      "Car engine started!\n",
      "Bike engine started!\n"
     ]
    }
   ],
   "source": [
    "from abc import ABC, abstractmethod\n",
    "\n",
    "class Vehicle(ABC):  # Abstract class\n",
    "    @abstractmethod\n",
    "    def start_engine(self):\n",
    "        pass  # Abstract method (no implementation)\n",
    "\n",
    "class Car(Vehicle):\n",
    "    def start_engine(self):\n",
    "        return \"Car engine started!\"\n",
    "\n",
    "class Bike(Vehicle):\n",
    "    def start_engine(self):\n",
    "        return \"Bike engine started!\"\n",
    "# Creating objects\n",
    "car = Car()\n",
    "bike = Bike()\n",
    "\n",
    "print(car.start_engine()) \n",
    "print(bike.start_engine()) "
   ]
  },
  {
   "cell_type": "markdown",
   "metadata": {},
   "source": [
    "✔️ The `Vehicle` class is **abstract** and contains an **abstract method** `start_engine()`.  \n",
    "✔️ The `Car` and `Bike` classes must **implement** this method, otherwise Python will raise an error.  "
   ]
  },
  {
   "cell_type": "markdown",
   "metadata": {},
   "source": [
    "---\n",
    "\n",
    "## **4️⃣ Abstract Classes vs Regular Classes**\n",
    "| Feature  | Regular Class  | Abstract Class |\n",
    "|----------|---------------|---------------|\n",
    "| **Can create objects?** | ✅ Yes | ❌ No |\n",
    "| **Can have concrete methods?** | ✅ Yes | ✅ Yes |\n",
    "| **Can have abstract methods?** | ❌ No | ✅ Yes |\n",
    "| **Used for?** | Normal object creation | Defining a blueprint for child classes |\n",
    "\n",
    "---"
   ]
  },
  {
   "cell_type": "markdown",
   "metadata": {},
   "source": [
    "## **5️⃣ Abstract Methods with Arguments**\n",
    "Abstract methods can also have parameters.  "
   ]
  },
  {
   "cell_type": "code",
   "execution_count": 2,
   "metadata": {},
   "outputs": [
    {
     "name": "stdout",
     "output_type": "stream",
     "text": [
      "20\n"
     ]
    }
   ],
   "source": [
    "from abc import ABC, abstractmethod\n",
    "\n",
    "class Shape(ABC):\n",
    "    @abstractmethod\n",
    "    def area(self, length, breadth):\n",
    "        pass\n",
    "\n",
    "class Rectangle(Shape):\n",
    "    def area(self, length, breadth):\n",
    "        return length * breadth\n",
    "\n",
    "rect = Rectangle()\n",
    "print(rect.area(5, 4))  # ✅ Output: 20"
   ]
  },
  {
   "cell_type": "markdown",
   "metadata": {},
   "source": [
    "✔️ The abstract method **`area()`** is implemented differently in the `Rectangle` class.  \n",
    "\n",
    "---"
   ]
  },
  {
   "cell_type": "markdown",
   "metadata": {},
   "source": [
    "## **6️⃣ Partial Abstraction**\n",
    "Abstract classes can have **both abstract and non-abstract methods**.\n",
    "\n",
    "```python\n",
    "from abc import ABC, abstractmethod\n",
    "\n",
    "class Animal(ABC):\n",
    "    def eat(self):  # Concrete method\n",
    "        return \"I can eat food.\"\n",
    "\n",
    "    @abstractmethod\n",
    "    def sound(self):  # Abstract method\n",
    "        pass\n",
    "\n",
    "class Dog(Animal):\n",
    "    def sound(self):\n",
    "        return \"Woof!\"\n",
    "\n",
    "dog = Dog()\n",
    "print(dog.eat())   # ✅ I can eat food.\n",
    "print(dog.sound()) # ✅ Woof!\n",
    "```\n",
    "✔️ The `eat()` method is **already defined** in the `Animal` class, so subclasses can **reuse it**.  \n",
    "\n",
    "---\n",
    "\n",
    "## **7️⃣ When to Use Abstraction?**\n",
    "🔹 When **multiple classes share a common interface** but may have **different implementations**.  \n",
    "🔹 When you want to **force subclasses to implement specific methods**.  \n",
    "🔹 When you want to **hide complex logic** from the user.  \n",
    "\n",
    "---\n",
    "\n",
    "## **8️⃣ Key Takeaways from Step 7**\n",
    "✅ **Abstraction hides complexity** and only exposes necessary details.  \n",
    "✅ **Abstract classes cannot be instantiated** directly.  \n",
    "✅ **Abstract methods must be implemented** in subclasses.  \n",
    "✅ **Use the `ABC` module** and `@abstractmethod` decorator for abstraction.  \n",
    "\n",
    "---\n",
    "\n",
    "### **Next Step: Step 8 - OOP Best Practices in Python**\n",
    "In **Step 8**, we will cover **OOP best practices**, including **SOLID principles, DRY (Don’t Repeat Yourself), and best coding practices** to write clean OOP-based Python code. 🚀  \n",
    "\n",
    "Are you ready to proceed? 😊"
   ]
  },
  {
   "cell_type": "code",
   "execution_count": null,
   "metadata": {},
   "outputs": [],
   "source": []
  }
 ],
 "metadata": {
  "kernelspec": {
   "display_name": "py101",
   "language": "python",
   "name": "python3"
  },
  "language_info": {
   "codemirror_mode": {
    "name": "ipython",
    "version": 3
   },
   "file_extension": ".py",
   "mimetype": "text/x-python",
   "name": "python",
   "nbconvert_exporter": "python",
   "pygments_lexer": "ipython3",
   "version": "3.12.4"
  }
 },
 "nbformat": 4,
 "nbformat_minor": 2
}
