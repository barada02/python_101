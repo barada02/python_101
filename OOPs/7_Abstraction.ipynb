{
 "cells": [
  {
   "cell_type": "markdown",
   "metadata": {},
   "source": [
    "# **Abstraction in Python**  \n",
    "\n",
    "Abstraction is one of the core principles of **Object-Oriented Programming (OOP)**. It helps in hiding **implementation details** and only exposing the **essential features** to the user.\n",
    "\n",
    "---\n",
    "\n",
    "## **1️⃣ What is Abstraction?**\n",
    "✅ Abstraction **hides the complexity** and **shows only necessary details**.  \n",
    "✅ It helps in reducing code complexity and increases **reusability**.  \n",
    "✅ In Python, **abstraction is achieved using abstract classes and methods** with the `ABC` module (Abstract Base Class).  \n",
    "\n",
    "---\n",
    "\n",
    "## **2️⃣ Why is Abstraction Important?**  \n",
    "🔹 **Hides Implementation** → Users don't need to know *how* things work, only *what* they do.  \n",
    "🔹 **Promotes Reusability** → A base class can define common behaviors without revealing the full logic.  \n",
    "🔹 **Enhances Security** → Prevents direct access to internal logic.  \n",
    "🔹 **Improves Maintainability** → Makes the code **clean** and **modular**.  \n",
    "\n",
    "---"
   ]
  },
  {
   "cell_type": "markdown",
   "metadata": {},
   "source": []
  }
 ],
 "metadata": {
  "kernelspec": {
   "display_name": "py101",
   "language": "python",
   "name": "python3"
  },
  "language_info": {
   "name": "python",
   "version": "3.12.4"
  }
 },
 "nbformat": 4,
 "nbformat_minor": 2
}
