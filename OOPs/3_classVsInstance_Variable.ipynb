{
 "cells": [
  {
   "cell_type": "markdown",
   "metadata": {},
   "source": [
    "# Class Variables vs. Instance Variables in Python\n",
    "In Object-Oriented Programming, variables in a class can be categorized into instance variables and class variables. Understanding the difference between them is crucial for writing efficient OOP code"
   ]
  },
  {
   "cell_type": "markdown",
   "metadata": {},
   "source": [
    "### 1️⃣ Instance Variables\n",
    "✅ Defined inside the __init__ method using self<br>\n",
    "✅ Unique to each object<br>\n",
    "✅ Can store different values for different objects<br>"
   ]
  },
  {
   "cell_type": "code",
   "execution_count": 1,
   "metadata": {},
   "outputs": [
    {
     "name": "stdout",
     "output_type": "stream",
     "text": [
      "Toyota\n",
      "Honda\n",
      "Black\n",
      "Blue\n"
     ]
    }
   ],
   "source": [
    "class Car:\n",
    "    def __init__(self, brand, color, speed):\n",
    "        self.brand = brand   # Instance variable\n",
    "        self.color = color   # Instance variable\n",
    "        self.speed = speed   # Instance variable\n",
    "\n",
    "# Creating objects\n",
    "car1 = Car(\"Toyota\", \"Red\", 150)\n",
    "car2 = Car(\"Honda\", \"Blue\", 180)\n",
    "\n",
    "# Accessing instance variables\n",
    "print(car1.brand)  # Output: Toyota\n",
    "print(car2.brand)  # Output: Honda\n",
    "\n",
    "# Modifying an instance variable (only affects car1)\n",
    "car1.color = \"Black\"\n",
    "print(car1.color)  # Output: Black\n",
    "print(car2.color)  # Output: Blue\n"
   ]
  },
  {
   "cell_type": "markdown",
   "metadata": {},
   "source": [
    "**Points:**\n",
    "* Each object (```car1 ```and ```car2```) has its own copy of instance variables.\n",
    "* Modifying ```car1.color``` does not affect ```car2.color```."
   ]
  }
 ],
 "metadata": {
  "kernelspec": {
   "display_name": "py101",
   "language": "python",
   "name": "python3"
  },
  "language_info": {
   "codemirror_mode": {
    "name": "ipython",
    "version": 3
   },
   "file_extension": ".py",
   "mimetype": "text/x-python",
   "name": "python",
   "nbconvert_exporter": "python",
   "pygments_lexer": "ipython3",
   "version": "3.12.4"
  }
 },
 "nbformat": 4,
 "nbformat_minor": 2
}
