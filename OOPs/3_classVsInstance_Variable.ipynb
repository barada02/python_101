{
 "cells": [
  {
   "cell_type": "markdown",
   "metadata": {},
   "source": [
    "# Class Variables vs. Instance Variables in Python\n",
    "In Object-Oriented Programming, variables in a class can be categorized into instance variables and class variables. Understanding the difference between them is crucial for writing efficient OOP code"
   ]
  },
  {
   "cell_type": "markdown",
   "metadata": {},
   "source": [
    "### 1️⃣ Instance Variables\n",
    "✅ Defined inside the __init__ method using self<br>\n",
    "✅ Unique to each object<br>\n",
    "✅ Can store different values for different objects<br>"
   ]
  },
  {
   "cell_type": "code",
   "execution_count": null,
   "metadata": {},
   "outputs": [
    {
     "name": "stdout",
     "output_type": "stream",
     "text": [
      "Toyota\n",
      "Honda\n",
      "Black\n",
      "Blue\n"
     ]
    }
   ],
   "source": [
    "class Car:\n",
    "    def __init__(self, brand, color, speed):\n",
    "        self.brand = brand   # Instance variable\n",
    "        self.color = color   # Instance variable\n",
    "        self.speed = speed   # Instance variable\n",
    "\n",
    "# Creating objects\n",
    "car1 = Car(\"Toyota\", \"Red\", 150)\n",
    "car2 = Car(\"Honda\", \"Blue\", 180)\n",
    "\n",
    "# Accessing instance variables\n",
    "print(car1.brand)  \n",
    "print(car2.brand)  \n",
    "\n",
    "# Modifying an instance variable (only affects car1)\n",
    "car1.color = \"Black\"\n",
    "print(car1.color)  \n",
    "print(car2.color)  \n"
   ]
  },
  {
   "cell_type": "markdown",
   "metadata": {},
   "source": [
    "**Points:**\n",
    "* Each object (```car1 ```and ```car2```) has its own copy of instance variables.\n",
    "* Modifying ```car1.color``` does not affect ```car2.color```."
   ]
  },
  {
   "cell_type": "markdown",
   "metadata": {},
   "source": [
    "### 2️⃣ Class Variables\n",
    "✅ Defined outside __init__, inside the class<br>\n",
    "✅ Shared among all objects of the class<br>\n",
    "✅ Changing a class variable affects all instances<br>"
   ]
  },
  {
   "cell_type": "code",
   "execution_count": 2,
   "metadata": {},
   "outputs": [
    {
     "name": "stdout",
     "output_type": "stream",
     "text": [
      "4\n",
      "4\n",
      "6\n",
      "6\n"
     ]
    }
   ],
   "source": [
    "class Car:\n",
    "    wheels = 4  # Class variable (common for all cars)\n",
    "\n",
    "    def __init__(self, brand, color, speed):\n",
    "        self.brand = brand\n",
    "        self.color = color\n",
    "        self.speed = speed\n",
    "\n",
    "# Creating objects\n",
    "car1 = Car(\"Toyota\", \"Red\", 150)\n",
    "car2 = Car(\"Honda\", \"Blue\", 180)\n",
    "\n",
    "# Accessing class variable\n",
    "print(car1.wheels)  \n",
    "print(car2.wheels)  \n",
    "\n",
    "# Modifying class variable (affects all objects)\n",
    "Car.wheels = 6\n",
    "print(car1.wheels) \n",
    "print(car2.wheels)  \n"
   ]
  },
  {
   "cell_type": "markdown",
   "metadata": {},
   "source": [
    "**Points:**\n",
    "* ```wheels``` is a class variable, so all cars have the same value.\n",
    "* Changing ```Car.wheels = 6``` affects all instances"
   ]
  },
  {
   "cell_type": "code",
   "execution_count": null,
   "metadata": {},
   "outputs": [],
   "source": []
  },
  {
   "cell_type": "markdown",
   "metadata": {},
   "source": [
    "### 3️⃣ Instance vs. Class Variables - Key Differences\n",
    "|Feature\t|Instance Variables (```self.var```)|\tClass Variables (Class.var)|\n",
    "|-----------------|------------------|----------|\n",
    "|Definition\t|Inside ```__init__``` using ```self```\t|Directly inside the class (outside ```__init__```)\n",
    "|Scope\t|Unique to each object\t|Shared among all objects|\n",
    "|Modification\t|Changing in one object does not affect others\t|Changing the value affects all objects|\n",
    "|Example|\t```self.color = \"Red\"```\t|```wheels = 4```|\n"
   ]
  }
 ],
 "metadata": {
  "kernelspec": {
   "display_name": "py101",
   "language": "python",
   "name": "python3"
  },
  "language_info": {
   "codemirror_mode": {
    "name": "ipython",
    "version": 3
   },
   "file_extension": ".py",
   "mimetype": "text/x-python",
   "name": "python",
   "nbconvert_exporter": "python",
   "pygments_lexer": "ipython3",
   "version": "3.12.4"
  }
 },
 "nbformat": 4,
 "nbformat_minor": 2
}
