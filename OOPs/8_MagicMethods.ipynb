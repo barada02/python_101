{
 "cells": [
  {
   "cell_type": "markdown",
   "metadata": {},
   "source": [
    "# **Magic (Dunder) Methods in Python**  \n",
    "\n",
    "Magic methods (also called **Dunder Methods** because they start and end with **double underscores `__`**) are special methods in Python that allow objects to have built-in behaviors. These methods **customize how objects behave** with operators, functions, and type conversions.\n",
    "\n",
    "---\n",
    "\n",
    "## **1️⃣ What Are Magic (Dunder) Methods?**\n",
    "✅ **Magic methods** allow objects to integrate with Python’s built-in operations.  \n",
    "✅ They **start and end** with `__` (double underscores).  \n",
    "✅ Example: `__str__()`, `__repr__()`, `__eq__()`, `__lt__()`, `__len__()`, etc.  \n",
    "\n",
    "---"
   ]
  },
  {
   "cell_type": "markdown",
   "metadata": {},
   "source": [
    "## **2️⃣ Customizing String Representation (`__str__` and `__repr__`)**  \n",
    "These methods define **how an object is represented as a string**.\n",
    "\n",
    "### **🔹 `__str__()` → Readable representation (for users)**\n",
    "✔️ Used when calling `print(object)` or `str(object)`.  \n",
    "✔️ Should return a **human-friendly** description.\n",
    "\n",
    "### **🔹 `__repr__()` → Official representation (for debugging)**\n",
    "✔️ Used when calling `repr(object)` or checking in an interpreter.  \n",
    "✔️ Should return a **formal string** that can recreate the object.\n"
   ]
  },
  {
   "cell_type": "code",
   "execution_count": null,
   "metadata": {},
   "outputs": [
    {
     "name": "stdout",
     "output_type": "stream",
     "text": [
      "Alice is 25 years old.\n",
      "Person('Alice', 25)\n"
     ]
    }
   ],
   "source": [
    "class Person:\n",
    "    def __init__(self, name, age):\n",
    "        self.name = name\n",
    "        self.age = age\n",
    "\n",
    "    def __str__(self):\n",
    "        return f\"{self.name} is {self.age} years old.\"\n",
    "\n",
    "    def __repr__(self):\n",
    "        return f\"Person('{self.name}', {self.age})\"\n",
    "\n",
    "p = Person(\"Alice\", 25)\n",
    "\n",
    "print(str(p))   \n",
    "print(repr(p)) "
   ]
  },
  {
   "cell_type": "markdown",
   "metadata": {},
   "source": [
    "✔️ `__str__()` makes it user-friendly.  \n",
    "✔️ `__repr__()` helps debugging and recreating objects.  \n",
    "\n",
    "---"
   ]
  },
  {
   "cell_type": "markdown",
   "metadata": {},
   "source": [
    "\n",
    "## **3️⃣ Comparison Magic Methods (`__eq__`, `__lt__`, etc.)**  \n",
    "These methods allow **objects to be compared** using operators (`==`, `<`, `>`, etc.).\n",
    "\n",
    "| Method | Operator | Description |\n",
    "|--------|---------|-------------|\n",
    "| `__eq__(self, other)` | `==` | Checks equality |\n",
    "| `__ne__(self, other)` | `!=` | Checks inequality |\n",
    "| `__lt__(self, other)` | `<` | Less than |\n",
    "| `__le__(self, other)` | `<=` | Less than or equal to |\n",
    "| `__gt__(self, other)` | `>` | Greater than |\n",
    "| `__ge__(self, other)` | `>=` | Greater than or equal to |"
   ]
  },
  {
   "cell_type": "markdown",
   "metadata": {},
   "source": [
    "### **Example: Custom Equality Check**\n"
   ]
  },
  {
   "cell_type": "code",
   "execution_count": 2,
   "metadata": {},
   "outputs": [
    {
     "name": "stdout",
     "output_type": "stream",
     "text": [
      "True\n",
      "False\n"
     ]
    }
   ],
   "source": [
    "class Student:\n",
    "    def __init__(self, name, marks):\n",
    "        self.name = name\n",
    "        self.marks = marks\n",
    "\n",
    "    def __eq__(self, other):\n",
    "        return self.marks == other.marks  # Compare marks\n",
    "\n",
    "s1 = Student(\"John\", 85)\n",
    "s2 = Student(\"Doe\", 85)\n",
    "s3 = Student(\"Alice\", 90)\n",
    "\n",
    "print(s1 == s2)  # ✅ True (because both have 85 marks)\n",
    "print(s1 == s3)  # ✅ False"
   ]
  },
  {
   "cell_type": "markdown",
   "metadata": {},
   "source": [
    "\n",
    "✔️ Without `__eq__()`, Python would compare **memory locations** instead of values.  \n",
    "\n",
    "---"
   ]
  },
  {
   "cell_type": "markdown",
   "metadata": {},
   "source": [
    "## **4️⃣ Arithmetic Magic Methods (`__add__`, `__sub__`, etc.)**  \n",
    "These methods allow objects to **work with arithmetic operators**.\n",
    "\n",
    "| Method | Operator | Description |\n",
    "|--------|---------|-------------|\n",
    "| `__add__(self, other)` | `+` | Addition |\n",
    "| `__sub__(self, other)` | `-` | Subtraction |\n",
    "| `__mul__(self, other)` | `*` | Multiplication |\n",
    "| `__truediv__(self, other)` | `/` | Division |\n",
    "| `__floordiv__(self, other)` | `//` | Floor division |\n",
    "| `__mod__(self, other)` | `%` | Modulus |\n",
    "| `__pow__(self, other)` | `**` | Power |\n"
   ]
  },
  {
   "cell_type": "markdown",
   "metadata": {},
   "source": [
    "\n",
    "### **Example: Custom Addition for a Class**\n"
   ]
  },
  {
   "cell_type": "code",
   "execution_count": 3,
   "metadata": {},
   "outputs": [
    {
     "name": "stdout",
     "output_type": "stream",
     "text": [
      "$80\n"
     ]
    }
   ],
   "source": [
    "class Money:\n",
    "    def __init__(self, amount):\n",
    "        self.amount = amount\n",
    "\n",
    "    def __add__(self, other):\n",
    "        return Money(self.amount + other.amount)  # Add amounts\n",
    "\n",
    "    def __str__(self):\n",
    "        return f\"${self.amount}\"\n",
    "\n",
    "m1 = Money(50)\n",
    "m2 = Money(30)\n",
    "\n",
    "m3 = m1 + m2  # ✅ Calls __add__()\n",
    "\n",
    "print(m3)  # ✅ $80"
   ]
  },
  {
   "cell_type": "markdown",
   "metadata": {},
   "source": [
    "✔️ Without `__add__()`, `m1 + m2` would raise an **error**.  \n",
    "\n",
    "---"
   ]
  },
  {
   "cell_type": "markdown",
   "metadata": {},
   "source": [
    "## **5️⃣ `__len__()` Method: Custom Length Calculation**\n",
    "🔹 Defines **custom behavior for the `len()` function**."
   ]
  },
  {
   "cell_type": "markdown",
   "metadata": {},
   "source": [
    "### **Example: Custom Length for a Class**\n",
    "\n"
   ]
  },
  {
   "cell_type": "code",
   "execution_count": 4,
   "metadata": {},
   "outputs": [
    {
     "name": "stdout",
     "output_type": "stream",
     "text": [
      "3\n"
     ]
    }
   ],
   "source": [
    "class Team:\n",
    "    def __init__(self, members):\n",
    "        self.members = members\n",
    "\n",
    "    def __len__(self):\n",
    "        return len(self.members)\n",
    "\n",
    "team = Team([\"Alice\", \"Bob\", \"Charlie\"])\n",
    "print(len(team))  "
   ]
  },
  {
   "cell_type": "markdown",
   "metadata": {},
   "source": [
    "✔️ Now, `len(team)` **returns the number of members** instead of an error.  \n",
    "\n",
    "---"
   ]
  },
  {
   "cell_type": "markdown",
   "metadata": {},
   "source": [
    "## **6️⃣ `__call__()` Method: Making Objects Callable**\n",
    "🔹 Allows objects to be **called like functions**.\n",
    "\n",
    "### **Example: Custom Callable Class**\n"
   ]
  },
  {
   "cell_type": "code",
   "execution_count": 5,
   "metadata": {},
   "outputs": [
    {
     "name": "stdout",
     "output_type": "stream",
     "text": [
      "10\n",
      "15\n"
     ]
    }
   ],
   "source": [
    "class Multiplier:\n",
    "    def __init__(self, factor):\n",
    "        self.factor = factor\n",
    "\n",
    "    def __call__(self, value):\n",
    "        return value * self.factor\n",
    "\n",
    "double = Multiplier(2)\n",
    "triple = Multiplier(3)\n",
    "\n",
    "print(double(5))  # ✅ 10\n",
    "print(triple(5))  # ✅ 15"
   ]
  },
  {
   "cell_type": "markdown",
   "metadata": {},
   "source": [
    "✔️ `double(5)` calls `__call__()`, behaving like a function.  \n",
    "\n",
    "---"
   ]
  },
  {
   "cell_type": "markdown",
   "metadata": {},
   "source": [
    "\n",
    "\n",
    "\n",
    "\n",
    "\n",
    "\n",
    "## **7️⃣ Summary: Why Use Magic Methods?**\n",
    "✅ **Improve Readability** → Custom string representation with `__str__()` and `__repr__()`.  \n",
    "✅ **Enable Operator Overloading** → Compare objects with `__eq__()`, `__lt__()`, etc.  \n",
    "✅ **Support Built-in Functions** → Use `len(obj)` with `__len__()`.  \n",
    "✅ **Enhance Usability** → Allow objects to work **like built-in types**.  \n",
    "\n",
    "---\n",
    "\n",
    "## **🔜 Next Step: Step 9 - OOP Best Practices and Design Patterns**\n",
    "In the next step, we will cover **best practices for OOP in Python**, including **SOLID principles** and **design patterns** for writing clean, maintainable code.\n",
    "\n",
    "Are you ready for Step 9? 😊🚀"
   ]
  }
 ],
 "metadata": {
  "kernelspec": {
   "display_name": "py101",
   "language": "python",
   "name": "python3"
  },
  "language_info": {
   "codemirror_mode": {
    "name": "ipython",
    "version": 3
   },
   "file_extension": ".py",
   "mimetype": "text/x-python",
   "name": "python",
   "nbconvert_exporter": "python",
   "pygments_lexer": "ipython3",
   "version": "3.12.4"
  }
 },
 "nbformat": 4,
 "nbformat_minor": 2
}
