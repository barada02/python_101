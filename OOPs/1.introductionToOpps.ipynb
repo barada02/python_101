{
 "cells": [
  {
   "cell_type": "markdown",
   "metadata": {},
   "source": [
    "### **Introduction to OOP in Python**  \n",
    "\n",
    "#### **What is Object-Oriented Programming (OOP)?**  \n",
    "Object-Oriented Programming (OOP) is a programming paradigm based on the concept of **objects**. These objects contain **data (attributes)** and **methods (functions)** that operate on the data.  \n",
    "\n",
    "#### **Why Use OOP in Python?**  \n",
    "OOP helps in:  \n",
    "- **Code reusability**: You can reuse existing classes in new programs.  \n",
    "- **Scalability**: It helps in designing large applications efficiently.  \n",
    "- **Encapsulation**: Data is protected inside objects, reducing unintended interference.  \n",
    "- **Abstraction**: Hides unnecessary details and exposes only relevant parts.  \n",
    "- **Polymorphism**: Different objects can share the same interface but behave differently.  \n",
    "\n",
    "#### **Procedural vs. Object-Oriented Programming**  \n",
    "| Feature  | Procedural Programming | Object-Oriented Programming |\n",
    "|----------|-----------------------|----------------------------|\n",
    "| Approach | Follows a sequence of tasks (top-down) | Models real-world entities using objects |\n",
    "| Data Access | Data is globally accessible | Data is encapsulated inside objects |\n",
    "| Code Reusability | Requires copying and modifying functions | Uses inheritance and classes |\n",
    "| Example | Functions operating on global variables | Objects interacting with each other |\n",
    "\n",
    "#### **Key OOP Concepts**  \n",
    "1. **Class** – A blueprint for creating objects.  \n",
    "2. **Object** – An instance of a class.  \n",
    "3. **Encapsulation** – Restricting direct access to some components.  \n",
    "4. **Abstraction** – Hiding complex implementation details.  \n",
    "5. **Inheritance** – One class can derive properties from another.  \n",
    "6. **Polymorphism** – Objects can take multiple forms (e.g., method overriding).  \n",
    "\n",
    "#### **Example: Understanding Objects and Classes**  \n",
    "Here’s a simple real-world analogy:  \n",
    "\n",
    "- A **class** is like a **car blueprint** (defines properties like color, brand, speed).  \n",
    "- An **object** is an **actual car** built using that blueprint.  \n",
    "- Each car (object) has different attributes (color, speed) but follows the same blueprint (class).  \n",
    "\n",
    "\n"
   ]
  },
  {
   "cell_type": "markdown",
   "metadata": {},
   "source": [
    "##### **Python Example (Without OOP vs. With OOP)**  \n",
    "**Without OOP (Procedural Approach)**  "
   ]
  },
  {
   "cell_type": "code",
   "execution_count": 3,
   "metadata": {},
   "outputs": [
    {
     "name": "stdout",
     "output_type": "stream",
     "text": [
      "Car started\n",
      "Car Color: Red\n",
      "Car stopped\n"
     ]
    }
   ],
   "source": [
    "# Procedural approach\n",
    "car_color = \"Red\"\n",
    "car_speed = 100\n",
    "\n",
    "def start_car():\n",
    "    print(\"Car started\")\n",
    "\n",
    "def stop_car():\n",
    "    print(\"Car stopped\")\n",
    "\n",
    "start_car()\n",
    "print(\"Car Color:\", car_color)\n",
    "stop_car()"
   ]
  },
  {
   "cell_type": "markdown",
   "metadata": {},
   "source": [
    "\n",
    "**With OOP (Using Classes and Objects)**  "
   ]
  },
  {
   "cell_type": "code",
   "execution_count": 2,
   "metadata": {},
   "outputs": [
    {
     "name": "stdout",
     "output_type": "stream",
     "text": [
      "Car started\n",
      "Car Color: Red\n",
      "Car stopped\n"
     ]
    }
   ],
   "source": [
    "# Object-Oriented approach\n",
    "class Car:\n",
    "    def __init__(self, color, speed):\n",
    "        self.color = color\n",
    "        self.speed = speed\n",
    "\n",
    "    def start(self):\n",
    "        print(\"Car started\")\n",
    "\n",
    "    def stop(self):\n",
    "        print(\"Car stopped\")\n",
    "        \n",
    "# Creating an object of class Car\n",
    "my_car = Car(\"Red\", 100)\n",
    "\n",
    "my_car.start()\n",
    "print(\"Car Color:\", my_car.color)\n",
    "my_car.stop()\n"
   ]
  },
  {
   "cell_type": "markdown",
   "metadata": {},
   "source": [
    "\n",
    "\n",
    "**Benefits of OOP in this case:**  \n",
    "- The `Car` class can be reused to create multiple car objects.  \n",
    "- Functions related to cars (start/stop) are now logically grouped inside the class.  \n",
    "- Easier to maintain and scale.  \n"
   ]
  }
 ],
 "metadata": {
  "kernelspec": {
   "display_name": "py101",
   "language": "python",
   "name": "python3"
  },
  "language_info": {
   "codemirror_mode": {
    "name": "ipython",
    "version": 3
   },
   "file_extension": ".py",
   "mimetype": "text/x-python",
   "name": "python",
   "nbconvert_exporter": "python",
   "pygments_lexer": "ipython3",
   "version": "3.12.4"
  }
 },
 "nbformat": 4,
 "nbformat_minor": 2
}
