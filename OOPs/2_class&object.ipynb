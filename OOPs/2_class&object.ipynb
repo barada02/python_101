{
 "cells": [
  {
   "cell_type": "markdown",
   "metadata": {},
   "source": [
    "# Classes and Objects in Python\n",
    "In Object-Oriented Programming, classes and objects are the core building blocks.\n",
    "\n",
    "### What is a Class?\n",
    "A class is a blueprint for creating objects. It defines attributes (variables) and methods (functions) that describe how an object should behave.\n",
    "\n",
    "### What is an Object?\n",
    "An object is an instance of a class. When a class is defined, no memory is allocated until an object is created from it.\n",
    "\n"
   ]
  },
  {
   "cell_type": "markdown",
   "metadata": {},
   "source": [
    "## 1️⃣ Defining a Class in Python\n",
    "We use the class keyword to define a class.\n",
    "\n",
    "\n"
   ]
  },
  {
   "cell_type": "code",
   "execution_count": 4,
   "metadata": {},
   "outputs": [],
   "source": [
    "class MyClass:\n",
    "    # Class attributes (variables shared by all instances)\n",
    "    class_variable = \"This is a class variable\"\n",
    "\n",
    "    # Constructor (initializer)\n",
    "    def __init__(self, attribute1, attribute2):\n",
    "        # Instance attributes (variables unique to each instance)\n",
    "        self.attribute1 = attribute1\n",
    "        self.attribute2 = attribute2\n",
    "\n",
    "    # Instance methods (functions that operate on instance data)\n",
    "    def my_method(self):\n",
    "        return f\"Attribute 1: {self.attribute1}, Attribute 2: {self.attribute2}\"\n",
    "\n",
    "    def another_method(self, value):\n",
    "        return self.attribute2 + value"
   ]
  },
  {
   "cell_type": "markdown",
   "metadata": {},
   "source": [
    "* ```class MyClass```:: This line defines a class named ```MyClass```. Class names typically follow the ```CamelCase``` convention.\n",
    "* ``` class_variable ``` : This is a class attribute, a variable shared by all instances of the class.\n",
    "* ```__init__(self, ...)```: This is the constructor method. It's called automatically when an object of the class is created.\n",
    "* * ```self```: A reference to the current instance of the class. It's the first parameter of all instance methods.\n",
    "* * ```attribute1```, ``` attribute2```: Parameters used to initialize instance attributes.\n",
    "* ```self.attribute1```, ```self.attribute2```: These are instance attributes, variables that are unique to each object created from the class.\n",
    "* ``` my_method(self)```, ```another_method(self, value)```: These are instance methods, functions that can operate on the instance's attributes."
   ]
  },
  {
   "cell_type": "markdown",
   "metadata": {},
   "source": [
    "## 2️⃣ Creating an Object (Instance of a Class)\n"
   ]
  },
  {
   "cell_type": "code",
   "execution_count": 5,
   "metadata": {},
   "outputs": [],
   "source": [
    "# Create an object of MyClass\n",
    "obj1 = MyClass(\"value1\", 10)\n",
    "obj2 = MyClass(\"value2\", 20)"
   ]
  },
  {
   "cell_type": "markdown",
   "metadata": {},
   "source": [
    "* ```obj1 = MyClass(\"value1\", 10)```: This creates an object named``` obj1``` of the ```MyClass``` type, passing ```\"value1\"``` and ```10 ```as arguments to the constructor.\n",
    "* ```obj2 = MyClass(\"value2\", 20)```: This creates another object named ```obj2 ```with different initial values."
   ]
  },
  {
   "cell_type": "markdown",
   "metadata": {},
   "source": [
    "## 3️⃣  Accessing Attributes and Methods:"
   ]
  },
  {
   "cell_type": "code",
   "execution_count": null,
   "metadata": {},
   "outputs": [
    {
     "name": "stdout",
     "output_type": "stream",
     "text": [
      "value1\n",
      "20\n",
      "Attribute 1: value1, Attribute 2: 10\n",
      "25\n",
      "This is a class variable\n"
     ]
    }
   ],
   "source": [
    "# Access instance attributes\n",
    "print(obj1.attribute1) \n",
    "print(obj2.attribute2)  \n",
    "\n",
    "# Call instance methods\n",
    "print(obj1.my_method())  \n",
    "print(obj2.another_method(5)) \n",
    "print(MyClass.class_variable) "
   ]
  },
  {
   "cell_type": "markdown",
   "metadata": {},
   "source": [
    "## 4️⃣ Deleting attribute and object\n",
    "\n",
    " In python you can delete attributes from objects and delete objects themselves using the ```del ```keyword and the ```delattr()``` function"
   ]
  },
  {
   "cell_type": "markdown",
   "metadata": {},
   "source": [
    "1. Deleting Attributes:\n",
    "\n",
    "Using ```delattr()``` function"
   ]
  },
  {
   "cell_type": "code",
   "execution_count": 19,
   "metadata": {},
   "outputs": [
    {
     "name": "stdout",
     "output_type": "stream",
     "text": [
      "10\n",
      "Attribute 'x' has been deleted.\n"
     ]
    }
   ],
   "source": [
    "class MyClass:\n",
    "        def __init__(self, x, y):\n",
    "            self.x = x\n",
    "            self.y = y\n",
    "\n",
    "obj = MyClass(10, 20)\n",
    "print(obj.x)  # Output: 10\n",
    "\n",
    "delattr(obj, 'x')\n",
    "\n",
    "try:\n",
    "    print(obj.x)\n",
    "except AttributeError:\n",
    "     print(\"Attribute 'x' has been deleted.\")\n",
    "\n",
    "    "
   ]
  },
  {
   "cell_type": "markdown",
   "metadata": {},
   "source": [
    "Using ```del```"
   ]
  },
  {
   "cell_type": "code",
   "execution_count": 22,
   "metadata": {},
   "outputs": [
    {
     "name": "stdout",
     "output_type": "stream",
     "text": [
      "20\n",
      "attribute y deleted \n"
     ]
    }
   ],
   "source": [
    "print(obj.y)\n",
    "del obj.y\n",
    "\n",
    "try:\n",
    "    print(obj.y)\n",
    "except AttributeError:\n",
    "    print(f\"attribute y deleted \")"
   ]
  },
  {
   "cell_type": "markdown",
   "metadata": {},
   "source": [
    "2. Deleting Objects:\n",
    "\n",
    "```del``` keyword:\n",
    "* The del keyword is used to delete an object (or any variable) from memory.\n",
    "* When you delete an object, Python's garbage collector will eventually reclaim the memory it occupied, if there are no remaining references to it."
   ]
  },
  {
   "cell_type": "code",
   "execution_count": 23,
   "metadata": {},
   "outputs": [
    {
     "name": "stdout",
     "output_type": "stream",
     "text": [
      "<__main__.MyClass object at 0x0000018F088A63F0>\n",
      "Object 'obj' has been deleted.\n"
     ]
    }
   ],
   "source": [
    "class MyClass:\n",
    "        def __init__(self, x):\n",
    "            self.x = x\n",
    "\n",
    "obj = MyClass(30)\n",
    "print(obj) #output: <__main__.MyClass object at 0x...>\n",
    "\n",
    "del obj\n",
    "\n",
    "try:\n",
    "    print(obj)\n",
    "except NameError:\n",
    "     print(\"Object 'obj' has been deleted.\")"
   ]
  },
  {
   "cell_type": "markdown",
   "metadata": {},
   "source": [
    "**Important Considerations:**\n",
    "\n",
    "* When you delete an attribute, you're removing it from that specific object instance. Other instances of the same class will not be affected.\n",
    "* When you delete an object, you're removing the variable that referenced that object. If other variables also reference the same object, the object itself will not be immediately destroyed.\n",
    "* Python's garbage collector automatically handles memory management, so you don't always need to explicitly delete objects. However, in certain situations, such as when dealing with large objects or external resources, explicitly deleting objects can be useful.\n",
    "* using del on a object, does not mean that the object is instantly removed from memory. Python's garbage collection system will remove the object when it determines that it is no longer needed."
   ]
  }
 ],
 "metadata": {
  "kernelspec": {
   "display_name": "py101",
   "language": "python",
   "name": "python3"
  },
  "language_info": {
   "codemirror_mode": {
    "name": "ipython",
    "version": 3
   },
   "file_extension": ".py",
   "mimetype": "text/x-python",
   "name": "python",
   "nbconvert_exporter": "python",
   "pygments_lexer": "ipython3",
   "version": "3.12.4"
  }
 },
 "nbformat": 4,
 "nbformat_minor": 2
}
