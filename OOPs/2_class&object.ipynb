{
 "cells": [
  {
   "cell_type": "markdown",
   "metadata": {},
   "source": [
    "# Classes and Objects in Python\n",
    "In Object-Oriented Programming, classes and objects are the core building blocks.\n",
    "\n",
    "### What is a Class?\n",
    "A class is a blueprint for creating objects. It defines attributes (variables) and methods (functions) that describe how an object should behave.\n",
    "\n",
    "### What is an Object?\n",
    "An object is an instance of a class. When a class is defined, no memory is allocated until an object is created from it.\n",
    "\n"
   ]
  },
  {
   "cell_type": "markdown",
   "metadata": {},
   "source": [
    "## 1️⃣ Defining a Class in Python\n",
    "We use the class keyword to define a class.\n",
    "\n",
    "\n"
   ]
  },
  {
   "cell_type": "code",
   "execution_count": 4,
   "metadata": {},
   "outputs": [],
   "source": [
    "class MyClass:\n",
    "    # Class attributes (variables shared by all instances)\n",
    "    class_variable = \"This is a class variable\"\n",
    "\n",
    "    # Constructor (initializer)\n",
    "    def __init__(self, attribute1, attribute2):\n",
    "        # Instance attributes (variables unique to each instance)\n",
    "        self.attribute1 = attribute1\n",
    "        self.attribute2 = attribute2\n",
    "\n",
    "    # Instance methods (functions that operate on instance data)\n",
    "    def my_method(self):\n",
    "        return f\"Attribute 1: {self.attribute1}, Attribute 2: {self.attribute2}\"\n",
    "\n",
    "    def another_method(self, value):\n",
    "        return self.attribute2 + value"
   ]
  },
  {
   "cell_type": "markdown",
   "metadata": {},
   "source": [
    "* ```class MyClass```:: This line defines a class named ```MyClass```. Class names typically follow the ```CamelCase``` convention.\n",
    "* ``` class_variable ``` : This is a class attribute, a variable shared by all instances of the class.\n",
    "* ```__init__(self, ...)```: This is the constructor method. It's called automatically when an object of the class is created.\n",
    "* * ```self```: A reference to the current instance of the class. It's the first parameter of all instance methods.\n",
    "* * ```attribute1```, ``` attribute2```: Parameters used to initialize instance attributes.\n",
    "* ```self.attribute1```, ```self.attribute2```: These are instance attributes, variables that are unique to each object created from the class.\n",
    "* ``` my_method(self)```, ```another_method(self, value)```: These are instance methods, functions that can operate on the instance's attributes."
   ]
  },
  {
   "cell_type": "markdown",
   "metadata": {},
   "source": [
    "## 2️⃣ Creating an Object (Instance of a Class)\n"
   ]
  },
  {
   "cell_type": "code",
   "execution_count": 5,
   "metadata": {},
   "outputs": [],
   "source": [
    "# Create an object of MyClass\n",
    "obj1 = MyClass(\"value1\", 10)\n",
    "obj2 = MyClass(\"value2\", 20)"
   ]
  },
  {
   "cell_type": "markdown",
   "metadata": {},
   "source": [
    "* ```obj1 = MyClass(\"value1\", 10)```: This creates an object named``` obj1``` of the ```MyClass``` type, passing ```\"value1\"``` and ```10 ```as arguments to the constructor.\n",
    "* ```obj2 = MyClass(\"value2\", 20)```: This creates another object named ```obj2 ```with different initial values."
   ]
  },
  {
   "cell_type": "markdown",
   "metadata": {},
   "source": [
    "## 3️⃣  Accessing Attributes and Methods:"
   ]
  },
  {
   "cell_type": "code",
   "execution_count": null,
   "metadata": {},
   "outputs": [
    {
     "name": "stdout",
     "output_type": "stream",
     "text": [
      "value1\n",
      "20\n",
      "Attribute 1: value1, Attribute 2: 10\n",
      "25\n",
      "This is a class variable\n"
     ]
    }
   ],
   "source": [
    "# Access instance attributes\n",
    "print(obj1.attribute1) \n",
    "print(obj2.attribute2)  \n",
    "\n",
    "# Call instance methods\n",
    "print(obj1.my_method())  \n",
    "print(obj2.another_method(5)) \n",
    "print(MyClass.class_variable) "
   ]
  },
  {
   "cell_type": "markdown",
   "metadata": {},
   "source": [
    "## 4️⃣ Deleting attribute and object"
   ]
  }
 ],
 "metadata": {
  "kernelspec": {
   "display_name": "py101",
   "language": "python",
   "name": "python3"
  },
  "language_info": {
   "codemirror_mode": {
    "name": "ipython",
    "version": 3
   },
   "file_extension": ".py",
   "mimetype": "text/x-python",
   "name": "python",
   "nbconvert_exporter": "python",
   "pygments_lexer": "ipython3",
   "version": "3.12.4"
  }
 },
 "nbformat": 4,
 "nbformat_minor": 2
}
