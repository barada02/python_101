{
 "cells": [
  {
   "cell_type": "markdown",
   "metadata": {},
   "source": [
    "# Inheritance in Python\n",
    "\n",
    "Inheritance is a core concept in Object-Oriented Programming (OOP) that allows a class to inherit properties and behaviors from another class. It helps in code reuse and follows a hierarchical structure.\n",
    "\n",
    "### 1️⃣ What is Inheritance?\n",
    "✅ Inheritance allows a child class to acquire attributes and methods from a parent class.<br>\n",
    "✅ The parent class is also called the superclass, and the child class is called the subclass.<br>\n",
    "✅ The child class can override or extend the parent class's behavior.<br>"
   ]
  }
 ],
 "metadata": {
  "language_info": {
   "name": "python"
  }
 },
 "nbformat": 4,
 "nbformat_minor": 2
}
