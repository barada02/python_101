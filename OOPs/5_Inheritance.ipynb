{
 "cells": [
  {
   "cell_type": "markdown",
   "metadata": {},
   "source": [
    "## **🔹 Content**\n",
    "✅ **Inheritance** allows a child class to inherit attributes and methods from a parent class.  \n",
    "✅ **Single Inheritance**: One child inherits from one parent.  \n",
    "✅ **Multiple Inheritance**: One child inherits from multiple parents.  \n",
    "✅ **Multilevel Inheritance**: Parent → Child → Grandchild.  \n",
    "✅ **Hierarchical Inheritance**: One parent, multiple children.  \n",
    "✅ **Method Overriding**: Child class modifies parent method behavior.  \n",
    "✅ **`super()`** is used to call the parent class’s methods.  \n",
    "✅ **Hybrid Inheritance** combines multiple types of inheritance."
   ]
  },
  {
   "cell_type": "markdown",
   "metadata": {},
   "source": [
    "# Inheritance in Python\n",
    "\n",
    "Inheritance is a core concept in Object-Oriented Programming (OOP) that allows a class to inherit properties and behaviors from another class. It helps in code reuse and follows a hierarchical structure.\n",
    "\n",
    "### 1️⃣ What is Inheritance?\n",
    "✅ Inheritance allows a child class to acquire attributes and methods from a parent class.<br>\n",
    "✅ The parent class is also called the superclass, and the child class is called the subclass.<br>\n",
    "✅ The child class can override or extend the parent class's behavior.<br>"
   ]
  },
  {
   "cell_type": "markdown",
   "metadata": {},
   "source": [
    "\n",
    "## **2️⃣ Types of Inheritance in Python**  \n",
    "Python supports different types of inheritance:  \n",
    "\n",
    "| Type | Description |\n",
    "|------|-------------|\n",
    "| **Single Inheritance** | One child inherits from one parent |\n",
    "| **Multiple Inheritance** | A child inherits from multiple parents |\n",
    "| **Multilevel Inheritance** | A child inherits from a parent, which itself is a child of another class |\n",
    "| **Hierarchical Inheritance** | Multiple children inherit from the same parent |\n",
    "| **Hybrid Inheritance** | A combination of multiple inheritance types |\n",
    "\n",
    "---\n"
   ]
  },
  {
   "cell_type": "markdown",
   "metadata": {},
   "source": [
    "## **3️⃣ Single Inheritance** (One Parent, One Child)\n",
    "The simplest form of inheritance.\n"
   ]
  },
  {
   "cell_type": "code",
   "execution_count": null,
   "metadata": {},
   "outputs": [
    {
     "name": "stdout",
     "output_type": "stream",
     "text": [
      "Buddy\n",
      "Woof! Woof!\n"
     ]
    }
   ],
   "source": [
    "class Animal:\n",
    "    def __init__(self, name):\n",
    "        self.name = name\n",
    "\n",
    "    def speak(self):\n",
    "        return \"I make sounds\"\n",
    "\n",
    "# Child class inheriting from Animal\n",
    "class Dog(Animal):\n",
    "    def speak(self):\n",
    "        return \"Woof! Woof!\"\n",
    "\n",
    "# Creating objects\n",
    "dog1 = Dog(\"Buddy\")\n",
    "print(dog1.name)    \n",
    "print(dog1.speak())    "
   ]
  },
  {
   "cell_type": "markdown",
   "metadata": {},
   "source": [
    "\n",
    "✔️ **The `Dog` class inherits the `name` attribute** from `Animal`.  \n",
    "✔️ **The `speak()` method is overridden** in `Dog`.  \n",
    "\n",
    "---"
   ]
  },
  {
   "cell_type": "markdown",
   "metadata": {},
   "source": [
    "## **4️⃣ Multiple Inheritance** (One Child, Multiple Parents)\n",
    "A child class inherits from multiple parent classes.\n",
    "\n"
   ]
  },
  {
   "cell_type": "code",
   "execution_count": null,
   "metadata": {},
   "outputs": [
    {
     "name": "stdout",
     "output_type": "stream",
     "text": [
      "Buddy\n",
      "I can walk\n",
      "Woof!\n"
     ]
    }
   ],
   "source": [
    "# Parent class 1\n",
    "class Animal:\n",
    "    def __init__(self, name):\n",
    "        self.name = name\n",
    "\n",
    "# Parent class 2\n",
    "class Walker:\n",
    "    def walk(self):\n",
    "        return \"I can walk\"\n",
    "\n",
    "# Child class inheriting from both Animal and Walker\n",
    "class Dog(Animal, Walker):\n",
    "    def speak(self):\n",
    "        return \"Woof!\"\n",
    "\n",
    "dog1 = Dog(\"Buddy\")\n",
    "print(dog1.name)    \n",
    "print(dog1.walk())  \n",
    "print(dog1.speak()) "
   ]
  },
  {
   "cell_type": "markdown",
   "metadata": {},
   "source": [
    "✔️ The `Dog` class **inherits from both `Animal` and `Walker`**.\n",
    "\n",
    "---"
   ]
  },
  {
   "cell_type": "markdown",
   "metadata": {},
   "source": [
    "## **5️⃣ Multilevel Inheritance** (Parent → Child → Grandchild)\n",
    "A child class inherits from another child class.\n"
   ]
  },
  {
   "cell_type": "code",
   "execution_count": null,
   "metadata": {},
   "outputs": [
    {
     "name": "stdout",
     "output_type": "stream",
     "text": [
      "Buddy\n",
      "True\n",
      "Woof!\n"
     ]
    }
   ],
   "source": [
    "# Base class (Parent)\n",
    "class Animal:\n",
    "    def __init__(self, name):\n",
    "        self.name = name\n",
    "\n",
    "# Intermediate class (Child of Animal)\n",
    "class Mammal(Animal):\n",
    "    def has_fur(self):\n",
    "        return True\n",
    "\n",
    "# Derived class (Child of Mammal)\n",
    "class Dog(Mammal):\n",
    "    def speak(self):\n",
    "        return \"Woof!\"\n",
    "\n",
    "dog1 = Dog(\"Buddy\")\n",
    "print(dog1.name)     \n",
    "print(dog1.has_fur())\n",
    "print(dog1.speak())  "
   ]
  },
  {
   "cell_type": "markdown",
   "metadata": {},
   "source": [
    "✔️ `Dog` inherits from `Mammal`, which in turn inherits from `Animal`.  \n",
    "✔️ A class can **inherit features across multiple levels**.\n",
    "\n",
    "---"
   ]
  },
  {
   "cell_type": "markdown",
   "metadata": {},
   "source": [
    "## **6️⃣ Hierarchical Inheritance** (One Parent, Multiple Children)\n",
    "A parent class has multiple child classes."
   ]
  },
  {
   "cell_type": "code",
   "execution_count": null,
   "metadata": {},
   "outputs": [
    {
     "name": "stdout",
     "output_type": "stream",
     "text": [
      "Woof!\n",
      "Meow!\n"
     ]
    }
   ],
   "source": [
    "# Parent class\n",
    "class Animal:\n",
    "    def speak(self):\n",
    "        return \"I make sounds\"\n",
    "\n",
    "# Child classes\n",
    "class Dog(Animal):\n",
    "    def speak(self):\n",
    "        return \"Woof!\"\n",
    "\n",
    "class Cat(Animal):\n",
    "    def speak(self):\n",
    "        return \"Meow!\"\n",
    "\n",
    "dog1 = Dog()\n",
    "cat1 = Cat()\n",
    "\n",
    "print(dog1.speak()) \n",
    "print(cat1.speak()) "
   ]
  },
  {
   "cell_type": "markdown",
   "metadata": {},
   "source": [
    "✔️ Both `Dog` and `Cat` **inherit from `Animal`** but **override** the `speak()` method.\n",
    "\n",
    "---"
   ]
  },
  {
   "cell_type": "markdown",
   "metadata": {},
   "source": [
    "## **7️⃣ Method Overriding (Modifying Parent Methods)**\n",
    "When a child class has a method with the **same name** as its parent, the child class method **overrides** the parent method.\n",
    "\n"
   ]
  },
  {
   "cell_type": "code",
   "execution_count": null,
   "metadata": {},
   "outputs": [
    {
     "name": "stdout",
     "output_type": "stream",
     "text": [
      "Woof!\n"
     ]
    }
   ],
   "source": [
    "class Animal:\n",
    "    def speak(self):\n",
    "        return \"I make sounds\"\n",
    "\n",
    "class Dog(Animal):\n",
    "    def speak(self):\n",
    "        return \"Woof!\"\n",
    "\n",
    "dog1 = Dog()\n",
    "print(dog1.speak()) "
   ]
  },
  {
   "cell_type": "markdown",
   "metadata": {},
   "source": [
    "✔️ The `Dog` class overrides the `speak()` method from `Animal`.\n",
    "\n",
    "---"
   ]
  },
  {
   "cell_type": "markdown",
   "metadata": {},
   "source": [
    "## **8️⃣ Using `super()` to Call Parent Methods**\n",
    "The `super()` function allows calling the **parent class’s method** inside the child class.\n",
    "\n",
    "\n"
   ]
  },
  {
   "cell_type": "code",
   "execution_count": null,
   "metadata": {},
   "outputs": [
    {
     "name": "stdout",
     "output_type": "stream",
     "text": [
      "I make sounds but I say Woof!\n"
     ]
    }
   ],
   "source": [
    "class Animal:\n",
    "    def speak(self):\n",
    "        return \"I make sounds\"\n",
    "\n",
    "class Dog(Animal):\n",
    "    def speak(self):\n",
    "        return super().speak() + \" but I say Woof!\"\n",
    "\n",
    "dog1 = Dog()\n",
    "print(dog1.speak()) "
   ]
  },
  {
   "cell_type": "markdown",
   "metadata": {},
   "source": [
    "✔️ `super().speak()` calls the `speak()` method from `Animal` and extends it.\n",
    "\n",
    "---"
   ]
  },
  {
   "cell_type": "markdown",
   "metadata": {},
   "source": [
    "## **9️⃣ Hybrid Inheritance (Combination of Types)**\n",
    "A mix of multiple inheritance forms."
   ]
  },
  {
   "cell_type": "code",
   "execution_count": 7,
   "metadata": {},
   "outputs": [
    {
     "name": "stdout",
     "output_type": "stream",
     "text": [
      "Method from A\n",
      "Method from B\n",
      "Method from C\n",
      "Method from D\n"
     ]
    }
   ],
   "source": [
    "class A:\n",
    "    def method_A(self):\n",
    "        return \"Method from A\"\n",
    "\n",
    "class B(A):\n",
    "    def method_B(self):\n",
    "        return \"Method from B\"\n",
    "\n",
    "class C(A):\n",
    "    def method_C(self):\n",
    "        return \"Method from C\"\n",
    "\n",
    "class D(B, C):\n",
    "    def method_D(self):\n",
    "        return \"Method from D\"\n",
    "\n",
    "obj = D()\n",
    "print(obj.method_A())  # ✅ Inherited from A\n",
    "print(obj.method_B())  # ✅ Inherited from B\n",
    "print(obj.method_C())  # ✅ Inherited from C\n",
    "print(obj.method_D())  # ✅ Defined in D"
   ]
  },
  {
   "cell_type": "markdown",
   "metadata": {},
   "source": [
    "✔️ `D` inherits from both `B` and `C`, which both inherit from `A`.  \n",
    "✔️ **Python follows the Method Resolution Order (MRO)** to handle such cases.\n",
    "\n",
    "---"
   ]
  }
 ],
 "metadata": {
  "kernelspec": {
   "display_name": "py101",
   "language": "python",
   "name": "python3"
  },
  "language_info": {
   "codemirror_mode": {
    "name": "ipython",
    "version": 3
   },
   "file_extension": ".py",
   "mimetype": "text/x-python",
   "name": "python",
   "nbconvert_exporter": "python",
   "pygments_lexer": "ipython3",
   "version": "3.12.4"
  }
 },
 "nbformat": 4,
 "nbformat_minor": 2
}
