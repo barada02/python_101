{
 "cells": [
  {
   "cell_type": "markdown",
   "metadata": {},
   "source": [
    "# **Class Methods and Static Methods in Python**  \n",
    "\n",
    "Python provides two special types of methods in **Object-Oriented Programming (OOP):**  \n",
    "✅ `@classmethod` → Works with the **class** instead of instances.  \n",
    "✅ `@staticmethod` → Doesn't depend on the class or instance.\n",
    "\n",
    "---"
   ]
  },
  {
   "cell_type": "markdown",
   "metadata": {},
   "source": [
    "\n",
    "## **1️⃣ Understanding `@classmethod`**  \n",
    "A **class method** is a method that operates on the **class itself** rather than on instances.  \n",
    "✔️ Defined using the `@classmethod` decorator.  \n",
    "✔️ The **first parameter** is always `cls`, which represents the class.  \n",
    "✔️ Used when a method needs **access to class attributes** or **modifies class-level data**."
   ]
  },
  {
   "cell_type": "markdown",
   "metadata": {},
   "source": [
    "### **Example: Class Method to Track Total Objects Created**"
   ]
  },
  {
   "cell_type": "code",
   "execution_count": 1,
   "metadata": {},
   "outputs": [
    {
     "name": "stdout",
     "output_type": "stream",
     "text": [
      "Total animals created: 2\n"
     ]
    }
   ],
   "source": [
    "class Animal:\n",
    "    count = 0  # Class variable\n",
    "\n",
    "    def __init__(self, name):\n",
    "        self.name = name\n",
    "        Animal.count += 1  # Increment count for every object\n",
    "\n",
    "    @classmethod\n",
    "    def total_animals(cls):\n",
    "        return f\"Total animals created: {cls.count}\"\n",
    "\n",
    "# Creating objects\n",
    "a1 = Animal(\"Dog\")\n",
    "a2 = Animal(\"Cat\")\n",
    "\n",
    "print(Animal.total_animals())"
   ]
  },
  {
   "cell_type": "markdown",
   "metadata": {},
   "source": [
    "✔️ `total_animals()` operates on the **class variable `count`** rather than an instance.  \n",
    "✔️ Can be called on **both the class (`Animal.total_animals()`) and instances (`a1.total_animals()`)**.\n",
    "\n",
    "---"
   ]
  },
  {
   "cell_type": "markdown",
   "metadata": {},
   "source": [
    "## **2️⃣ Understanding `@staticmethod`**  \n",
    "A **static method** is independent of both **instances and the class itself**.  \n",
    "✔️ Defined using the `@staticmethod` decorator.  \n",
    "✔️ Does **not take `self` or `cls`** as a parameter.  \n",
    "✔️ Used when a method performs a task that **does not modify the class or instance**.\n",
    "\n",
    "### **Example: Static Method for Utility Function**"
   ]
  },
  {
   "cell_type": "code",
   "execution_count": 2,
   "metadata": {},
   "outputs": [
    {
     "name": "stdout",
     "output_type": "stream",
     "text": [
      "8\n"
     ]
    }
   ],
   "source": [
    "class MathUtils:\n",
    "    @staticmethod\n",
    "    def add(x, y):\n",
    "        return x + y  # Simple addition function\n",
    "\n",
    "print(MathUtils.add(5, 3))  # ✅ 8"
   ]
  },
  {
   "cell_type": "markdown",
   "metadata": {},
   "source": [
    "✔️ The `add()` method **does not use class attributes or methods**, so it is static.  \n",
    "✔️ Can be called **without creating an instance** (`MathUtils.add(5, 3)`).  \n",
    "\n",
    "---"
   ]
  },
  {
   "cell_type": "markdown",
   "metadata": {},
   "source": [
    "## **3️⃣ Difference Between `@classmethod` and `@staticmethod`**\n",
    "| Feature | `@classmethod` | `@staticmethod` |\n",
    "|---------|--------------|----------------|\n",
    "| Takes `cls` as the first parameter? | ✅ Yes | ❌ No |\n",
    "| Can modify class variables? | ✅ Yes | ❌ No |\n",
    "| Can access instance (`self`) variables? | ❌ No | ❌ No |\n",
    "| Independent utility function? | ❌ No | ✅ Yes |\n",
    "| Example Use Case | Factory methods, alternative constructors | Helper functions, mathematical operations |\n",
    "\n",
    "---"
   ]
  },
  {
   "cell_type": "markdown",
   "metadata": {},
   "source": [
    "## **4️⃣ Example: Creating a Factory Method using `@classmethod`**  \n",
    "A **factory method** is a class method that returns an instance of the class.\n",
    "\n",
    "### **Example: Factory Method for Creating Objects from a String**\n"
   ]
  },
  {
   "cell_type": "code",
   "execution_count": 3,
   "metadata": {},
   "outputs": [
    {
     "name": "stdout",
     "output_type": "stream",
     "text": [
      "Alice 30\n"
     ]
    }
   ],
   "source": [
    "class Person:\n",
    "    def __init__(self, name, age):\n",
    "        self.name = name\n",
    "        self.age = age\n",
    "\n",
    "    @classmethod\n",
    "    def from_string(cls, data):\n",
    "        name, age = data.split('-')\n",
    "        return cls(name, int(age))  # Creating an instance\n",
    "\n",
    "p1 = Person.from_string(\"Alice-30\")  # ✅ Factory method used\n",
    "print(p1.name, p1.age)  # ✅ Alice 30"
   ]
  },
  {
   "cell_type": "markdown",
   "metadata": {},
   "source": [
    "✔️ The `from_string()` method **parses a string and creates a new object**.  \n",
    "✔️ Calls `cls(name, age)`, making it flexible if the class changes later.  \n",
    "\n",
    "---"
   ]
  },
  {
   "cell_type": "markdown",
   "metadata": {},
   "source": [
    "\n",
    "\n",
    "\n",
    "\n",
    "\n",
    "\n",
    "\n",
    "\n",
    "\n",
    "\n",
    "## **5️⃣ Summary: When to Use Each?**\n",
    "✅ Use `@classmethod` when a method **needs to access class variables or modify class-level data**.  \n",
    "✅ Use `@staticmethod` when a method **is a utility function that doesn’t depend on the class or instance**.  \n",
    "\n",
    "---\n",
    "\n",
    "## **🔜 Next Step: Step 10 - OOP Best Practices and Design Patterns**  \n",
    "In the next step, we will cover **SOLID principles, design patterns, and best practices** to write **clean, scalable OOP code**.  \n",
    "\n",
    "Are you ready for Step 10? 🚀😊"
   ]
  }
 ],
 "metadata": {
  "kernelspec": {
   "display_name": "py101",
   "language": "python",
   "name": "python3"
  },
  "language_info": {
   "codemirror_mode": {
    "name": "ipython",
    "version": 3
   },
   "file_extension": ".py",
   "mimetype": "text/x-python",
   "name": "python",
   "nbconvert_exporter": "python",
   "pygments_lexer": "ipython3",
   "version": "3.12.4"
  }
 },
 "nbformat": 4,
 "nbformat_minor": 2
}
